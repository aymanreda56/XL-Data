{
 "cells": [
  {
   "cell_type": "code",
   "execution_count": 1,
   "id": "sustained-richmond",
   "metadata": {},
   "outputs": [],
   "source": [
    "from pyspark import SparkContext\n",
    "from pyspark.sql import SparkSession\n",
    "import pyspark.ml\n",
    "from pyspark.ml.regression import LinearRegression\n",
    "from pyspark.ml.feature import VectorAssembler,StringIndexer\n",
    "from pyspark.sql.functions import col\n",
    "\n",
    "import sys; sys.path.append(\"../../\")\n",
    "from DataPreprocessing.DataPreprocessing import read_data,encode_categ_features,remove_useless_col"
   ]
  },
  {
   "attachments": {},
   "cell_type": "markdown",
   "id": "7d96bafd",
   "metadata": {},
   "source": [
    "# Spark session"
   ]
  },
  {
   "cell_type": "code",
   "execution_count": 2,
   "id": "continent-trash",
   "metadata": {},
   "outputs": [],
   "source": [
    "sc = SparkContext(master='local')\n",
    "spark = SparkSession.builder.appName(\"PricePrediction\").getOrCreate()"
   ]
  },
  {
   "attachments": {},
   "cell_type": "markdown",
   "id": "638ae28a",
   "metadata": {},
   "source": [
    "# Read the data"
   ]
  },
  {
   "cell_type": "code",
   "execution_count": 3,
   "id": "handled-basketball",
   "metadata": {},
   "outputs": [
    {
     "data": {
      "text/plain": [
       "[('App Name', 'string'),\n",
       " ('App Id', 'string'),\n",
       " ('Category', 'string'),\n",
       " ('Rating', 'float'),\n",
       " ('Rating Count', 'int'),\n",
       " ('Installs', 'int'),\n",
       " ('Minimum Installs', 'int'),\n",
       " ('Maximum Installs', 'int'),\n",
       " ('Free', 'string'),\n",
       " ('Price', 'float'),\n",
       " ('Size', 'double'),\n",
       " ('Minimum Android', 'string'),\n",
       " ('Developer Id', 'string'),\n",
       " ('Developer Email', 'string'),\n",
       " ('Released', 'string'),\n",
       " ('Last Updated', 'string'),\n",
       " ('Content Rating', 'string'),\n",
       " ('Ad Supported', 'string'),\n",
       " ('In App Purchases', 'string'),\n",
       " ('Editors Choice', 'string')]"
      ]
     },
     "execution_count": 3,
     "metadata": {},
     "output_type": "execute_result"
    }
   ],
   "source": [
    "df= read_data(spark, features='all')\n",
    "df.dtypes"
   ]
  },
  {
   "cell_type": "code",
   "execution_count": 5,
   "id": "51c276bc",
   "metadata": {},
   "outputs": [
    {
     "data": {
      "text/plain": [
       "[('Category', 'string'),\n",
       " ('Free', 'string'),\n",
       " ('Price', 'float'),\n",
       " ('Released', 'string'),\n",
       " ('Last Updated', 'string'),\n",
       " ('Ad Supported', 'string'),\n",
       " ('In App Purchases', 'string'),\n",
       " ('Editors Choice', 'string')]"
      ]
     },
     "execution_count": 5,
     "metadata": {},
     "output_type": "execute_result"
    }
   ],
   "source": [
    "'''\n",
    "App Name and App Id are useless columns here, so we can remove them safely\n",
    "The Price has a correlation of -0.004 with the max installations, so we must remove it\n",
    "'''\n",
    "useless_cols= ['App Name','App Id','Installs','Maximum Installs','Minimum Installs',\\\n",
    "               'Rating','Rating Count','Size','Content Rating',\\\n",
    "                \"Developer Id\",\"Developer Email\"\n",
    "                ]\n",
    "     \n",
    "df= remove_useless_col(df,useless_cols)\n",
    "df.dtypes"
   ]
  },
  {
   "attachments": {},
   "cell_type": "markdown",
   "id": "happy-aquarium",
   "metadata": {},
   "source": [
    "# Features\n"
   ]
  },
  {
   "cell_type": "code",
   "execution_count": null,
   "id": "c40e60bf",
   "metadata": {},
   "outputs": [],
   "source": [
    "interesting_categ_cols= ['Category', 'Ad Supported', 'In App Purchases', 'Editors Choice',\\\n",
    "                  'Free',\"Minimum Android\",'Released','Last Updated'\n",
    "                    ]\n",
    "df= encode_categ_features(df,interesting_categ_cols)"
   ]
  },
  {
   "cell_type": "code",
   "execution_count": 7,
   "id": "eef5d2fc",
   "metadata": {},
   "outputs": [],
   "source": [
    "label = \"Price\"\n",
    "column_names = df.columns\n",
    "\n",
    "# Remove the column to move from the list of column names\n",
    "column_names.remove(label)\n",
    "\n",
    "# Reorder the list of column names so that the column to move is at the end\n",
    "new_column_order = column_names + [label]\n",
    "\n",
    "df = df.select(*new_column_order).withColumn(label, col(label))"
   ]
  },
  {
   "cell_type": "code",
   "execution_count": 8,
   "id": "outer-james",
   "metadata": {},
   "outputs": [],
   "source": [
    "required_features = df.columns[:-1]      #all except the target variable which is at the last index\n",
    "vec_assembler = VectorAssembler(inputCols=required_features,outputCol='Features')\n",
    "vec_df = vec_assembler.setHandleInvalid(\"skip\").transform(df)"
   ]
  },
  {
   "attachments": {},
   "cell_type": "markdown",
   "id": "circular-treaty",
   "metadata": {},
   "source": [
    "# Splitting the data "
   ]
  },
  {
   "cell_type": "code",
   "execution_count": 9,
   "id": "polished-robin",
   "metadata": {},
   "outputs": [],
   "source": [
    "train_df,test_df = vec_df.select('Features', 'Price').randomSplit([0.8,0.2])"
   ]
  },
  {
   "attachments": {},
   "cell_type": "markdown",
   "id": "2da30148",
   "metadata": {},
   "source": [
    "# Decision Tree Regressor"
   ]
  },
  {
   "cell_type": "code",
   "execution_count": 22,
   "id": "194d0e42",
   "metadata": {},
   "outputs": [
    {
     "name": "stdout",
     "output_type": "stream",
     "text": [
      "r2 on test data = 0.488923\n"
     ]
    }
   ],
   "source": [
    "from pyspark.ml.regression import DecisionTreeRegressor\n",
    "dt = DecisionTreeRegressor(featuresCol ='Features', labelCol = 'Price', maxBins=10000)   #setting a larger maxbins(default=32) is an ad-hoc step just to solve an error I dont understand :)\n",
    "dt_model = dt.fit(train_df)\n",
    "dt_predictions = dt_model.transform(test_df)\n",
    "dt_evaluator = RegressionEvaluator(\n",
    "    labelCol=\"Price\", predictionCol=\"prediction\", metricName=\"r2\")\n",
    "r2 = dt_evaluator.evaluate(dt_predictions)\n",
    "print(\"r2 on test data = %g\" % r2)"
   ]
  },
  {
   "attachments": {},
   "cell_type": "markdown",
   "id": "3a74e232",
   "metadata": {},
   "source": [
    "# Linear Regressor"
   ]
  },
  {
   "cell_type": "code",
   "execution_count": 27,
   "id": "41ad7a70",
   "metadata": {},
   "outputs": [
    {
     "name": "stdout",
     "output_type": "stream",
     "text": [
      "r2 on test data = 0.314452\n"
     ]
    }
   ],
   "source": [
    "from pyspark.ml.regression import LinearRegression\n",
    "lr = LinearRegression(featuresCol='Features',labelCol='Price')\n",
    "lr_model = lr.fit(train_df)\n",
    "lr_predictions = lr_model.transform(test_df)\n",
    "lr_evaluator = RegressionEvaluator(predictionCol=\"prediction\", \\\n",
    "                    labelCol=\"Price\",metricName=\"r2\")\n",
    "r2 = lr_evaluator.evaluate(lr_predictions)\n",
    "print(\"r2 on test data = %g\" % r2)"
   ]
  }
 ],
 "metadata": {
  "kernelspec": {
   "display_name": "Python 3",
   "language": "python",
   "name": "python3"
  },
  "language_info": {
   "codemirror_mode": {
    "name": "ipython",
    "version": 3
   },
   "file_extension": ".py",
   "mimetype": "text/x-python",
   "name": "python",
   "nbconvert_exporter": "python",
   "pygments_lexer": "ipython3",
   "version": "3.10.9"
  }
 },
 "nbformat": 4,
 "nbformat_minor": 5
}
