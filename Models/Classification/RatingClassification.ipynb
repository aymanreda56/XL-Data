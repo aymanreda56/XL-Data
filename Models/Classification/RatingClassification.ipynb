{
 "cells": [
  {
   "cell_type": "code",
   "execution_count": 1,
   "metadata": {},
   "outputs": [],
   "source": [
    "import pandas as pd\n",
    "import numpy as np\n",
    "from sklearn.model_selection import train_test_split\n",
    "from sklearn.metrics import classification_report\n",
    "from sklearn import svm\n",
    "from utils import read_data, hyperparameter_search\n",
    "from scipy.stats import loguniform"
   ]
  },
  {
   "attachments": {},
   "cell_type": "markdown",
   "metadata": {},
   "source": [
    "## Read the data"
   ]
  },
  {
   "cell_type": "code",
   "execution_count": 2,
   "metadata": {},
   "outputs": [
    {
     "name": "stderr",
     "output_type": "stream",
     "text": [
      "f:\\Fourth Year 2nd term\\Big Data\\XL-Data\\Models\\Classification\\utils.py:7: DtypeWarning: Columns (3,4,5,6,7,8,17,18,19) have mixed types. Specify dtype option on import or set low_memory=False.\n",
      "  df= pd.read_csv('../../Dataset/Preprocessed_data.csv', on_bad_lines='skip')\n"
     ]
    }
   ],
   "source": [
    "df= read_data()"
   ]
  },
  {
   "cell_type": "code",
   "execution_count": 3,
   "metadata": {},
   "outputs": [],
   "source": [
    "# drop App Name, App Id, Price, Size \n",
    "df.drop(['App Name', 'App Id', 'Price', 'Size'], axis=1, inplace=True)"
   ]
  },
  {
   "attachments": {},
   "cell_type": "markdown",
   "metadata": {},
   "source": [
    "## Splitting the data"
   ]
  },
  {
   "cell_type": "code",
   "execution_count": 4,
   "metadata": {},
   "outputs": [],
   "source": [
    "X= df.drop('Rating', axis=1)\n",
    "y= df['Rating']\n",
    "X_train, X_test, y_train, y_test= train_test_split(X, y, test_size=0.2)"
   ]
  },
  {
   "attachments": {},
   "cell_type": "markdown",
   "metadata": {},
   "source": [
    "## Hyperparameter search"
   ]
  },
  {
   "cell_type": "code",
   "execution_count": 5,
   "metadata": {},
   "outputs": [],
   "source": [
    "# hyperparameters= { 'C': loguniform(10e-1, 1e4),\\\n",
    "#                   'kernel': ['linear' ] }\n",
    "#                 #   'gamma':  np.linspace(0.0001, 1),\\\n",
    "\n",
    "# optimal_hyperparameters= hyperparameter_search(hyperparameters, svm.SVC(), X_train, y_train)\n",
    "# print(optimal_hyperparameters)"
   ]
  },
  {
   "attachments": {},
   "cell_type": "markdown",
   "metadata": {},
   "source": [
    "## Model training & evaluation"
   ]
  },
  {
   "cell_type": "code",
   "execution_count": 8,
   "metadata": {},
   "outputs": [
    {
     "name": "stdout",
     "output_type": "stream",
     "text": [
      "              precision    recall  f1-score   support\n",
      "\n",
      "           0       0.98      0.96      0.97      3592\n",
      "           1       0.00      0.00      0.00        41\n",
      "           2       0.07      0.05      0.06       174\n",
      "           3       0.24      0.18      0.21       710\n",
      "           4       0.55      0.66      0.60      1704\n",
      "           5       0.39      0.38      0.38       332\n",
      "\n",
      "    accuracy                           0.74      6553\n",
      "   macro avg       0.37      0.37      0.37      6553\n",
      "weighted avg       0.73      0.74      0.73      6553\n",
      "\n"
     ]
    }
   ],
   "source": [
    "clf= svm.SVC(kernel='rbf',gamma=0.3, C=100)\n",
    "clf.fit(X_train, y_train)\n",
    "y_pred= clf.predict(X_test)\n",
    "print(classification_report(y_test, y_pred))"
   ]
  }
 ],
 "metadata": {
  "kernelspec": {
   "display_name": "Python 3",
   "language": "python",
   "name": "python3"
  },
  "language_info": {
   "codemirror_mode": {
    "name": "ipython",
    "version": 3
   },
   "file_extension": ".py",
   "mimetype": "text/x-python",
   "name": "python",
   "nbconvert_exporter": "python",
   "pygments_lexer": "ipython3",
   "version": "3.10.9"
  },
  "orig_nbformat": 4
 },
 "nbformat": 4,
 "nbformat_minor": 2
}
