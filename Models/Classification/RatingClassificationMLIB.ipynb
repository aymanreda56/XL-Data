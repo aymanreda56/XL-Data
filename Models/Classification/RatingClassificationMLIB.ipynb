{
 "cells": [
  {
   "cell_type": "code",
   "execution_count": 18,
   "metadata": {},
   "outputs": [],
   "source": [
    "import pandas as pd\n",
    "import numpy as np\n",
    "from sklearn.model_selection import train_test_split\n",
    "from sklearn.metrics import classification_report\n",
    "from sklearn import svm\n",
    "from utils import read_data, hyperparameter_search, encode, decode, floor_col\n",
    "from scipy.stats import loguniform\n",
    "from pyspark.ml.feature import VectorAssembler\n",
    "from pyspark.ml.classification import RandomForestClassifier\n",
    "from pyspark.ml.evaluation import MulticlassClassificationEvaluator\n",
    "from pyspark.sql.functions import col\n",
    "\n",
    "import sys\n",
    "sys.path.append('../../DataPreprocessing')\n",
    "import DataPreprocessing"
   ]
  },
  {
   "cell_type": "code",
   "execution_count": 2,
   "metadata": {},
   "outputs": [],
   "source": [
    "from pyspark.sql import SparkSession\n",
    "\n",
    "spark = SparkSession.builder \\\n",
    "    .master(\"local[1]\") \\\n",
    "    .appName(\"aymon\") \\\n",
    "    .getOrCreate()\n"
   ]
  },
  {
   "cell_type": "code",
   "execution_count": 3,
   "metadata": {},
   "outputs": [],
   "source": [
    "df = DataPreprocessing.read_data(spark,file_name='../../Google-Playstore.csv', absolute_csv_path=True)\n",
    "df= DataPreprocessing.convert_size_to_bytes(df)\n",
    "df = DataPreprocessing.remove_useless_col(df, ['Scraped time', 'App Name', 'App Id', 'Minimum Installs', 'Maximum Installs', 'Currency', 'Developer Email'\\\n",
    "                                               , 'Developer Id'])\n",
    "#developer Id might be beneficial, but it is a nominal categorized feature, we cannot grasp its potential, rather we can make another feature\n",
    "#as number of apps developed for each developer\n"
   ]
  },
  {
   "cell_type": "code",
   "execution_count": 4,
   "metadata": {},
   "outputs": [],
   "source": [
    "#DataPreprocessing.show_nulls(df)"
   ]
  },
  {
   "cell_type": "code",
   "execution_count": 5,
   "metadata": {},
   "outputs": [
    {
     "name": "stdout",
     "output_type": "stream",
     "text": [
      "Total Number of rows : 2237972\n",
      "Number of rows after dropping nulls: 2183417\n",
      "Total Number of rows : 2183417\n",
      "+-----------------+------+------------+--------+-----+-----+---------------+------------+------------+--------------+--------------+-----------------+------------+----------------+--------------+----+\n",
      "|         Category|Rating|Rating Count|Installs|Price| Size|Minimum Android|    Released|Last Updated|Content Rating|Privacy Policy|Developer Website|Ad Supported|In App Purchases|Editors Choice|Free|\n",
      "+-----------------+------+------------+--------+-----+-----+---------------+------------+------------+--------------+--------------+-----------------+------------+----------------+--------------+----+\n",
      "|  Personalization|   4.7|         820|   50000|  0.0|  3.5|     4.1 and up|Sep 22, 2019|Oct 07, 2020|      Everyone|          true|             true|        true|           false|         false|true|\n",
      "|   Travel & Local|   3.7|        1572|   10000|  0.0|2.9E7|     4.2 and up| Sep 5, 2018|May 30, 2020|      Everyone|          true|             true|       false|           false|         false|true|\n",
      "|        Lifestyle|   3.7|         328|   10000|  0.0|7.0E7|     4.1 and up| Jul 1, 2020|May 26, 2021|      Everyone|          true|            false|       false|           false|         false|true|\n",
      "|           Puzzle|   4.4|         211|   10000|  0.0|1.6E7|     5.0 and up|Mar 13, 2020|May 11, 2020|      Everyone|          true|             true|        true|            true|         false|true|\n",
      "|    Entertainment|   3.8|         736|  500000|  0.0|2.0E7|     5.0 and up|Apr 21, 2019|Nov 13, 2020|      Everyone|          true|             true|        true|           false|         false|true|\n",
      "|Maps & Navigation|   2.3|         420|   50000|  0.0|  2.6|     4.0 and up| Nov 6, 2013|Jun 06, 2017|      Everyone|          true|             true|        true|           false|         false|true|\n",
      "|            Tools|   2.7|         420|   50000|  0.0|  4.9|     4.1 and up|Jun 28, 2013|Jan 14, 2020|      Everyone|          true|             true|        true|           false|         false|true|\n",
      "|           Sports|   4.4|        2781|  100000|  0.0|3.8E7|     2.1 and up|Apr 27, 2013|Mar 21, 2015|      Everyone|         false|             true|        true|            true|         false|true|\n",
      "|        Lifestyle|   4.3|         266|   10000|  0.0|  7.1|     4.0 and up|Oct 24, 2015|Apr 16, 2016|      Everyone|          true|             true|       false|            true|         false|true|\n",
      "|Books & Reference|   4.1|         337|  100000|  0.0|2.4E7|   4.0.3 and up|Apr 14, 2012|May 16, 2020|      Everyone|          true|             true|        true|            true|         false|true|\n",
      "+-----------------+------+------------+--------+-----+-----+---------------+------------+------------+--------------+--------------+-----------------+------------+----------------+--------------+----+\n",
      "only showing top 10 rows\n",
      "\n"
     ]
    }
   ],
   "source": [
    "\n",
    "uninteresting_cols= ['Minimum Android','Size','Installs','Price','Ad Supported','In App Purchases', 'Released', 'Last Updated']\n",
    "df=DataPreprocessing.handle_missing_values(df,cols=uninteresting_cols)\n",
    "interesting_num_cols=['Rating','Rating Count', 'Installs']\n",
    "df= DataPreprocessing.handle_missing_values(df, handling_method='mean', cols=interesting_num_cols)\n",
    "df = DataPreprocessing.binarize_col(df, cols=['Privacy Policy', 'Developer Website'])\n",
    "df = DataPreprocessing.convert_binary_pyspark(df, cols=['Ad Supported', 'In App Purchases', 'Editors Choice', 'Free'])\n",
    "df = df.filter(\"Rating>=1\")\n",
    "df = df.filter(col('Rating Count') >=200)\n",
    "df.show(10)"
   ]
  },
  {
   "cell_type": "code",
   "execution_count": 6,
   "metadata": {},
   "outputs": [
    {
     "name": "stdout",
     "output_type": "stream",
     "text": [
      "root\n",
      " |-- Category: string (nullable = true)\n",
      " |-- Rating: float (nullable = true)\n",
      " |-- Rating Count: integer (nullable = true)\n",
      " |-- Installs: integer (nullable = true)\n",
      " |-- Price: float (nullable = true)\n",
      " |-- Size: float (nullable = true)\n",
      " |-- Minimum Android: string (nullable = true)\n",
      " |-- Released: string (nullable = true)\n",
      " |-- Last Updated: string (nullable = true)\n",
      " |-- Content Rating: string (nullable = true)\n",
      " |-- Privacy Policy: boolean (nullable = false)\n",
      " |-- Developer Website: boolean (nullable = false)\n",
      " |-- Ad Supported: boolean (nullable = false)\n",
      " |-- In App Purchases: boolean (nullable = false)\n",
      " |-- Editors Choice: boolean (nullable = false)\n",
      " |-- Free: boolean (nullable = false)\n",
      "\n"
     ]
    }
   ],
   "source": [
    "df.printSchema()"
   ]
  },
  {
   "cell_type": "code",
   "execution_count": 7,
   "metadata": {},
   "outputs": [
    {
     "name": "stdout",
     "output_type": "stream",
     "text": [
      "Total Number of rows : 267147\n",
      "Number of rows after dropping nulls: 267141\n",
      "+------------+------+\n",
      "|Last Updated| count|\n",
      "+------------+------+\n",
      "|        2021|107641|\n",
      "|        2020| 70608|\n",
      "|        2019| 32809|\n",
      "|        2018| 20270|\n",
      "|        2017| 13441|\n",
      "|        2016|  8978|\n",
      "|        2015|  6490|\n",
      "|        2014|  4109|\n",
      "|        2013|  1913|\n",
      "|        2012|   586|\n",
      "|        2011|   221|\n",
      "|        2010|    73|\n",
      "|        2009|     2|\n",
      "+------------+------+\n",
      "\n",
      "+-----------------+------+------------+--------+-----+-----+---------------+------------+------------+--------------+--------------+-----------------+------------+----------------+--------------+----+\n",
      "|         Category|Rating|Rating Count|Installs|Price| Size|Minimum Android|    Released|Last Updated|Content Rating|Privacy Policy|Developer Website|Ad Supported|In App Purchases|Editors Choice|Free|\n",
      "+-----------------+------+------------+--------+-----+-----+---------------+------------+------------+--------------+--------------+-----------------+------------+----------------+--------------+----+\n",
      "|  Personalization|   4.7|         820|   50000|  0.0|  3.5|     4.1 and up|Sep 22, 2019|        2020|      Everyone|          true|             true|        true|           false|         false|true|\n",
      "|   Travel & Local|   3.7|        1572|   10000|  0.0|2.9E7|     4.2 and up| Sep 5, 2018|        2020|      Everyone|          true|             true|       false|           false|         false|true|\n",
      "|        Lifestyle|   3.7|         328|   10000|  0.0|7.0E7|     4.1 and up| Jul 1, 2020|        2021|      Everyone|          true|            false|       false|           false|         false|true|\n",
      "|           Puzzle|   4.4|         211|   10000|  0.0|1.6E7|     5.0 and up|Mar 13, 2020|        2020|      Everyone|          true|             true|        true|            true|         false|true|\n",
      "|    Entertainment|   3.8|         736|  500000|  0.0|2.0E7|     5.0 and up|Apr 21, 2019|        2020|      Everyone|          true|             true|        true|           false|         false|true|\n",
      "|Maps & Navigation|   2.3|         420|   50000|  0.0|  2.6|     4.0 and up| Nov 6, 2013|        2017|      Everyone|          true|             true|        true|           false|         false|true|\n",
      "|            Tools|   2.7|         420|   50000|  0.0|  4.9|     4.1 and up|Jun 28, 2013|        2020|      Everyone|          true|             true|        true|           false|         false|true|\n",
      "|           Sports|   4.4|        2781|  100000|  0.0|3.8E7|     2.1 and up|Apr 27, 2013|        2015|      Everyone|         false|             true|        true|            true|         false|true|\n",
      "|        Lifestyle|   4.3|         266|   10000|  0.0|  7.1|     4.0 and up|Oct 24, 2015|        2016|      Everyone|          true|             true|       false|            true|         false|true|\n",
      "|Books & Reference|   4.1|         337|  100000|  0.0|2.4E7|   4.0.3 and up|Apr 14, 2012|        2020|      Everyone|          true|             true|        true|            true|         false|true|\n",
      "+-----------------+------+------------+--------+-----+-----+---------------+------------+------------+--------------+--------------+-----------------+------------+----------------+--------------+----+\n",
      "only showing top 10 rows\n",
      "\n"
     ]
    }
   ],
   "source": [
    "df = DataPreprocessing.convert_Last_Updated_to_Year(df)\n",
    "df.show(10)"
   ]
  },
  {
   "cell_type": "code",
   "execution_count": 8,
   "metadata": {},
   "outputs": [],
   "source": [
    "#DataPreprocessing.get_info(df)"
   ]
  },
  {
   "cell_type": "code",
   "execution_count": 9,
   "metadata": {},
   "outputs": [
    {
     "name": "stdout",
     "output_type": "stream",
     "text": [
      "+-----------------+------+------------+--------+-----+-----+---------------+------------+------------+--------------+--------------+-----------------+------------+----------------+--------------+----+------------+-------------------+------------------+\n",
      "|         Category|Rating|Rating Count|Installs|Price| Size|Minimum Android|    Released|Last Updated|Content Rating|Privacy Policy|Developer Website|Ad Supported|In App Purchases|Editors Choice|Free|Category_enc|Minimum Android_enc|Content Rating_enc|\n",
      "+-----------------+------+------------+--------+-----+-----+---------------+------------+------------+--------------+--------------+-----------------+------------+----------------+--------------+----+------------+-------------------+------------------+\n",
      "|  Personalization|     4|         820|   50000|  0.0|  3.5|     4.1 and up|Sep 22, 2019|        2020|      Everyone|          true|             true|        true|           false|         false|true|           3|                  0|                 0|\n",
      "|   Travel & Local|     3|        1572|   10000|  0.0|2.9E7|     4.2 and up| Sep 5, 2018|        2020|      Everyone|          true|             true|       false|           false|         false|true|          23|                  5|                 0|\n",
      "|        Lifestyle|     3|         328|   10000|  0.0|7.0E7|     4.1 and up| Jul 1, 2020|        2021|      Everyone|          true|            false|       false|           false|         false|true|           6|                  0|                 0|\n",
      "|           Puzzle|     4|         211|   10000|  0.0|1.6E7|     5.0 and up|Mar 13, 2020|        2020|      Everyone|          true|             true|        true|            true|         false|true|          10|                  1|                 0|\n",
      "|    Entertainment|     3|         736|  500000|  0.0|2.0E7|     5.0 and up|Apr 21, 2019|        2020|      Everyone|          true|             true|        true|           false|         false|true|           2|                  1|                 0|\n",
      "|Maps & Navigation|     2|         420|   50000|  0.0|  2.6|     4.0 and up| Nov 6, 2013|        2017|      Everyone|          true|             true|        true|           false|         false|true|          26|                  4|                 0|\n",
      "|            Tools|     2|         420|   50000|  0.0|  4.9|     4.1 and up|Jun 28, 2013|        2020|      Everyone|          true|             true|        true|           false|         false|true|           0|                  0|                 0|\n",
      "|           Sports|     4|        2781|  100000|  0.0|3.8E7|     2.1 and up|Apr 27, 2013|        2015|      Everyone|         false|             true|        true|            true|         false|true|          13|                 14|                 0|\n",
      "|        Lifestyle|     4|         266|   10000|  0.0|  7.1|     4.0 and up|Oct 24, 2015|        2016|      Everyone|          true|             true|       false|            true|         false|true|           6|                  4|                 0|\n",
      "|Books & Reference|     4|         337|  100000|  0.0|2.4E7|   4.0.3 and up|Apr 14, 2012|        2020|      Everyone|          true|             true|        true|            true|         false|true|           4|                  3|                 0|\n",
      "+-----------------+------+------------+--------+-----+-----+---------------+------------+------------+--------------+--------------+-----------------+------------+----------------+--------------+----+------------+-------------------+------------------+\n",
      "only showing top 10 rows\n",
      "\n"
     ]
    }
   ],
   "source": [
    "df = encode(df, columns=['Category', 'Minimum Android', 'Content Rating'])\n",
    "df = floor_col(df, 'Rating')\n",
    "df.show(10)"
   ]
  },
  {
   "cell_type": "code",
   "execution_count": 10,
   "metadata": {},
   "outputs": [
    {
     "name": "stdout",
     "output_type": "stream",
     "text": [
      "root\n",
      " |-- Category: string (nullable = true)\n",
      " |-- Rating: integer (nullable = true)\n",
      " |-- Rating Count: integer (nullable = true)\n",
      " |-- Installs: integer (nullable = true)\n",
      " |-- Price: float (nullable = true)\n",
      " |-- Size: float (nullable = true)\n",
      " |-- Minimum Android: string (nullable = true)\n",
      " |-- Released: string (nullable = true)\n",
      " |-- Last Updated: integer (nullable = true)\n",
      " |-- Content Rating: string (nullable = true)\n",
      " |-- Privacy Policy: boolean (nullable = false)\n",
      " |-- Developer Website: boolean (nullable = false)\n",
      " |-- Ad Supported: boolean (nullable = false)\n",
      " |-- In App Purchases: boolean (nullable = false)\n",
      " |-- Editors Choice: boolean (nullable = false)\n",
      " |-- Free: boolean (nullable = false)\n",
      " |-- Category_enc: integer (nullable = true)\n",
      " |-- Minimum Android_enc: integer (nullable = true)\n",
      " |-- Content Rating_enc: integer (nullable = true)\n",
      "\n"
     ]
    }
   ],
   "source": [
    "df.printSchema()"
   ]
  },
  {
   "cell_type": "code",
   "execution_count": 11,
   "metadata": {},
   "outputs": [
    {
     "name": "stdout",
     "output_type": "stream",
     "text": [
      "+--------------------+------+\n",
      "|            features|Rating|\n",
      "+--------------------+------+\n",
      "|[4.0,820.0,50000....|     4|\n",
      "|[3.0,1572.0,10000...|     3|\n",
      "|(15,[0,1,2,4,5,6,...|     3|\n",
      "|[4.0,211.0,10000....|     4|\n",
      "|[3.0,736.0,500000...|     3|\n",
      "|[2.0,420.0,50000....|     2|\n",
      "|[2.0,420.0,50000....|     2|\n",
      "|[4.0,2781.0,10000...|     4|\n",
      "|[4.0,266.0,10000....|     4|\n",
      "|[4.0,337.0,100000...|     4|\n",
      "+--------------------+------+\n",
      "only showing top 10 rows\n",
      "\n"
     ]
    }
   ],
   "source": [
    "inputColums=['Rating','Rating Count','Installs','Price',\\\n",
    "             'Size','Last Updated','Privacy Policy','Developer Website',\\\n",
    "                'Ad Supported','In App Purchases','Editors Choice','Free','Category_enc','Minimum Android_enc','Content Rating_enc']\n",
    "assembler = VectorAssembler(inputCols=inputColums, outputCol='features')\n",
    "\n",
    "traindf = assembler.transform(df).select(['features', 'Rating'])\n",
    "traindf.show(10)"
   ]
  },
  {
   "cell_type": "code",
   "execution_count": 12,
   "metadata": {},
   "outputs": [],
   "source": [
    "train,test = traindf.randomSplit([0.7, 0.3])"
   ]
  },
  {
   "cell_type": "code",
   "execution_count": 13,
   "metadata": {},
   "outputs": [
    {
     "name": "stdout",
     "output_type": "stream",
     "text": [
      "Training points count : 187196\n",
      "Testing count : 79945\n"
     ]
    }
   ],
   "source": [
    "print(f'Training points count : {train.count()}')\n",
    "print(f'Testing count : {test.count()}')"
   ]
  },
  {
   "cell_type": "code",
   "execution_count": 14,
   "metadata": {},
   "outputs": [],
   "source": [
    "RF_classifier = RandomForestClassifier(labelCol='Rating', numTrees=100).fit(train)"
   ]
  },
  {
   "cell_type": "code",
   "execution_count": 15,
   "metadata": {},
   "outputs": [],
   "source": [
    "pred = RF_classifier.transform(test)"
   ]
  },
  {
   "cell_type": "code",
   "execution_count": 20,
   "metadata": {},
   "outputs": [],
   "source": [
    "evaluatorMulti = MulticlassClassificationEvaluator(labelCol=\"Rating\", predictionCol=\"prediction\")\n",
    "\n",
    "predictionAndTarget = pred.select(['Rating', 'prediction'])\n",
    "# Get metrics\n",
    "acc = evaluatorMulti.evaluate(predictionAndTarget, {evaluatorMulti.metricName: \"accuracy\"})\n",
    "f1 = evaluatorMulti.evaluate(predictionAndTarget, {evaluatorMulti.metricName: \"f1\"})\n",
    "weightedPrecision = evaluatorMulti.evaluate(predictionAndTarget, {evaluatorMulti.metricName: \"weightedPrecision\"})\n",
    "weightedRecall = evaluatorMulti.evaluate(predictionAndTarget, {evaluatorMulti.metricName: \"weightedRecall\"})\n"
   ]
  },
  {
   "cell_type": "code",
   "execution_count": 21,
   "metadata": {},
   "outputs": [
    {
     "name": "stdout",
     "output_type": "stream",
     "text": [
      "acc : 0.9804115329288886\n",
      "f1 : 0.9751565291533941\n",
      "weightedPrecision : 0.9730100310775148\n",
      "weightedRecall : 0.9804115329288886\n"
     ]
    }
   ],
   "source": [
    "print(f\"acc : {acc}\")\n",
    "print(f\"f1 : {f1}\")\n",
    "print(f\"weightedPrecision : {weightedPrecision}\")\n",
    "print(f\"weightedRecall : {weightedRecall}\")"
   ]
  },
  {
   "cell_type": "code",
   "execution_count": null,
   "metadata": {},
   "outputs": [],
   "source": []
  }
 ],
 "metadata": {
  "kernelspec": {
   "display_name": "Python 3",
   "language": "python",
   "name": "python3"
  },
  "language_info": {
   "codemirror_mode": {
    "name": "ipython",
    "version": 3
   },
   "file_extension": ".py",
   "mimetype": "text/x-python",
   "name": "python",
   "nbconvert_exporter": "python",
   "pygments_lexer": "ipython3",
   "version": "3.11.3"
  },
  "orig_nbformat": 4
 },
 "nbformat": 4,
 "nbformat_minor": 2
}
