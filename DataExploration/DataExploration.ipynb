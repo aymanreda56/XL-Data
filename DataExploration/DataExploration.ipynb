{
  "cells": [
    {
      "cell_type": "code",
      "execution_count": 1,
      "metadata": {},
      "outputs": [],
      "source": [
        "import pyspark\n",
        "from pyspark.sql import SparkSession\n",
        "from pyspark import SparkContext\n",
        "import DataExploration"
      ]
    },
    {
      "attachments": {},
      "cell_type": "markdown",
      "metadata": {},
      "source": [
        "### Prepare dataset for RDD"
      ]
    },
    {
      "cell_type": "code",
      "execution_count": null,
      "metadata": {},
      "outputs": [],
      "source": [
        "DataExploration.delimiter_to_comma()\n",
        "# DataExploration.delimiter_to_comma(file_name='train')\n",
        "# DataExploration.delimiter_to_comma(file_name='val')\n",
        "# DataExploration.delimiter_to_comma(file_name='test')"
      ]
    },
    {
      "attachments": {},
      "cell_type": "markdown",
      "metadata": {},
      "source": [
        "### Spark session"
      ]
    },
    {
      "cell_type": "code",
      "execution_count": 2,
      "metadata": {},
      "outputs": [],
      "source": [
        "sc = SparkContext(master='local')\n",
        "spark=SparkSession.builder.appName('DataExploration').getOrCreate()"
      ]
    },
    {
      "attachments": {},
      "cell_type": "markdown",
      "metadata": {},
      "source": [
        "### Reading the data"
      ]
    },
    {
      "cell_type": "code",
      "execution_count": 3,
      "metadata": {},
      "outputs": [],
      "source": [
        "file_name='Google-Playstore'"
      ]
    },
    {
      "cell_type": "code",
      "execution_count": 3,
      "metadata": {},
      "outputs": [
        {
          "name": "stdout",
          "output_type": "stream",
          "text": [
            "+--------------------+--------------------+-------------+------+------------+--------+----------------+----------------+----+-----+--------+----+---------------+--------------------+--------------------+--------------------+------------+------------+--------------+--------------------+------------+----------------+--------------+-------------------+\n",
            "|            App Name|              App Id|     Category|Rating|Rating Count|Installs|Minimum Installs|Maximum Installs|Free|Price|Currency|Size|Minimum Android|        Developer Id|   Developer Website|     Developer Email|    Released|Last Updated|Content Rating|      Privacy Policy|Ad Supported|In App Purchases|Editors Choice|       Scraped Time|\n",
            "+--------------------+--------------------+-------------+------+------------+--------+----------------+----------------+----+-----+--------+----+---------------+--------------------+--------------------+--------------------+------------+------------+--------------+--------------------+------------+----------------+--------------+-------------------+\n",
            "|             Gakondo| com.ishakwe.gakondo|    Adventure|   0.0|           0|     10+|              10|              15|True|    0|     USD| 10M|     7.1 and up|Jean Confident Ir...|https://beniyizib...|jean21101999@gmai...|Feb 26, 2020|Feb 26, 2020|      Everyone|https://beniyizib...|       False|           False|         False|2021-06-15 20:19:35|\n",
            "| Ampere Battery Info|com.webserveis.ba...|        Tools|   4.4|          64|  5,000+|            5000|            7662|True|    0|     USD|2.9M|     5.0 and up|          Webserveis|https://webservei...|webserveis@gmail.com|May 21, 2020|May 06, 2021|      Everyone|https://dev4phone...|        True|           False|         False|2021-06-15 20:19:35|\n",
            "|              Vibook|com.doantiepvien.crm| Productivity|   0.0|           0|     50+|              50|              58|True|    0|     USD|3.7M|   4.0.3 and up|          Cabin Crew|                null| vnacrewit@gmail.com| Aug 9, 2019|Aug 19, 2019|      Everyone|https://www.vietn...|       False|           False|         False|2021-06-15 20:19:35|\n",
            "|Smart City Trichy...|cst.stJoseph.ug17...|Communication|   5.0|           5|     10+|              10|              19|True|    0|     USD|1.8M|   4.0.3 and up| Climate Smart Tech2|http://www.climat...|climatesmarttech2...|Sep 10, 2018|Oct 13, 2018|      Everyone|                null|        True|           False|         False|2021-06-15 20:19:35|\n",
            "|             GROW.me|com.horodyski.grower|        Tools|   0.0|           0|    100+|             100|             478|True|    0|     USD|6.2M|     4.1 and up|Rafal Milek-Horod...|http://www.horody...|rmilekhorodyski@g...|Feb 21, 2020|Nov 12, 2018|      Everyone|http://www.horody...|       False|           False|         False|2021-06-15 20:19:35|\n",
            "+--------------------+--------------------+-------------+------+------------+--------+----------------+----------------+----+-----+--------+----+---------------+--------------------+--------------------+--------------------+------------+------------+--------------+--------------------+------------+----------------+--------------+-------------------+\n",
            "only showing top 5 rows\n",
            "\n"
          ]
        }
      ],
      "source": [
        "# useless_cols = ['Scraped Time', 'Privacy Policy', 'Currency', 'Editors Choice']\n",
        "df = DataExploration.read_data(spark)\n",
        "df.show(5)"
      ]
    },
    {
      "attachments": {},
      "cell_type": "markdown",
      "metadata": {},
      "source": [
        "### Get info about the dataset"
      ]
    },
    {
      "cell_type": "code",
      "execution_count": 4,
      "metadata": {},
      "outputs": [
        {
          "name": "stdout",
          "output_type": "stream",
          "text": [
            "Number of rows: 2312944, Number of columns: 24\n",
            "Available features: ['App Name', 'App Id', 'Category', 'Rating', 'Rating Count', 'Installs', 'Minimum Installs', 'Maximum Installs', 'Free', 'Price', 'Currency', 'Size', 'Minimum Android', 'Developer Id', 'Developer Website', 'Developer Email', 'Released', 'Last Updated', 'Content Rating', 'Privacy Policy', 'Ad Supported', 'In App Purchases', 'Editors Choice', 'Scraped Time']\n",
            "+-------+--------------------+--------------------+--------------+--------------------+--------------------+-----------------+--------------------+--------------------+------------------+------------------+------------------+------------------+------------------+--------------------+-----------------+--------------------+---------------+------------------+---------------+-----------------------+--------------------+--------------------+--------------------+-------------------+\n",
            "|summary|            App Name|              App Id|      Category|              Rating|        Rating Count|         Installs|    Minimum Installs|    Maximum Installs|              Free|             Price|          Currency|              Size|   Minimum Android|        Developer Id|Developer Website|     Developer Email|       Released|      Last Updated| Content Rating|         Privacy Policy|        Ad Supported|    In App Purchases|      Editors Choice|       Scraped Time|\n",
            "+-------+--------------------+--------------------+--------------+--------------------+--------------------+-----------------+--------------------+--------------------+------------------+------------------+------------------+------------------+------------------+--------------------+-----------------+--------------------+---------------+------------------+---------------+-----------------------+--------------------+--------------------+--------------------+-------------------+\n",
            "|  count|             2312944|             2312944|       2312944|             2290061|             2290061|          2312837|             2312837|             2312944|           2312944|           2312944|           2312809|           2312748|           2306414|             2312911|          1552118|             2312906|        2241889|           2312944|        2312944|                1891997|             2312940|             2312942|             2312944|            2312944|\n",
            "|   mean|            Infinity|                null|          null|   2.203143276226623|   2864.791778345451|110.5103448275862|  183444.43167953554|   320199.1094302734|17480.206896551725| 2.274462322502228|       456349.9495|               0.0|5.6000000000000005|            Infinity|             null|                null|           null|              null|           null|                   null|                null|                null|                null|               null|\n",
            "| stddev|                 NaN|                null|          null|  2.1062203848761833|  212163.06226925142|369.9975148032634|1.5131500873746514E7|2.3555005086574133E7| 48855.19147394333|3287.6877801998457|2040858.5488238432|               0.0| 2.402242542036343|                 NaN|             null|                null|           null|              null|           null|                   null|                null|                null|                null|               null|\n",
            "|    min|                   !| Banyak Jual Beli !\"|  Quick notes\"|             camera\"|                   0|                0|                   0|                   0|                 0|                 0|                 0|                 0|                 0|        \\bTranAnhDuc|             LLC\"|\\tdoquochentasy@g...|    Apr 1, 2010|      Apr 01, 2011|Adults only 18+|           Dec 02, 2020|            Everyone|            Everyone|               False|2021-06-15 20:19:35|\n",
            "|    max|󠁧󠁢󠁥󠁮󠁧󠁿Radio...|         동요\"\"단어\"|고양이 쇼핑몰\"|net.jp.apps.hirot...|pl.neptis.yanosik...|Maps & Navigation|                   6|               99996|              True|              True|               ZAR|Varies with device|Varies with device|🧙🏼Lucrezia - MM...|    Олегъ Лавровъ|              냥아지|web@skysent.com|yaj_info@yaj.co.kr| bok@yanosik.pl|https://외식잡.com/r...|https://меркурий....|https://sites.goo...|https://yanosik.p...|               True|\n",
            "+-------+--------------------+--------------------+--------------+--------------------+--------------------+-----------------+--------------------+--------------------+------------------+------------------+------------------+------------------+------------------+--------------------+-----------------+--------------------+---------------+------------------+---------------+-----------------------+--------------------+--------------------+--------------------+-------------------+\n",
            "\n"
          ]
        }
      ],
      "source": [
        "DataExploration.get_info(df)"
      ]
    },
    {
      "attachments": {},
      "cell_type": "markdown",
      "metadata": {},
      "source": [
        "### Prepare 'Size' column"
      ]
    },
    {
      "cell_type": "code",
      "execution_count": 5,
      "metadata": {},
      "outputs": [
        {
          "name": "stdout",
          "output_type": "stream",
          "text": [
            "Percentage of apps with size \"Varies with device\": 3.232936033038413 %\n",
            "Converted all sizes to Bytes.\n"
          ]
        }
      ],
      "source": [
        "DataExploration.handle_size_col(df)"
      ]
    },
    {
      "cell_type": "code",
      "execution_count": 6,
      "metadata": {},
      "outputs": [
        {
          "name": "stdout",
          "output_type": "stream",
          "text": [
            "The percentage of \"Varies with app\" is too low, then can remove all rows with this value\n"
          ]
        }
      ],
      "source": [
        "print('The percentage of \"Varies with app\" is too low, then can remove all rows with this value')\n",
        "df = df.filter(df.Size != 'Varies with device')"
      ]
    },
    {
      "attachments": {},
      "cell_type": "markdown",
      "metadata": {},
      "source": [
        "### Dealing with missing values"
      ]
    },
    {
      "cell_type": "code",
      "execution_count": null,
      "metadata": {},
      "outputs": [],
      "source": [
        "# df_copy= DataExploration.missing_values(df)"
      ]
    },
    {
      "attachments": {},
      "cell_type": "markdown",
      "metadata": {},
      "source": [
        "### Outliers"
      ]
    },
    {
      "cell_type": "code",
      "execution_count": 8,
      "metadata": {},
      "outputs": [],
      "source": [
        "# DataExploration.detect_outliers(df, 'Rating')"
      ]
    },
    {
      "attachments": {},
      "cell_type": "markdown",
      "metadata": {},
      "source": [
        "### Currency column"
      ]
    },
    {
      "cell_type": "code",
      "execution_count": 9,
      "metadata": {},
      "outputs": [
        {
          "name": "stdout",
          "output_type": "stream",
          "text": [
            "+--------+-------+\n",
            "|Currency|  count|\n",
            "+--------+-------+\n",
            "|     USD|2236645|\n",
            "|     XXX|   1211|\n",
            "|    null|     63|\n",
            "|       0|     18|\n",
            "|    True|     10|\n",
            "|     EUR|      6|\n",
            "|     INR|      5|\n",
            "|     GBP|      3|\n",
            "|     CAD|      2|\n",
            "|     BRL|      1|\n",
            "|     KRW|      1|\n",
            "|     VND|      1|\n",
            "|     TRY|      1|\n",
            "|     ZAR|      1|\n",
            "|     AUD|      1|\n",
            "|    1.99|      1|\n",
            "|     SGD|      1|\n",
            "| 9126997|      1|\n",
            "+--------+-------+\n",
            "\n"
          ]
        }
      ],
      "source": [
        "DataExploration.currency_col(df)"
      ]
    },
    {
      "cell_type": "code",
      "execution_count": 10,
      "metadata": {},
      "outputs": [
        {
          "name": "stdout",
          "output_type": "stream",
          "text": [
            "Since most of the values are USD, then we can remove this column\n"
          ]
        }
      ],
      "source": [
        "print(\"Since most of the values are USD, then we can remove this column\")\n",
        "df = DataExploration.remove_useless_col(df, ['Currency'])"
      ]
    },
    {
      "attachments": {},
      "cell_type": "markdown",
      "metadata": {},
      "source": [
        "### Write df to csv"
      ]
    },
    {
      "cell_type": "code",
      "execution_count": null,
      "metadata": {},
      "outputs": [],
      "source": [
        "# pd_df = df.toPandas()\n",
        "# pd_df.to_csv('../Dataset/'+file_name+'.csv', index=False)"
      ]
    },
    {
      "attachments": {},
      "cell_type": "markdown",
      "metadata": {},
      "source": [
        "### Splitting the data "
      ]
    },
    {
      "cell_type": "code",
      "execution_count": null,
      "metadata": {},
      "outputs": [],
      "source": [
        "# DataExploration.split_data()"
      ]
    }
  ],
  "metadata": {
    "kernelspec": {
      "display_name": "Python 3",
      "language": "python",
      "name": "python3"
    },
    "language_info": {
      "codemirror_mode": {
        "name": "ipython",
        "version": 3
      },
      "file_extension": ".py",
      "mimetype": "text/x-python",
      "name": "python",
      "nbconvert_exporter": "python",
      "pygments_lexer": "ipython3",
      "version": "3.10.9"
    },
    "orig_nbformat": 4
  },
  "nbformat": 4,
  "nbformat_minor": 2
}
