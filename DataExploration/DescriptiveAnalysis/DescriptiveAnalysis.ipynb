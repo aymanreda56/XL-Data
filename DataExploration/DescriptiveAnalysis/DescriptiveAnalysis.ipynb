{
 "cells": [
  {
   "cell_type": "code",
   "execution_count": 15,
   "metadata": {},
   "outputs": [],
   "source": [
    "import findspark; findspark.init()\n",
    "from pyspark.sql import SparkSession\n",
    "from pyspark.conf import SparkConf"
   ]
  },
  {
   "attachments": {},
   "cell_type": "markdown",
   "metadata": {},
   "source": [
    "### Spark session"
   ]
  },
  {
   "cell_type": "code",
   "execution_count": 16,
   "metadata": {},
   "outputs": [],
   "source": [
    "spark=SparkSession.builder\\\n",
    "    .master(\"local[*]\")\\\n",
    "    .appName(\"DescriptiveAnalysis\")\\\n",
    "    .getOrCreate()\n",
    "\n",
    "sc=spark.sparkContext"
   ]
  },
  {
   "attachments": {},
   "cell_type": "markdown",
   "metadata": {},
   "source": [
    "### Read the data "
   ]
  },
  {
   "cell_type": "code",
   "execution_count": 17,
   "metadata": {},
   "outputs": [
    {
     "data": {
      "text/plain": [
       "['Q ParentConnection,com.AequitasSolutions.ParentPortal,Education,3.1,71.0,10000+,10000,36999,True,0.0,USD,24M,4.1 and up,Aequitas Solutions  Inc.,https://www.myaequitas.com,info@myaequitas.com,Jul 3  2019,Jun 11  2020,Everyone,https://www.myaequitas.com/privacy.aspx,False,False,False,2021-06-15 23:58:57',\n",
       " 'Chef Monkey Pet - Adopt me,chef.monkeypet.co,Adventure,2.4,14.0,500+,500,614,True,0.0,USD,40M,4.1 and up,ALPHAEGO,,anasseb63@gmail.com,Apr 6  2021,Apr 06  2021,Everyone,,True,False,False,2021-06-16 06:39:57',\n",
       " 'SmartConnect Apps,com.logictree.smartconnectapps,Productivity,0.0,0.0,100+,100,107,True,0.0,USD,10M,4.1 and up,LogicTree IT Solutions Inc,http://logictreeit.com,logictreeitsolutions@gmail.com,Sep 15  2017,Aug 19  2019,Everyone,https://www.smartconnectapps.com/OP/smartconnectappscom/terms.html,True,False,False,2021-06-16 12:18:18',\n",
       " 'Team Formula Pro (2021),uk.co.teambobk.f1calendar,Sports,4.7,86.0,1000+,1000,1004,False,3.49,USD,9.5M,5.0 and up,TeamBobK,http://www.teambobk.co.uk,info@teambobk.co.uk,Aug 16  2010,May 16  2021,Teen,,False,False,False,2021-06-16 09:38:59',\n",
       " 'tontest OPIc SDS 채점,com.tonenglish.sds.tontest.opic,Education,0.0,0.0,100+,100,289,True,0.0,USD,1.7M,4.0 and up,tonenglish,http://www.tonenglish.co.kr,info@tonenglish.co.kr,Mar 24  2015,Feb 15  2016,Everyone,http://www.tonenglish.co.kr/member/privercy2.php,False,False,False,2021-06-16 04:28:35']"
      ]
     },
     "execution_count": 17,
     "metadata": {},
     "output_type": "execute_result"
    }
   ],
   "source": [
    "rdd= sc.textFile('../../Dataset/val-RDD.csv')\n",
    "header= rdd.first()\n",
    "rdd= rdd.filter(lambda x: x!=header)\n",
    "\n",
    "rdd.take(5)"
   ]
  },
  {
   "attachments": {},
   "cell_type": "markdown",
   "metadata": {},
   "source": [
    "# Avg Installations/ Free-Paid Apps"
   ]
  },
  {
   "cell_type": "code",
   "execution_count": 4,
   "metadata": {},
   "outputs": [
    {
     "name": "stdout",
     "output_type": "stream",
     "text": [
      "Number of Free apps: 453626\n",
      "Number of Paid apps: 8963\n",
      "Total Number of apps: 462589\n"
     ]
    }
   ],
   "source": [
    "total_apps= rdd.count()\n",
    "free_apps= rdd.filter(lambda x: x.split(',')[8] == 'True').count()\n",
    "paid_apps= rdd.filter(lambda x: x.split(',')[8] == 'False').count()\n",
    "\n",
    "print(f'Number of Free apps: {free_apps}')\n",
    "print(f'Number of Paid apps: {paid_apps}')\n",
    "print(f'Total Number of apps: {total_apps}')"
   ]
  },
  {
   "cell_type": "code",
   "execution_count": 67,
   "metadata": {},
   "outputs": [
    {
     "data": {
      "text/plain": [
       "[('Free', 10000.0),\n",
       " ('Free', 500.0),\n",
       " ('Free', 100.0),\n",
       " ('Paid', 1000.0),\n",
       " ('Free', 100.0)]"
      ]
     },
     "execution_count": 67,
     "metadata": {},
     "output_type": "execute_result"
    }
   ],
   "source": [
    "#TODO: get average of max and min installations to be the value  \n",
    "#TODO: fix min installations column problem, leh msh rady yb2a int??? hwa float bs hatta msh byerda ygm3 rkmen float fa leh\n",
    "\n",
    "def avg_installs(x):\n",
    "\n",
    "    max_installations = (x.split(',')[7])\n",
    "    min_installations= (x.split(',')[6])\n",
    "    # avg= (max_installations- min_installations) /2.0\n",
    "\n",
    "    if x.split(',')[8] == 'True': return ('Free',min_installations)\n",
    "    else:                         return ('Paid',min_installations)\n",
    "\n",
    "avg_installs_paid = rdd.filter(lambda x:x!='')\\\n",
    "                .map(avg_installs)\\\n",
    "                .mapValues(lambda x: float(x))\\\n",
    "                # .reduceByKey(lambda x, y: x + y)\\\n",
    "                # .map(lambda x: (x[0], x[1] / free_apps if x[0] == 'Free' else x[1] / paid_apps))\n",
    "                \n",
    "avg_installs_paid.take(5)"
   ]
  },
  {
   "attachments": {},
   "cell_type": "markdown",
   "metadata": {},
   "source": [
    "# Max No. of Installs for each category"
   ]
  },
  {
   "cell_type": "code",
   "execution_count": 6,
   "metadata": {},
   "outputs": [
    {
     "data": {
      "text/plain": [
       "[('Tools', 18049967388),\n",
       " ('Communication', 12411624675),\n",
       " ('Social', 8187322038),\n",
       " ('Action', 6370229376),\n",
       " ('Productivity', 6290110338)]"
      ]
     },
     "execution_count": 6,
     "metadata": {},
     "output_type": "execute_result"
    }
   ],
   "source": [
    "# max installs= x[7], category= x[2]\n",
    "\n",
    "max_installs_categ= rdd.filter(lambda x:x!='')\\\n",
    "            .map(lambda x: (x.split(',')[2], x.split(',')[7]))\\\n",
    "            .mapValues(lambda x: int(x))\\\n",
    "            .reduceByKey(lambda x,y:(x+y))\\\n",
    "            .sortBy(lambda x: x[1], ascending=False)\n",
    "\n",
    "max_installs_categ.take(5)      "
   ]
  },
  {
   "attachments": {},
   "cell_type": "markdown",
   "metadata": {},
   "source": [
    "# Min No. of Installs for each category"
   ]
  },
  {
   "cell_type": "code",
   "execution_count": 26,
   "metadata": {},
   "outputs": [
    {
     "data": {
      "text/plain": [
       "[('Events', 12017919),\n",
       " ('Parenting', 31798395),\n",
       " ('Libraries & Demo', 41837747),\n",
       " ('Comics', 64775991),\n",
       " ('House & Home', 66617033)]"
      ]
     },
     "execution_count": 26,
     "metadata": {},
     "output_type": "execute_result"
    }
   ],
   "source": [
    "#TODO: check if this analysis is important or not\n",
    "# min installs= x[6], category= x[2]\n",
    "min_installs_categ= rdd.filter(lambda x:x!='')\\\n",
    "            .map(lambda x: (x.split(',')[2], x.split(',')[6]))\\\n",
    "            .filter(lambda x: x[1].isdigit()) \\\n",
    "            .mapValues(lambda x: int(x))\\\n",
    "            .reduceByKey(lambda x,y: x+y)\\\n",
    "            .sortBy(lambda x: x[1], ascending=True)\n",
    "\n",
    "min_installs_categ.take(5)"
   ]
  },
  {
   "attachments": {},
   "cell_type": "markdown",
   "metadata": {},
   "source": [
    "# Developed apps per developer"
   ]
  },
  {
   "cell_type": "code",
   "execution_count": 9,
   "metadata": {},
   "outputs": [
    {
     "data": {
      "text/plain": [
       "[('Subsplash Inc', 1122),\n",
       " ('ChowNow', 1010),\n",
       " ('TRAINERIZE', 999),\n",
       " ('OrderYOYO', 604),\n",
       " ('Phorest', 550)]"
      ]
     },
     "execution_count": 9,
     "metadata": {},
     "output_type": "execute_result"
    }
   ],
   "source": [
    "# TODO: make the key be: developer id, developer website & developer email\n",
    "\n",
    "developer_apps= rdd.filter(lambda x:x!='')\\\n",
    "                .map(lambda x: (x.split(',')[13], 1))\\\n",
    "                .reduceByKey(lambda x,y:(x+y))\\\n",
    "                .sortBy(lambda x: x[1], ascending=False)\n",
    "\n",
    "developer_apps.take(5)"
   ]
  }
 ],
 "metadata": {
  "kernelspec": {
   "display_name": "Python 3",
   "language": "python",
   "name": "python3"
  },
  "language_info": {
   "codemirror_mode": {
    "name": "ipython",
    "version": 3
   },
   "file_extension": ".py",
   "mimetype": "text/x-python",
   "name": "python",
   "nbconvert_exporter": "python",
   "pygments_lexer": "ipython3",
   "version": "3.10.9"
  },
  "orig_nbformat": 4
 },
 "nbformat": 4,
 "nbformat_minor": 2
}
