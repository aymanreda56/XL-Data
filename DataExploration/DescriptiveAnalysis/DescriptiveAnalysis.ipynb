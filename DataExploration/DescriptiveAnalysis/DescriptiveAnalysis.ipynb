{
 "cells": [
  {
   "cell_type": "code",
   "execution_count": 15,
   "metadata": {},
   "outputs": [],
   "source": [
    "import findspark; findspark.init()\n",
    "from pyspark.sql import SparkSession\n",
    "from pyspark.conf import SparkConf"
   ]
  },
  {
   "attachments": {},
   "cell_type": "markdown",
   "metadata": {},
   "source": [
    "### Spark session"
   ]
  },
  {
   "cell_type": "code",
   "execution_count": 16,
   "metadata": {},
   "outputs": [],
   "source": [
    "spark=SparkSession.builder\\\n",
    "    .master(\"local[*]\")\\\n",
    "    .appName(\"DescriptiveAnalysis\")\\\n",
    "    .getOrCreate()\n",
    "\n",
    "sc=spark.sparkContext"
   ]
  },
  {
   "attachments": {},
   "cell_type": "markdown",
   "metadata": {},
   "source": [
    "### Read the data "
   ]
  },
  {
   "cell_type": "code",
   "execution_count": 17,
   "metadata": {},
   "outputs": [
    {
     "data": {
      "text/plain": [
       "['Q ParentConnection,com.AequitasSolutions.ParentPortal,Education,3.1,71.0,10000+,10000,36999,True,0.0,USD,24M,4.1 and up,Aequitas Solutions  Inc.,https://www.myaequitas.com,info@myaequitas.com,Jul 3  2019,Jun 11  2020,Everyone,https://www.myaequitas.com/privacy.aspx,False,False,False,2021-06-15 23:58:57',\n",
       " 'Chef Monkey Pet - Adopt me,chef.monkeypet.co,Adventure,2.4,14.0,500+,500,614,True,0.0,USD,40M,4.1 and up,ALPHAEGO,,anasseb63@gmail.com,Apr 6  2021,Apr 06  2021,Everyone,,True,False,False,2021-06-16 06:39:57',\n",
       " 'SmartConnect Apps,com.logictree.smartconnectapps,Productivity,0.0,0.0,100+,100,107,True,0.0,USD,10M,4.1 and up,LogicTree IT Solutions Inc,http://logictreeit.com,logictreeitsolutions@gmail.com,Sep 15  2017,Aug 19  2019,Everyone,https://www.smartconnectapps.com/OP/smartconnectappscom/terms.html,True,False,False,2021-06-16 12:18:18',\n",
       " 'Team Formula Pro (2021),uk.co.teambobk.f1calendar,Sports,4.7,86.0,1000+,1000,1004,False,3.49,USD,9.5M,5.0 and up,TeamBobK,http://www.teambobk.co.uk,info@teambobk.co.uk,Aug 16  2010,May 16  2021,Teen,,False,False,False,2021-06-16 09:38:59',\n",
       " 'tontest OPIc SDS 채점,com.tonenglish.sds.tontest.opic,Education,0.0,0.0,100+,100,289,True,0.0,USD,1.7M,4.0 and up,tonenglish,http://www.tonenglish.co.kr,info@tonenglish.co.kr,Mar 24  2015,Feb 15  2016,Everyone,http://www.tonenglish.co.kr/member/privercy2.php,False,False,False,2021-06-16 04:28:35']"
      ]
     },
     "execution_count": 17,
     "metadata": {},
     "output_type": "execute_result"
    }
   ],
   "source": [
    "rdd= sc.textFile('../../Dataset/val-RDD.csv')\n",
    "header= rdd.first()\n",
    "rdd= rdd.filter(lambda x: x!=header)\n",
    "\n",
    "rdd.take(5)"
   ]
  },
  {
   "attachments": {},
   "cell_type": "markdown",
   "metadata": {},
   "source": [
    "# Avg Installations/ Free-Paid Apps"
   ]
  },
  {
   "cell_type": "code",
   "execution_count": 4,
   "metadata": {},
   "outputs": [
    {
     "name": "stdout",
     "output_type": "stream",
     "text": [
      "Number of Free apps: 453626\n",
      "Number of Paid apps: 8963\n",
      "Total Number of apps: 462589\n"
     ]
    }
   ],
   "source": [
    "total_apps= rdd.count()\n",
    "free_apps= rdd.filter(lambda x: x.split(',')[8] == 'True').count()\n",
    "paid_apps= rdd.filter(lambda x: x.split(',')[8] == 'False').count()\n",
    "\n",
    "print(f'Number of Free apps: {free_apps}')\n",
    "print(f'Number of Paid apps: {paid_apps}')\n",
    "print(f'Total Number of apps: {total_apps}')"
   ]
  },
  {
   "cell_type": "code",
   "execution_count": null,
   "metadata": {},
   "outputs": [],
   "source": [
    "import numpy as np\n",
    "def avg_installs(x):\n",
    "    max_installations = x.split(',')[7]\n",
    "    min_installations= x.split(',')[6]\n",
    "\n",
    "    if x.split(',')[8] == 'True': return ('Free',(max_installations,min_installations))\n",
    "    else:                         return ('Paid',(max_installations,min_installations))\n",
    "\n",
    "avg_installs_paid = rdd.filter(lambda x:x!='')\\\n",
    "                .map(avg_installs)\\\n",
    "                .mapValues(lambda x: np.ceil((int(x[0])+int(x[1]))/2))\\\n",
    "                .mapValues(lambda x: int(x))\\\n",
    "                .reduceByKey(lambda x, y: x + y)\\\n",
    "                # .map(lambda x: (x[0], x[1] / free_apps if x[0] == 'Free' else x[1] / paid_apps))\n",
    "                \n",
    "avg_installs_paid.take(2)"
   ]
  },
  {
   "attachments": {},
   "cell_type": "markdown",
   "metadata": {},
   "source": [
    "# Avg/ Max price for each category"
   ]
  },
  {
   "cell_type": "code",
   "execution_count": 109,
   "metadata": {},
   "outputs": [
    {
     "data": {
      "text/plain": [
       "[('Education', (48276, 0.1550999405087413, 354.99)),\n",
       " ('Music & Audio', (31067, 0.05294917697235013, 399.99)),\n",
       " ('Tools', (28888, 0.17328381798670747, 399.99)),\n",
       " ('Business', (28523, 0.04460879865371807, 149.99)),\n",
       " ('Entertainment', (27607, 0.06937293077842582, 399.99)),\n",
       " ('Lifestyle', (23652, 0.07277472230678171, 399.99)),\n",
       " ('Books & Reference', (23403, 0.20062015027987887, 399.99)),\n",
       " ('Personalization', (17920, 0.10030513214285751, 23.99)),\n",
       " ('Health & Fitness', (16788, 0.10257455587324289, 99.99)),\n",
       " ('Productivity', (15928, 0.17388843156705186, 400.0)),\n",
       " ('Shopping', (15180, 0.0024365395915678526, 12.106671)),\n",
       " ('Food & Drink', (14807, 0.01749848044843655, 99.99)),\n",
       " ('Travel & Local', (13522, 0.0744922746635114, 24.46)),\n",
       " ('Finance', (13119, 0.06612080844576569, 80.575483)),\n",
       " ('Arcade', (10843, 0.09328434990316335, 329.99)),\n",
       " ('Casual', (10194, 0.0830322392583873, 399.99)),\n",
       " ('Puzzle', (10133, 0.06589112918188099, 29.99)),\n",
       " ('Communication', (9658, 0.04275419341478567, 27.99)),\n",
       " ('Sports', (9506, 0.19228229686513792, 179.99)),\n",
       " ('Social', (8938, 0.01846508256880734, 19.99)),\n",
       " ('News & Magazines', (8550, 0.007399746432748539, 6.99)),\n",
       " ('Photography', (7053, 0.06326385935063095, 38.99)),\n",
       " ('Medical', (6395, 0.6692473157154029, 349.99)),\n",
       " ('Action', (5506, 0.06710316018888482, 18.99)),\n",
       " ('Maps & Navigation', (5316, 0.12688458728367194, 99.99)),\n",
       " ('Simulation', (4705, 0.07933048289054194, 17.99)),\n",
       " ('Adventure', (4589, 0.16763219415994776, 25.99)),\n",
       " ('Educational', (4276, 0.1603097750233864, 19.99)),\n",
       " ('Art & Design', (3661, 0.12726850587271238, 354.99)),\n",
       " ('Auto & Vehicles', (3600, 0.057725, 23.99)),\n",
       " ('House & Home', (2917, 0.014532053479602331, 9.99)),\n",
       " ('Video Players & Editors', (2771, 0.10110624215084807, 29.99)),\n",
       " ('Events', (2555, 0.0009706457925636008, 1.49)),\n",
       " ('Trivia', (2365, 0.031372684989429175, 24.99)),\n",
       " ('Beauty', (2344, 0.0, 0)),\n",
       " ('Board', (2112, 0.13765123816287878, 17.99)),\n",
       " ('Racing', (2045, 0.027960880195599027, 9.99)),\n",
       " ('Role Playing', (1949, 0.30245779168804515, 49.99)),\n",
       " ('Strategy', (1767, 0.21472950424448214, 12.99)),\n",
       " ('Word', (1680, 0.040874999999999995, 4.99)),\n",
       " ('Card', (1618, 0.10297898640296663, 8.99)),\n",
       " ('Weather', (1462, 0.11949212106703147, 12.99)),\n",
       " ('Dating', (1308, 0.3092278287461774, 399.99)),\n",
       " ('Libraries & Demo', (1014, 0.02665680473372781, 7.49)),\n",
       " ('Casino', (967, 0.03910173216132368, 12.390661)),\n",
       " ('Music', (837, 0.03744324970131422, 5.49)),\n",
       " ('Parenting', (733, 0.07130900818553888, 9.99)),\n",
       " ('Comics', (542, 0.04903867158671586, 6.99))]"
      ]
     },
     "execution_count": 109,
     "metadata": {},
     "output_type": "execute_result"
    }
   ],
   "source": [
    "#1. we map each row to a tuple of (category, price)\n",
    "#2. we map each value to a tuple of (price, 0, price) --> (sum of price, count of each category, max price) \n",
    "#3. we aggregate by key, summing up the values of each category, \n",
    "#   counting the number of each category, and getting the max price of each category\n",
    "#4. we map each value to a tuple of (avg price, count of each category, max price)\n",
    "#5. we map each row to a tuple of (category, (count of each category, avg price, max price))\n",
    "#6. we sort by max price in descending order\n",
    "\n",
    "price = rdd.filter(lambda x: x != '') \\\n",
    "        .map(lambda x: (x.split(',')[2], x.split(',')[9])) \\\n",
    "        .mapValues(lambda x: (float(x), 0, float(x))) \\\n",
    "        .aggregateByKey((0.0, 0, 0), \n",
    "                         lambda acc, value: (acc[0] + value[0], acc[1] + 1, max(acc[2], value[0])), \n",
    "                         lambda acc1, acc2: (acc1[0] + acc2[0], acc1[1] + acc2[1], max(acc1[2], acc2[2]))) \\\n",
    "        .mapValues(lambda x: (x[0] / x[1], x[1], x[2])) \\\n",
    "        .map(lambda x: (x[0], ( x[1][1], x[1][0], x[1][2])))\\\n",
    "        .sortBy(lambda x: x[1][0], ascending=False) \n",
    "\n",
    "price.take(500)"
   ]
  },
  {
   "attachments": {},
   "cell_type": "markdown",
   "metadata": {},
   "source": [
    "# Max No. of Installs for each category"
   ]
  },
  {
   "cell_type": "code",
   "execution_count": 6,
   "metadata": {},
   "outputs": [
    {
     "data": {
      "text/plain": [
       "[('Tools', 18049967388),\n",
       " ('Communication', 12411624675),\n",
       " ('Social', 8187322038),\n",
       " ('Action', 6370229376),\n",
       " ('Productivity', 6290110338)]"
      ]
     },
     "execution_count": 6,
     "metadata": {},
     "output_type": "execute_result"
    }
   ],
   "source": [
    "# max installs= x[7], category= x[2]\n",
    "\n",
    "max_installs_categ= rdd.filter(lambda x:x!='')\\\n",
    "            .map(lambda x: (x.split(',')[2], x.split(',')[7]))\\\n",
    "            .mapValues(lambda x: int(x))\\\n",
    "            .reduceByKey(lambda x,y:(x+y))\\\n",
    "            .sortBy(lambda x: x[1], ascending=False)\n",
    "\n",
    "max_installs_categ.take(5)      "
   ]
  },
  {
   "attachments": {},
   "cell_type": "markdown",
   "metadata": {},
   "source": [
    "# Min No. of Installs for each category"
   ]
  },
  {
   "cell_type": "code",
   "execution_count": 26,
   "metadata": {},
   "outputs": [
    {
     "data": {
      "text/plain": [
       "[('Events', 12017919),\n",
       " ('Parenting', 31798395),\n",
       " ('Libraries & Demo', 41837747),\n",
       " ('Comics', 64775991),\n",
       " ('House & Home', 66617033)]"
      ]
     },
     "execution_count": 26,
     "metadata": {},
     "output_type": "execute_result"
    }
   ],
   "source": [
    "#TODO: check if this analysis is important or not\n",
    "# min installs= x[6], category= x[2]\n",
    "min_installs_categ= rdd.filter(lambda x:x!='')\\\n",
    "            .map(lambda x: (x.split(',')[2], x.split(',')[6]))\\\n",
    "            .filter(lambda x: x[1].isdigit()) \\\n",
    "            .mapValues(lambda x: int(x))\\\n",
    "            .reduceByKey(lambda x,y: x+y)\\\n",
    "            .sortBy(lambda x: x[1], ascending=True)\n",
    "\n",
    "min_installs_categ.take(5)"
   ]
  },
  {
   "attachments": {},
   "cell_type": "markdown",
   "metadata": {},
   "source": [
    "# Developed apps per developer"
   ]
  },
  {
   "cell_type": "code",
   "execution_count": 9,
   "metadata": {},
   "outputs": [
    {
     "data": {
      "text/plain": [
       "[('Subsplash Inc', 1122),\n",
       " ('ChowNow', 1010),\n",
       " ('TRAINERIZE', 999),\n",
       " ('OrderYOYO', 604),\n",
       " ('Phorest', 550)]"
      ]
     },
     "execution_count": 9,
     "metadata": {},
     "output_type": "execute_result"
    }
   ],
   "source": [
    "# TODO: make the key be: developer id, developer website & developer email\n",
    "\n",
    "developer_apps= rdd.filter(lambda x:x!='')\\\n",
    "                .map(lambda x: (x.split(',')[13], 1))\\\n",
    "                .reduceByKey(lambda x,y:(x+y))\\\n",
    "                .sortBy(lambda x: x[1], ascending=False)\n",
    "\n",
    "developer_apps.take(5)"
   ]
  }
 ],
 "metadata": {
  "kernelspec": {
   "display_name": "Python 3",
   "language": "python",
   "name": "python3"
  },
  "language_info": {
   "codemirror_mode": {
    "name": "ipython",
    "version": 3
   },
   "file_extension": ".py",
   "mimetype": "text/x-python",
   "name": "python",
   "nbconvert_exporter": "python",
   "pygments_lexer": "ipython3",
   "version": "3.10.9"
  },
  "orig_nbformat": 4
 },
 "nbformat": 4,
 "nbformat_minor": 2
}
