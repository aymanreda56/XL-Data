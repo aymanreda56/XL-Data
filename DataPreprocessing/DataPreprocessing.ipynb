{
 "cells": [
  {
   "cell_type": "code",
   "execution_count": 1,
   "metadata": {},
   "outputs": [],
   "source": [
    "import pyspark\n",
    "from pyspark.sql import SparkSession\n",
    "from pyspark import SparkContext\n",
    "import DataPreprocessing\n",
    "import os\n",
    "import sys\n",
    "\n",
    "# os.environ['PYSPARK_PYTHON'] = sys.executable\n",
    "# os.environ['PYSPARK_DRIVER_PYTHON'] = sys.executable\n",
    "# os.environ['PYSPARK_PYTHON']= 'C:\\\\Users\\\\Dell\\\\AppData\\\\Local\\\\Programs\\\\Python\\\\Python310'\n",
    "# os.environ['PYSPARK_DRIVER_PYTHON']= 'C:\\\\Users\\\\Dell\\\\AppData\\\\Local\\\\Programs\\\\Python\\\\Python310\\\\python.exe'\n",
    "# os.environ['SPARK_HOME'] = 'F:\\\\spark-3.4.0-bin-hadoop3\\\\spark-3.4.0-bin-hadoop3'\n",
    "# os.environ['HADOOP_HOME'] = 'F:\\\\spark-3.4.0-bin-hadoop3\\\\spark-3.4.0-bin-hadoop3\\\\hadoop'\n"
   ]
  },
  {
   "attachments": {},
   "cell_type": "markdown",
   "metadata": {},
   "source": [
    "### Spark session"
   ]
  },
  {
   "cell_type": "code",
   "execution_count": 2,
   "metadata": {},
   "outputs": [],
   "source": [
    "sc = SparkContext(master='local')\n",
    "spark=SparkSession.builder.appName('DataPreprocessing').getOrCreate()\n"
   ]
  },
  {
   "attachments": {},
   "cell_type": "markdown",
   "metadata": {},
   "source": [
    "### Splitting the data "
   ]
  },
  {
   "cell_type": "code",
   "execution_count": 3,
   "metadata": {},
   "outputs": [],
   "source": [
    "# DataPreprocessing.split_data()"
   ]
  },
  {
   "attachments": {},
   "cell_type": "markdown",
   "metadata": {},
   "source": [
    "### Replace delimiters"
   ]
  },
  {
   "cell_type": "code",
   "execution_count": 10,
   "metadata": {},
   "outputs": [],
   "source": [
    "# DataPreprocessing.replace_delimiters(delimiter='|')\n",
    "# DataPreprocessing.replace_delimiters(delimiter='|',kind='train')\n",
    "# DataPreprocessing.replace_delimiters(delimiter='|',kind='val')\n",
    "# DataPreprocessing.replace_delimiters(delimiter='|',kind='test')"
   ]
  },
  {
   "attachments": {},
   "cell_type": "markdown",
   "metadata": {},
   "source": [
    "### Reading the data"
   ]
  },
  {
   "cell_type": "code",
   "execution_count": 4,
   "metadata": {},
   "outputs": [
    {
     "name": "stdout",
     "output_type": "stream",
     "text": [
      "+--------------+------------+--------------+--------------+----------+--------------+----------+---------------------+------------------+-----------------------+---------------------+--------------+------------------+--------------------+--------------------+------------------+----------------------+--------------------+------------------+\n",
      "|App Name_index|App Id_index|Category_index|Installs_index|Free_index|Currency_index|Size_index|Minimum Android_index|Developer Id_index|Developer Website_index|Developer Email_index|Released_index|Last Updated_index|Content Rating_index|Privacy Policy_index|Ad Supported_index|In App Purchases_index|Editors Choice_index|Scraped Time_index|\n",
      "+--------------+------------+--------------+--------------+----------+--------------+----------+---------------------+------------------+-----------------------+---------------------+--------------+------------------+--------------------+--------------------+------------------+----------------------+--------------------+------------------+\n",
      "|      340325.0|    326573.0|          45.0|           0.0|       0.0|           0.0|      17.0|                  0.0|              15.0|               205611.0|                 14.0|         177.0|             511.0|                 0.0|                 1.0|               1.0|                   0.0|                 0.0|            9535.0|\n",
      "|        6710.0|    161887.0|          22.0|           0.0|       0.0|           0.0|      29.0|                  0.0|           10706.0|                 5679.0|               9572.0|         446.0|              77.0|                 0.0|            102093.0|               1.0|                   0.0|                 0.0|           44769.0|\n",
      "|       79946.0|    118902.0|          13.0|          12.0|       0.0|           0.0|     184.0|                  2.0|           90236.0|                75151.0|              58005.0|        3536.0|              20.0|                 0.0|            203513.0|               0.0|                   0.0|                 0.0|           26639.0|\n",
      "|      229998.0|    371961.0|           4.0|           1.0|       0.0|           0.0|      63.0|                 10.0|            2220.0|                 1036.0|               1988.0|          18.0|             221.0|                 0.0|              1604.0|               1.0|                   0.0|                 0.0|           38617.0|\n",
      "|       18671.0|    292680.0|           0.0|           4.0|       0.0|           0.0|      16.0|                  2.0|             263.0|                   82.0|                 92.0|        1648.0|             816.0|                 0.0|               259.0|               0.0|                   0.0|                 0.0|           16919.0|\n",
      "+--------------+------------+--------------+--------------+----------+--------------+----------+---------------------+------------------+-----------------------+---------------------+--------------+------------------+--------------------+--------------------+------------------+----------------------+--------------------+------------------+\n",
      "only showing top 5 rows\n",
      "\n"
     ]
    }
   ],
   "source": [
    "# useless_cols = ['Scraped Time', 'Privacy Policy', 'Currency', 'Editors Choice']\n",
    "df = DataPreprocessing.read_data(spark,kind='val', features='Categorical', encode=True, drop_cols=[])\n",
    "df.show(5)"
   ]
  },
  {
   "attachments": {},
   "cell_type": "markdown",
   "metadata": {},
   "source": [
    "### Get info about the dataset"
   ]
  },
  {
   "cell_type": "code",
   "execution_count": 5,
   "metadata": {},
   "outputs": [
    {
     "name": "stdout",
     "output_type": "stream",
     "text": [
      "Number of rows: 462589, Number of columns: 19\n",
      "Available features: ['App Name_index', 'App Id_index', 'Category_index', 'Installs_index', 'Free_index', 'Currency_index', 'Size_index', 'Minimum Android_index', 'Developer Id_index', 'Developer Website_index', 'Developer Email_index', 'Released_index', 'Last Updated_index', 'Content Rating_index', 'Privacy Policy_index', 'Ad Supported_index', 'In App Purchases_index', 'Editors Choice_index', 'Scraped Time_index']\n",
      "+-------+------------------+------------------+------------------+------------------+--------------------+--------------------+------------------+---------------------+------------------+-----------------------+---------------------+------------------+------------------+--------------------+--------------------+-------------------+----------------------+--------------------+------------------+\n",
      "|summary|    App Name_index|      App Id_index|    Category_index|    Installs_index|          Free_index|      Currency_index|        Size_index|Minimum Android_index|Developer Id_index|Developer Website_index|Developer Email_index|    Released_index|Last Updated_index|Content Rating_index|Privacy Policy_index| Ad Supported_index|In App Purchases_index|Editors Choice_index|Scraped Time_index|\n",
      "+-------+------------------+------------------+------------------+------------------+--------------------+--------------------+------------------+---------------------+------------------+-----------------------+---------------------+------------------+------------------+--------------------+--------------------+-------------------+----------------------+--------------------+------------------+\n",
      "|  count|            462589|            462589|            462589|            462589|              462589|              462589|            462589|               462589|            462589|                 462589|               462589|            462589|            462589|              462589|              462589|             462589|                462589|              462589|            462589|\n",
      "|   mean|220490.23660744203|          231294.0|10.743813622892027|3.4552788760649302|0.019697831120065543|0.001091681816904...|  65.6725019401672|    3.510098597242909|  70053.3889565035|     114555.88071916971|    82826.91512984528|1055.9949544844344| 538.5094565586298|  0.1828642704430931|   107364.8479773622|0.49730322165032026|   0.08441618802003506|3.826290724595699E-4|  25614.5697865708|\n",
      "| stddev| 133230.9305097227|133538.08617456912|10.202996667193549|3.2623829742518904| 0.14150351971309955| 0.07254427294007965|100.81008740537096|    6.064743186422217| 75881.38462632122|      84079.32309232032|    86111.49943868144| 948.5965528280839| 547.2836467985285|  0.5442143170983013|   94385.91900078175| 0.5009608090331894|    0.2780890097055847|0.019667409488165703| 17852.41605505108|\n",
      "|    min|               0.0|               0.0|               0.0|               0.0|                 0.0|                 0.0|               0.0|                  0.0|               0.0|                    0.0|                  0.0|               0.0|               0.0|                 0.0|                 0.0|                0.0|                   0.0|                 0.0|               0.0|\n",
      "|    max|          451600.0|          462588.0|              56.0|              28.0|                10.0|                 9.0|            1456.0|                 88.0|          244179.0|               205611.0|             269897.0|            4132.0|            3508.0|                16.0|            239893.0|               11.0|                   4.0|                 2.0|           66964.0|\n",
      "+-------+------------------+------------------+------------------+------------------+--------------------+--------------------+------------------+---------------------+------------------+-----------------------+---------------------+------------------+------------------+--------------------+--------------------+-------------------+----------------------+--------------------+------------------+\n",
      "\n"
     ]
    }
   ],
   "source": [
    "DataPreprocessing.get_info(df)"
   ]
  },
  {
   "attachments": {},
   "cell_type": "markdown",
   "metadata": {},
   "source": [
    "### Dealing with missing values"
   ]
  },
  {
   "cell_type": "code",
   "execution_count": 6,
   "metadata": {},
   "outputs": [
    {
     "name": "stdout",
     "output_type": "stream",
     "text": [
      "Total Number of rows : 462589\n",
      "Number of rows with missing values: 0\n",
      "Number of rows after dropping: 462589\n"
     ]
    }
   ],
   "source": [
    "df_copy= DataPreprocessing.missing_values(df)"
   ]
  },
  {
   "attachments": {},
   "cell_type": "markdown",
   "metadata": {},
   "source": [
    "### Outliers"
   ]
  },
  {
   "cell_type": "code",
   "execution_count": null,
   "metadata": {},
   "outputs": [],
   "source": [
    "DataPreprocessing.detect_outliers(df, 'Rating')"
   ]
  }
 ],
 "metadata": {
  "kernelspec": {
   "display_name": "Python 3",
   "language": "python",
   "name": "python3"
  },
  "language_info": {
   "codemirror_mode": {
    "name": "ipython",
    "version": 3
   },
   "file_extension": ".py",
   "mimetype": "text/x-python",
   "name": "python",
   "nbconvert_exporter": "python",
   "pygments_lexer": "ipython3",
   "version": "3.10.9"
  },
  "orig_nbformat": 4
 },
 "nbformat": 4,
 "nbformat_minor": 2
}
