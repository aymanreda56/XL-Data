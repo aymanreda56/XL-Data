{
 "cells": [
  {
   "cell_type": "code",
   "execution_count": 1,
   "metadata": {},
   "outputs": [],
   "source": [
    "import pyspark\n",
    "from pyspark.sql import SparkSession\n",
    "from pyspark import SparkContext\n",
    "import DataPreprocessing\n"
   ]
  },
  {
   "attachments": {},
   "cell_type": "markdown",
   "metadata": {},
   "source": [
    "### Spark session"
   ]
  },
  {
   "cell_type": "code",
   "execution_count": 2,
   "metadata": {},
   "outputs": [],
   "source": [
    "sc = SparkContext(master='local')\n",
    "spark=SparkSession.builder.appName('DataPreprocessing').getOrCreate()"
   ]
  },
  {
   "attachments": {},
   "cell_type": "markdown",
   "metadata": {},
   "source": [
    "### Splitting the data "
   ]
  },
  {
   "cell_type": "code",
   "execution_count": 3,
   "metadata": {},
   "outputs": [],
   "source": [
    "# split_data()"
   ]
  },
  {
   "attachments": {},
   "cell_type": "markdown",
   "metadata": {},
   "source": [
    "### Reading the data"
   ]
  },
  {
   "cell_type": "code",
   "execution_count": 4,
   "metadata": {},
   "outputs": [
    {
     "name": "stdout",
     "output_type": "stream",
     "text": [
      "+------+------------+----------------+----------------+-----+\n",
      "|Rating|Rating Count|Minimum Installs|Maximum Installs|Price|\n",
      "+------+------------+----------------+----------------+-----+\n",
      "|   0.0|           0|             100|             124|  0.0|\n",
      "|   0.0|           0|             100|             103|  0.0|\n",
      "|   2.7|       11211|          500000|          593625|  0.0|\n",
      "|   0.0|           0|            1000|            1178|  0.0|\n",
      "|   4.2|          13|             500|             731|  0.0|\n",
      "+------+------------+----------------+----------------+-----+\n",
      "only showing top 5 rows\n",
      "\n"
     ]
    }
   ],
   "source": [
    "# useless_cols = ['Scraped Time', 'Privacy Policy', 'Currency', 'Editors Choice']\n",
    "df = DataPreprocessing.read_data(spark,kind='val', features='Numerical')\n",
    "df.show(5)"
   ]
  },
  {
   "attachments": {},
   "cell_type": "markdown",
   "metadata": {},
   "source": [
    "### Get info about the dataset"
   ]
  },
  {
   "cell_type": "code",
   "execution_count": 5,
   "metadata": {},
   "outputs": [
    {
     "name": "stdout",
     "output_type": "stream",
     "text": [
      "Number of rows: 462589, Number of columns: 5\n",
      "Available features: ['Rating', 'Rating Count', 'Minimum Installs', 'Maximum Installs', 'Price']\n",
      "+-------+------------------+------------------+------------------+------------------+------------------+\n",
      "|summary|            Rating|      Rating Count|  Minimum Installs|  Maximum Installs|             Price|\n",
      "+-------+------------------+------------------+------------------+------------------+------------------+\n",
      "|  count|            457947|            457953|            462560|            462582|            462583|\n",
      "|   mean|  2.20660840667321|2761.5502551571885|144657.87451790037|244263.03848182593|10.918122856241133|\n",
      "| stddev|2.1069718936561266|178228.84234296193| 5556798.220447107|  7697412.10194939| 7351.487590151274|\n",
      "|    min|               0.0|                 0|                 0|                 0|               0.0|\n",
      "|    max|               5.0|          89177097|        1000000000|        2063336389|         5000000.0|\n",
      "+-------+------------------+------------------+------------------+------------------+------------------+\n",
      "\n"
     ]
    }
   ],
   "source": [
    "DataPreprocessing.get_info(df)"
   ]
  },
  {
   "attachments": {},
   "cell_type": "markdown",
   "metadata": {},
   "source": [
    "### Dealing with missing values"
   ]
  },
  {
   "cell_type": "code",
   "execution_count": 6,
   "metadata": {},
   "outputs": [
    {
     "name": "stdout",
     "output_type": "stream",
     "text": [
      "Total Number of rows : 462589\n",
      "Number of rows with missing values: 6\n",
      "Number of rows after dropping: 457942\n"
     ]
    }
   ],
   "source": [
    "df_copy= DataPreprocessing.missing_values(df)"
   ]
  },
  {
   "attachments": {},
   "cell_type": "markdown",
   "metadata": {},
   "source": [
    "### Outliers"
   ]
  },
  {
   "cell_type": "code",
   "execution_count": 7,
   "metadata": {},
   "outputs": [
    {
     "name": "stdout",
     "output_type": "stream",
     "text": [
      "Number of outliers in Rating: 0\n"
     ]
    }
   ],
   "source": [
    "DataPreprocessing.detect_outliers(df, 'Rating')"
   ]
  }
 ],
 "metadata": {
  "kernelspec": {
   "display_name": "Python 3",
   "language": "python",
   "name": "python3"
  },
  "language_info": {
   "codemirror_mode": {
    "name": "ipython",
    "version": 3
   },
   "file_extension": ".py",
   "mimetype": "text/x-python",
   "name": "python",
   "nbconvert_exporter": "python",
   "pygments_lexer": "ipython3",
   "version": "3.10.9"
  },
  "orig_nbformat": 4
 },
 "nbformat": 4,
 "nbformat_minor": 2
}
