{
 "cells": [
  {
   "cell_type": "code",
   "execution_count": 1,
   "metadata": {},
   "outputs": [],
   "source": [
    "import pyspark\n",
    "from pyspark.sql import SparkSession\n",
    "from pyspark import SparkContext\n",
    "import DataPreprocessing\n",
    "import os\n",
    "import sys\n",
    "\n",
    "# os.environ['PYSPARK_PYTHON'] = sys.executable\n",
    "# os.environ['PYSPARK_DRIVER_PYTHON'] = sys.executable\n",
    "# os.environ['PYSPARK_PYTHON']= 'C:\\\\Users\\\\Dell\\\\AppData\\\\Local\\\\Programs\\\\Python\\\\Python310'\n",
    "# os.environ['PYSPARK_DRIVER_PYTHON']= 'C:\\\\Users\\\\Dell\\\\AppData\\\\Local\\\\Programs\\\\Python\\\\Python310\\\\python.exe'\n",
    "# os.environ['SPARK_HOME'] = 'F:\\\\spark-3.4.0-bin-hadoop3\\\\spark-3.4.0-bin-hadoop3'\n",
    "# os.environ['HADOOP_HOME'] = 'F:\\\\spark-3.4.0-bin-hadoop3\\\\spark-3.4.0-bin-hadoop3\\\\hadoop'\n"
   ]
  },
  {
   "attachments": {},
   "cell_type": "markdown",
   "metadata": {},
   "source": [
    "### Spark session"
   ]
  },
  {
   "cell_type": "code",
   "execution_count": 11,
   "metadata": {},
   "outputs": [],
   "source": [
    "sc = SparkContext(master='local')\n",
    "spark=SparkSession.builder.appName('DataPreprocessing').getOrCreate()\n"
   ]
  },
  {
   "attachments": {},
   "cell_type": "markdown",
   "metadata": {},
   "source": [
    "### Splitting the data "
   ]
  },
  {
   "cell_type": "code",
   "execution_count": null,
   "metadata": {},
   "outputs": [],
   "source": [
    "# DataPreprocessing.split_data()"
   ]
  },
  {
   "attachments": {},
   "cell_type": "markdown",
   "metadata": {},
   "source": [
    "### Replace delimiters"
   ]
  },
  {
   "cell_type": "code",
   "execution_count": 2,
   "metadata": {},
   "outputs": [],
   "source": [
    "# DataPreprocessing.delimiter_to_comma()\n",
    "# DataPreprocessing.delimiter_to_comma(file_name='train')\n",
    "# DataPreprocessing.delimiter_to_comma(file_name='val')\n",
    "# DataPreprocessing.delimiter_to_comma(file_name='test')"
   ]
  },
  {
   "attachments": {},
   "cell_type": "markdown",
   "metadata": {},
   "source": [
    "### Reading the data"
   ]
  },
  {
   "cell_type": "code",
   "execution_count": 16,
   "metadata": {},
   "outputs": [
    {
     "name": "stdout",
     "output_type": "stream",
     "text": [
      "+--------------------+--------------------+-----------------+------+------------+----------+----------------+----------------+-----+-----+--------+------------------+------------------+--------------------+--------------------+--------------------+------------+------------+--------------+--------------------+------------+----------------+--------------+-------------------+\n",
      "|            App Name|              App Id|         Category|Rating|Rating Count|  Installs|Minimum Installs|Maximum Installs| Free|Price|Currency|              Size|   Minimum Android|        Developer Id|   Developer Website|     Developer Email|    Released|Last Updated|Content Rating|      Privacy Policy|Ad Supported|In App Purchases|Editors Choice|       Scraped Time|\n",
      "+--------------------+--------------------+-----------------+------+------------+----------+----------------+----------------+-----+-----+--------+------------------+------------------+--------------------+--------------------+--------------------+------------+------------+--------------+--------------------+------------+----------------+--------------+-------------------+\n",
      "|           C2C Horse|com.alsalamtdm.c2...|         Shopping|   0.0|         0.0|       50+|            50.0|              99| True|  0.0|     USD|              1.7M|      4.0.3 and up|          AlsalamTDM|http://alsalamtdm...|alsalamtdm@gmail.com|Aug 10, 2018|Aug 10, 2018|      Everyone|                null|       False|           False|         false|2021-06-15 22:40:41|\n",
      "|All in One App - ...|com.only.learns.b...|    Communication|   4.9|        15.0|    1,000+|          1000.0|            1273| True|  0.0|     USD|              3.5M|        4.4 and up|       Snoozetek Pro|                null|onlylearns@gmail.com| Apr 8, 2020|Jul 05, 2020|      Everyone|https://www.onlyl...|        True|           False|         false|2021-06-16 11:11:39|\n",
      "|Movie News, Video...|      moviecreed.app|    Entertainment|   4.6|        33.0|   10,000+|         10000.0|           10805| True|  0.0|     USD|              3.1M|        4.1 and up|       AppsContinuum|http://www.appsco...|contact@appsconti...|Jul 16, 2016|Jan 26, 2020|          Teen|http://www.appsco...|        True|           False|         false|2021-06-16 14:58:08|\n",
      "|Just Another RSS ...|com.joshuabeemste...| News & Magazines|   0.0|         0.0|      100+|           100.0|             107| True|  0.0|     USD|              2.6M|        8.0 and up|     Joshua Beemster|                null| dev.jarfa@gmail.com| Sep 9, 2017|Dec 26, 2019|      Everyone|                null|       False|           False|         false|2021-06-16 07:34:19|\n",
      "|    The PAGE Academy|      co.hodor.oussj|        Education|   0.0|         0.0|       50+|            50.0|              63| True|  0.0|     USD|               37M|        4.2 and up|Education Door Media|                null|support@classplus.co| Oct 9, 2020|Jun 05, 2021|      Everyone|https://bit.ly/2Y...|       False|           False|         false|2021-06-16 09:47:25|\n",
      "|FaceFind: VK & We...|com.viyatek.facefind|    Entertainment|   1.6|      1272.0|  100,000+|        100000.0|          277500| True|  0.0|     USD|               15M|        5.0 and up|             Viyatek|https://facefind.io/|   hello@facefind.io|Jul 17, 2020|Dec 25, 2020|      Everyone|https://facefind....|        True|            True|         false|2021-06-16 13:45:10|\n",
      "|HOLY ANGELS SCHOO...|com.appscook.pare...|        Education|   2.9|       179.0|    1,000+|          1000.0|            4124| True|  0.0|     USD|               86M|        5.0 and up|Appscook Technolo...|                null|office.appscook@g...|May 19, 2020|Oct 12, 2020|      Everyone|https://appscook....|       False|           False|         false|2021-06-16 02:26:08|\n",
      "|           Last Deck|    com.tag.lastdeck|             Card|   0.0|         0.0|       10+|            10.0|              29| True|  0.0|     USD|               57M|        6.0 and up|           Last Deck|http://thelastdec...|lastdeckapp@gmail...|Jun 17, 2020|Dec 28, 2020|      Everyone|http://thelastdec...|        True|            True|         false|2021-06-16 06:07:28|\n",
      "|           Životinje|    wargog.zivotinje|        Parenting|   3.5|        16.0|    1,000+|          1000.0|            2044| True|  0.0|     USD|              5.9M|        4.4 and up|              Wargog|http://www.wargog...|  support@wargog.com| May 8, 2018|Jun 19, 2018|      Everyone|http://wargog.com...|        True|           False|         false|2021-06-16 00:49:32|\n",
      "|Bully Button Pare...| com.wli.bbparentkid|        Lifestyle|   0.0|         0.0|       10+|            10.0|              47| True|  0.0|     USD|               63M|       4.4W and up|        Weblineindia|http://www.weblin...|androidplay.wli@g...|Sep 21, 2020|Sep 29, 2020|      Everyone|https://www.webli...|       False|           False|         false|2021-06-16 05:06:28|\n",
      "|          InviteDesk|      app.invitedesk|           Events|   0.0|         0.0|      100+|           100.0|             239| True|  0.0|     USD|              3.0M|        4.4 and up|          InviteDesk|https://invitedes...|support@invitedes...|Dec 13, 2018|Oct 23, 2019|      Everyone|https://invitedes...|       False|           False|         false|2021-06-15 23:34:47|\n",
      "|  SB Tracker - Admin|com.sbtrackerandr...|   Travel & Local|   4.5|        11.0|      500+|           500.0|             671| True|  0.0|     USD|               22M|        4.1 and up|        VIBU Technix|http://www.sbtrac...|sbtracker.in@gmai...|Aug 16, 2018|Jul 13, 2019|      Everyone|http://sbtracker.in/|       False|           False|         false|2021-06-16 03:17:50|\n",
      "|              Adzzer|      com.adz.adzzer|         Shopping|   0.0|         0.0|       10+|            10.0|              22| True|  0.0|     USD|               12M|        4.1 and up|      Adzzer Pte Ltd|https://www.adzze...|  support@adzzer.com|Oct 23, 2020|Oct 23, 2020|      Everyone|https://www.adzze...|        True|           False|         false|2021-06-16 12:45:04|\n",
      "|             Compass|  com.maruar.compass|            Tools|   4.3|      1009.0|  100,000+|        100000.0|          107933| True|  0.0|     USD|              3.6M|        5.0 and up|              maruar|   http://maruar.com|maruar.info@gmail...| Oct 2, 2018|Mar 26, 2021|      Everyone|http://www.maruar...|        True|            True|         false|2021-06-16 02:30:24|\n",
      "|           Mechaniku|   com.mechaniku.app|  Auto & Vehicles|   0.0|         0.0|       10+|            10.0|              19| True|  0.0|     USD|               18M|        5.0 and up|    Clifton Hartsuff|https://mechaniku...|clifton@mechaniku...|Jun 11, 2019|Jun 26, 2019|      Everyone|https://mechaniku...|       False|           False|         false|2021-06-16 13:24:07|\n",
      "|Teenage Girl Shor...|com.appsdrive.tee...|      Photography|   0.0|         0.0|    5,000+|          5000.0|            6182| True|  0.0|     USD|              5.4M|      4.0.3 and up|          Apps Drive|                null|appsdrive313@gmai...|Sep 14, 2015|Nov 24, 2019|      Everyone|http://appsdrive3...|        True|           False|         false|2021-06-16 13:46:26|\n",
      "|           FuteClube|br.com.domynus.ap...|           Sports|   0.0|         0.0|        5+|             5.0|               5| True|  0.0|     USD|               14M|        4.1 and up|             DOMYNUS|http://www.DOMYNU...|diretoria@domynus...|Aug 24, 2017|Aug 24, 2017|          Teen|https://app.domyn...|        True|           False|         false|2021-06-16 12:00:43|\n",
      "|QR & Barcode Scanner|      com.fourarc.qr|            Tools|   4.4|        54.0|    5,000+|          5000.0|            9966| True|  0.0|     USD|              8.0M|        4.2 and up|      FourArc Studio|http://www.fourar...|fourarctechnology...|Apr 29, 2017|Feb 08, 2020|      Everyone|http://fourarctec...|        True|            True|         false|2021-06-16 03:15:03|\n",
      "|Aerospace Enginee...|com.andromo.dev60...|        Education|   4.1|        19.0|    5,000+|          5000.0|            5302| True|  0.0|     USD|              3.0M|        4.1 and up|      Ambitious Apps|                null|meryemelabdellaou...|Sep 19, 2018|Sep 29, 2018|      Everyone|https://sites.goo...|        True|           False|         false|2021-06-16 09:24:34|\n",
      "|       Karma For You|  bigapp.karmaforyou|           Social|   0.0|         0.0|       10+|            10.0|              45| True|  0.0|     USD|              7.6M|        4.1 and up|            SpotASAP|http://www.spotso...|support@spotsoon.com| Feb 6, 2018|Apr 13, 2018|          Teen|http://bigappcomp...|       False|           False|         false|2021-06-16 12:12:41|\n",
      "|Russian-italian a...|com.ttdictionary....|Books & Reference|   4.7|       657.0|   10,000+|         10000.0|           48916| True|  0.0|     USD|               45M|        4.3 and up|TTdictionary Offline|http://ttdictiona...|  ttdicpro@gmail.com|Jun 19, 2016|Sep 02, 2020|      Everyone|http://ttdictiona...|        True|            True|         false|2021-06-16 05:27:42|\n",
      "|Power Automate—Bu...|  com.microsoft.flow|         Business|   3.5|      2687.0|  500,000+|        500000.0|          602476| True|  0.0|     USD|               18M|        5.0 and up|Microsoft Corpora...|http://powerautom...|flowmobilesupport...|Oct 31, 2016|Nov 06, 2019|      Everyone|https://www.micro...|       False|           False|         false|2021-06-16 11:46:09|\n",
      "|      Personal Diary|    com.rahul.pDiary|            Tools|   4.3|       839.0|  100,000+|        100000.0|          201949| True|  0.0|     USD|              2.8M|        4.0 and up|           Rahul A R|                null|android.personal....|Jun 10, 2012|Jul 29, 2016|      Everyone|http://rahular.co...|        True|           False|         false|2021-06-16 09:42:25|\n",
      "|Best New Stock Ri...|com.ringtones.top...|  Personalization|   4.1|        50.0|    5,000+|          5000.0|            6200| True|  0.0|     USD|               52M|        4.4 and up|         VenturaApps|http://openinterf...|adaleruswami@gmai...|Apr 12, 2020|Oct 31, 2020|      Everyone|https://sites.goo...|        True|           False|         false|2021-06-16 04:50:33|\n",
      "|              J Goat|urban.timotej.pes...|           Arcade|   0.0|         0.0|       10+|            10.0|              19| True|  0.0|     USD|               24M|        4.1 and up|            Up Games|                null|urban.timotej.pes...|Mar 21, 2018|Mar 21, 2018|      Everyone|https://docs.goog...|        True|           False|         false|2021-06-16 01:55:54|\n",
      "|iLeap for small b...|com.kuza.ileap.wf...|        Education|   0.0|         0.0|       10+|            10.0|              24| True|  0.0|     USD|               29M|        4.4 and up|                Kuza| http://www.kuza.one|sreekanth@iridium...|Aug 12, 2020|Aug 25, 2020|      Everyone|https://platform....|       False|           False|         false|2021-06-16 09:13:36|\n",
      "|Körber Pharma Sof...|mobile.appe0AQ3geFK4|         Business|   0.0|         0.0|      100+|           100.0|             312| True|  0.0|     USD|               48M|        7.0 and up|              Körber|http://www.werum.com|obay.alchorbaji@g...|Apr 23, 2018|Feb 23, 2021|      Everyone|http://www.werum....|        True|           False|         false|2021-06-16 03:12:34|\n",
      "|Ez Calculus Formulas|com.genorangelabs...|Books & Reference|   0.0|         0.0|        1+|             1.0|               3| True|  0.0|     USD|              6.5M|        5.0 and up|        GenOrangeLab|                null|genorangelab@gmai...|Nov 21, 2020|Nov 21, 2020|      Everyone|                null|        True|           False|         false|2021-06-16 12:34:04|\n",
      "|         LiveStocker|com.animalsoft.mo...|         Business|   0.0|         0.0|      100+|           100.0|             222| True|  0.0|     USD|              6.6M|        6.0 and up|     AnimalSoft Ltd.|http://animalcont...|developer@animals...| Sep 7, 2018|Mar 26, 2021|      Everyone|http://mobilgate....|       False|           False|         false|2021-06-16 09:35:11|\n",
      "|      Get the Number|com.casualdutchma...|         Strategy|   0.0|         0.0|       10+|            10.0|              17| True|  0.0|     USD|               23M|        4.1 and up|     Casual Dutchman|                null|casual.dutchman@l...| Aug 7, 2017|Aug 11, 2017|      Everyone|                null|        True|           False|         false|2021-06-16 14:30:41|\n",
      "|Best Funny Sarcas...|com.cleoscorpion....|    Entertainment|   3.4|         8.0|    1,000+|          1000.0|            4309| True|  0.0|     USD|               29M|        4.1 and up|       Cleo Scorpion|https://cleoscorp...|cleoscorpion9083@...|Feb 28, 2020|Oct 14, 2020|      Everyone|http://cleoscorpi...|        True|           False|         false|2021-06-15 21:11:55|\n",
      "|Vro Vra Telangana...|com.trendingdevel...|        Education|   3.5|        27.0|    5,000+|          5000.0|            6031| True|  0.0|     USD|              8.2M|      4.0.3 and up| Trending Developers|http://trendingde...|trendingdeveloper...| Jul 4, 2018|Aug 27, 2018|      Everyone|                null|        True|           False|         false|2021-06-16 13:45:37|\n",
      "|              體脂記|     com.sun.leo.fat| Health & Fitness|   0.0|         0.0|      100+|           100.0|             183| True|  0.0|     USD|              3.9M|        7.0 and up|             Leo先生|                null|   NT82518@gmail.com|Mar 26, 2019|Aug 24, 2020|      Everyone|                null|        True|           False|         false|2021-06-16 08:24:56|\n",
      "|  Ellsworth American|com.ellsworthamer...| News & Magazines|   4.3|        11.0|    1,000+|          1000.0|            1355| True|  0.0|     USD|Varies with device|        4.4 and up|Ellsworth America...|http://ellswortha...|membership@ellswo...| Feb 1, 2016|Jun 04, 2021|      Everyone|http://ellswortha...|        True|           False|         false|2021-06-16 08:50:26|\n",
      "|    Plaza Jagershoef|nl.foodticket.app...|         Shopping|   0.0|         0.0|      500+|           500.0|             516| True|  0.0|     USD|              1.4M|      4.0.3 and up|       Foodticket BV|http://www.foodti...|  info@foodticket.nl|        null|May 31, 2019|      Everyone|https://www.foodt...|       False|           False|         false|2021-06-15 20:39:03|\n",
      "|AB InBev Hospitality|com.elixsoft.abin...|   Travel & Local|   5.0|         8.0|      500+|           500.0|             640| True|  0.0|     USD|               81M|        5.1 and up|    Elixsoft Limited|http://www.ab-inb...|support@elixsoft.com|Jun 16, 2017|Jun 20, 2018|      Everyone|http://www.ab-inb...|       False|           False|         false|2021-06-16 01:28:19|\n",
      "|         Denuncia Ya|com.rodrigo.denun...|           Social|   4.0|         6.0|      500+|           500.0|             631| True|  0.0|     USD|              538k|        4.0 and up|         Denuncia Ya|http://denunciaya.cl|rodrigo.cardenasp...|Jun 29, 2015|Jun 30, 2015|          Teen|http://denunciaya...|       False|           False|         false|2021-06-16 13:10:17|\n",
      "|Kumpulan Ebook Islam|     new.ebook.islam|Books & Reference|   4.4|      1484.0|   50,000+|         50000.0|           72362| True|  0.0|     USD|               27M|      4.0.3 and up|Indonesian Indepe...|                null|smartphone.aplika...| May 1, 2015|Jun 14, 2016|      Everyone|http://aplikasi-s...|        True|           False|         false|2021-06-15 20:39:18|\n",
      "|Recetas Italianas...|com.moniapps.rece...|        Lifestyle|   4.6|        40.0|    5,000+|          5000.0|            8714| True|  0.0|     USD|             10.0M|        4.4 and up|Recetas de cocina...|https://apper.app...|monicanoemimartin...|Apr 28, 2018|Feb 23, 2021|      Everyone|http://recetasdec...|        True|           False|         false|2021-06-16 14:01:37|\n",
      "|Vince Lombardi Qu...|vince.lombardi.qu...|        Lifestyle|   0.0|         0.0|      100+|           100.0|             284| True|  0.0|     USD|               54M|        4.1 and up|            Dub Apps|  http://dubapps.com|agoristcoder@gmai...|Jun 17, 2018|Apr 18, 2020|      Everyone|http://appsmoment...|        True|           False|         false|2021-06-15 22:38:03|\n",
      "|Retablo Mayor. Ca...|es.imagenmas.sovi...|   Travel & Local|   0.0|         0.0|        0+|             0.0|               0|False| 1.99|     USD|               37M|      4.0.3 and up|             SOVIEWS|  http://soviews.com|miguelperezcabeza...|Dec 16, 2016|Dec 16, 2016|      Everyone|                null|       False|           False|         false|2021-06-16 12:34:24|\n",
      "|Car Racing - Fun ...|com.baby.games.st...|           Racing|   4.2|        10.0|    1,000+|          1000.0|            2119| True|  0.0|     USD|               17M|        3.0 and up|     BabyGamesStudio|http://www.babyga...|babygamesstudio@g...|May 22, 2015|Apr 06, 2016|          Teen|http://babygamess...|        True|           False|         false|2021-06-16 04:14:00|\n",
      "|          Sniper GPS|com.afaqy.sniperg...|Maps & Navigation|   0.0|         0.0|      100+|           100.0|             216| True|  0.0|     USD|              7.7M|        5.0 and up|           AFAQY LLC|http://www.afaqy.com|    kelany@afaqy.com| Feb 5, 2019|Jun 07, 2021|      Everyone|http://www.gmtcc....|       False|           False|         false|2021-06-16 15:05:28|\n",
      "|      Rádio 101.9 FM| com.radios.fm_101_9|    Music & Audio|   4.4|        11.0|    1,000+|          1000.0|            1578| True|  0.0|     USD|              5.9M|        4.2 and up|     WebRadio.com.br|https://www.webra...| eneas@gesing.com.br|Feb 24, 2020|Feb 24, 2020|      Everyone|https://www.webra...|        True|           False|         false|2021-06-16 11:14:57|\n",
      "|Mental illness De...|mental.illness.de...|Books & Reference|   0.0|         0.0|      100+|           100.0|             120| True|  0.0|     USD|               10M|        4.4 and up|      The Future Dev|https://justwomen...|kepandaiankelengk...|Jan 31, 2020|Jan 31, 2020|  Everyone 10+|https://justwomen...|        True|           False|         false|2021-06-16 10:25:22|\n",
      "|Homebook - Dom i ...|         pl.homebook|     House & Home|   4.3|     11082.0|1,000,000+|       1000000.0|         1622833| True|  0.0|     USD|Varies with device|Varies with device|         Homebook.pl|https://www.homeb...|mobileapp@homeboo...|Jul 10, 2015|May 26, 2021|      Everyone|https://www.homeb...|       False|           False|         false|2021-06-16 14:16:08|\n",
      "|              GAMEIS|mobile.appJNJrgTDHwZ|           Events|   0.0|         0.0|      100+|           100.0|             106| True|  0.0|     USD|               52M|        7.0 and up|              GAMEIS|   http://gameis.org|socialmedia@gamei...|Apr 29, 2019|Jun 08, 2021|      Everyone|https://www.cvent...|        True|           False|         false|2021-06-16 12:28:36|\n",
      "| Landgasthof Meimers|com.createmyapps....|     Food & Drink|   5.0|         5.0|      500+|           500.0|             851| True|  0.0|     USD|              7.3M|        4.4 and up|         Apps4Gastro|https://full-serv...|info@full-service...|        null|Apr 07, 2020|      Everyone|https://full-serv...|       False|           False|         false|2021-06-16 14:08:52|\n",
      "|         تعالى نكتشف|io.kodular.cowden...|Books & Reference|   0.0|         0.0|       10+|            10.0|              18| True|  0.0|     USD|              6.0M|        4.4 and up|     Taala Naktashef|https://taalanakt...|contact@taalanakt...| Nov 1, 2019|Nov 01, 2019|      Everyone|https://taalanakt...|       False|           False|         false|2021-06-16 08:40:37|\n",
      "|         Space Troop|com.richpigeons.s...|        Adventure|   0.0|         0.0|       10+|            10.0|              12| True|  0.0|     USD|               56M|        4.4 and up|        Rich Pigeons|                null|  peraltej@gmail.com| Sep 1, 2020|Sep 06, 2020|      Everyone|https://space-tro...|        True|            True|         false|2021-06-16 10:24:52|\n",
      "+--------------------+--------------------+-----------------+------+------------+----------+----------------+----------------+-----+-----+--------+------------------+------------------+--------------------+--------------------+--------------------+------------+------------+--------------+--------------------+------------+----------------+--------------+-------------------+\n",
      "only showing top 50 rows\n",
      "\n"
     ]
    }
   ],
   "source": [
    "# useless_cols = ['Scraped Time', 'Privacy Policy', 'Currency', 'Editors Choice']\n",
    "df = DataPreprocessing.read_data(spark,kind='val', )\n",
    "df.show(50)"
   ]
  },
  {
   "attachments": {},
   "cell_type": "markdown",
   "metadata": {},
   "source": [
    "### Get info about the dataset"
   ]
  },
  {
   "cell_type": "code",
   "execution_count": 5,
   "metadata": {},
   "outputs": [
    {
     "name": "stdout",
     "output_type": "stream",
     "text": [
      "Number of rows: 462589, Number of columns: 19\n",
      "Available features: ['App Name_index', 'App Id_index', 'Category_index', 'Installs_index', 'Free_index', 'Currency_index', 'Size_index', 'Minimum Android_index', 'Developer Id_index', 'Developer Website_index', 'Developer Email_index', 'Released_index', 'Last Updated_index', 'Content Rating_index', 'Privacy Policy_index', 'Ad Supported_index', 'In App Purchases_index', 'Editors Choice_index', 'Scraped Time_index']\n",
      "+-------+------------------+------------------+------------------+------------------+--------------------+--------------------+------------------+---------------------+------------------+-----------------------+---------------------+------------------+------------------+--------------------+--------------------+-------------------+----------------------+--------------------+------------------+\n",
      "|summary|    App Name_index|      App Id_index|    Category_index|    Installs_index|          Free_index|      Currency_index|        Size_index|Minimum Android_index|Developer Id_index|Developer Website_index|Developer Email_index|    Released_index|Last Updated_index|Content Rating_index|Privacy Policy_index| Ad Supported_index|In App Purchases_index|Editors Choice_index|Scraped Time_index|\n",
      "+-------+------------------+------------------+------------------+------------------+--------------------+--------------------+------------------+---------------------+------------------+-----------------------+---------------------+------------------+------------------+--------------------+--------------------+-------------------+----------------------+--------------------+------------------+\n",
      "|  count|            462589|            462589|            462589|            462589|              462589|              462589|            462589|               462589|            462589|                 462589|               462589|            462589|            462589|              462589|              462589|             462589|                462589|              462589|            462589|\n",
      "|   mean|220490.23660744203|          231294.0|10.743813622892027|3.4552788760649302|0.019697831120065543|0.001091681816904...|  65.6725019401672|    3.510098597242909|  70053.3889565035|     114555.88071916971|    82826.91512984528|1055.9949544844344| 538.5094565586298|  0.1828642704430931|   107364.8479773622|0.49730322165032026|   0.08441618802003506|3.826290724595699E-4|  25614.5697865708|\n",
      "| stddev| 133230.9305097227|133538.08617456912|10.202996667193549|3.2623829742518904| 0.14150351971309955| 0.07254427294007965|100.81008740537096|    6.064743186422217| 75881.38462632122|      84079.32309232032|    86111.49943868144| 948.5965528280839| 547.2836467985285|  0.5442143170983013|   94385.91900078175| 0.5009608090331894|    0.2780890097055847|0.019667409488165703| 17852.41605505108|\n",
      "|    min|               0.0|               0.0|               0.0|               0.0|                 0.0|                 0.0|               0.0|                  0.0|               0.0|                    0.0|                  0.0|               0.0|               0.0|                 0.0|                 0.0|                0.0|                   0.0|                 0.0|               0.0|\n",
      "|    max|          451600.0|          462588.0|              56.0|              28.0|                10.0|                 9.0|            1456.0|                 88.0|          244179.0|               205611.0|             269897.0|            4132.0|            3508.0|                16.0|            239893.0|               11.0|                   4.0|                 2.0|           66964.0|\n",
      "+-------+------------------+------------------+------------------+------------------+--------------------+--------------------+------------------+---------------------+------------------+-----------------------+---------------------+------------------+------------------+--------------------+--------------------+-------------------+----------------------+--------------------+------------------+\n",
      "\n"
     ]
    }
   ],
   "source": [
    "DataPreprocessing.get_info(df)"
   ]
  },
  {
   "attachments": {},
   "cell_type": "markdown",
   "metadata": {},
   "source": [
    "### Dealing with missing values"
   ]
  },
  {
   "cell_type": "code",
   "execution_count": 6,
   "metadata": {},
   "outputs": [
    {
     "name": "stdout",
     "output_type": "stream",
     "text": [
      "Total Number of rows : 462589\n",
      "Number of rows with missing values: 0\n",
      "Number of rows after dropping: 462589\n"
     ]
    }
   ],
   "source": [
    "df_copy= DataPreprocessing.missing_values(df)"
   ]
  },
  {
   "attachments": {},
   "cell_type": "markdown",
   "metadata": {},
   "source": [
    "### Outliers"
   ]
  },
  {
   "cell_type": "code",
   "execution_count": null,
   "metadata": {},
   "outputs": [],
   "source": [
    "DataPreprocessing.detect_outliers(df, 'Rating')"
   ]
  }
 ],
 "metadata": {
  "kernelspec": {
   "display_name": "Python 3",
   "language": "python",
   "name": "python3"
  },
  "language_info": {
   "codemirror_mode": {
    "name": "ipython",
    "version": 3
   },
   "file_extension": ".py",
   "mimetype": "text/x-python",
   "name": "python",
   "nbconvert_exporter": "python",
   "pygments_lexer": "ipython3",
   "version": "3.10.9"
  },
  "orig_nbformat": 4
 },
 "nbformat": 4,
 "nbformat_minor": 2
}
