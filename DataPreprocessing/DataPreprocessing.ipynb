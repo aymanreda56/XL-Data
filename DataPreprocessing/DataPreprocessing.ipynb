{
  "cells": [
    {
      "cell_type": "code",
      "execution_count": 1,
      "metadata": {},
      "outputs": [],
      "source": [
        "# !pip install PyArrow"
      ]
    },
    {
      "cell_type": "code",
      "execution_count": 2,
      "metadata": {},
      "outputs": [],
      "source": [
        "import pyspark\n",
        "from pyspark.sql import SparkSession\n",
        "from pyspark import SparkContext\n",
        "import DataPreprocessing"
      ]
    },
    {
      "attachments": {},
      "cell_type": "markdown",
      "metadata": {},
      "source": [
        "# Spark session"
      ]
    },
    {
      "cell_type": "code",
      "execution_count": 3,
      "metadata": {},
      "outputs": [],
      "source": [
        "# spark = SparkSession.builder \\\n",
        "#     .master(\"local[*]\") \\\n",
        "#     .appName(\"DataPreprocessing\") \\\n",
        "#     .config('spark.sql.execution.arrow.pyspark.enabled', True) \\\n",
        "#     .config('spark.sql.session.timeZone', 'UTC') \\\n",
        "#     .config('spark.driver.memory', '48G') \\\n",
        "#     .config('spark.ui.showConsoleProgress', True) \\\n",
        "#     .config('spark.sql.repl.eagerEval.enabled', True) \\\n",
        "#     .getOrCreate()\n",
        "\n",
        "spark = SparkSession.builder.appName('DataPreprocessing').getOrCreate()\n",
        "\n",
        "sc=spark.sparkContext"
      ]
    },
    {
      "attachments": {},
      "cell_type": "markdown",
      "metadata": {},
      "source": [
        "# Reading the data"
      ]
    },
    {
      "cell_type": "code",
      "execution_count": 4,
      "metadata": {},
      "outputs": [],
      "source": [
        "file_name='Google-Playstore'"
      ]
    },
    {
      "cell_type": "code",
      "execution_count": 5,
      "metadata": {},
      "outputs": [],
      "source": [
        "df = DataPreprocessing.read_data(spark)\n",
        "# df.show(5)"
      ]
    },
    {
      "attachments": {},
      "cell_type": "markdown",
      "metadata": {},
      "source": [
        "# Get info about the data"
      ]
    },
    {
      "cell_type": "code",
      "execution_count": 6,
      "metadata": {},
      "outputs": [],
      "source": [
        "# DataPreprocessing.get_info(df)"
      ]
    },
    {
      "attachments": {},
      "cell_type": "markdown",
      "metadata": {},
      "source": [
        "# Show nulls in each column"
      ]
    },
    {
      "cell_type": "code",
      "execution_count": 7,
      "metadata": {},
      "outputs": [],
      "source": [
        "# DataPreprocessing.show_nulls(df)"
      ]
    },
    {
      "attachments": {},
      "cell_type": "markdown",
      "metadata": {},
      "source": [
        "# Dealing with missing values"
      ]
    },
    {
      "cell_type": "code",
      "execution_count": 8,
      "metadata": {},
      "outputs": [],
      "source": [
        "# df_copy= DataPreprocessing.handle_missing_values(df)"
      ]
    },
    {
      "attachments": {},
      "cell_type": "markdown",
      "metadata": {},
      "source": [
        "# Outliers"
      ]
    },
    {
      "cell_type": "code",
      "execution_count": 9,
      "metadata": {},
      "outputs": [
        {
          "name": "stdout",
          "output_type": "stream",
          "text": [
            "Number of outliers in Rating: 0 (0.00%)\n",
            "Number of outliers in Rating Count: 388994 (16.82%)\n",
            "Number of outliers in Minimum Installs: 260554 (11.27%)\n",
            "Number of outliers in Maximum Installs: 407678 (17.63%)\n",
            "Number of outliers in Price: 44943 (1.94%)\n"
          ]
        }
      ],
      "source": [
        "DataPreprocessing.detect_outliers(df)"
      ]
    },
    {
      "attachments": {},
      "cell_type": "markdown",
      "metadata": {},
      "source": [
        "### Prepare 'Size' column"
      ]
    },
    {
      "cell_type": "code",
      "execution_count": 10,
      "metadata": {},
      "outputs": [],
      "source": [
        "# DataPreprocessing.handle_size_col(df)"
      ]
    },
    {
      "cell_type": "code",
      "execution_count": 11,
      "metadata": {},
      "outputs": [],
      "source": [
        "# print('The percentage of \"Varies with app\" is too low, then can remove all rows with this value')\n",
        "# df = df.filter(df.Size != 'Varies with device')"
      ]
    },
    {
      "attachments": {},
      "cell_type": "markdown",
      "metadata": {},
      "source": [
        "### Currency column"
      ]
    },
    {
      "cell_type": "code",
      "execution_count": 12,
      "metadata": {},
      "outputs": [],
      "source": [
        "# DataPreprocessing.currency_col(df)"
      ]
    },
    {
      "cell_type": "code",
      "execution_count": 13,
      "metadata": {},
      "outputs": [],
      "source": [
        "# print(\"Since most of the values are USD, then we can remove this column\")\n",
        "# df = DataPreprocessing.remove_useless_col(df, ['Currency'])"
      ]
    },
    {
      "attachments": {},
      "cell_type": "markdown",
      "metadata": {},
      "source": [
        "### Write df to csv"
      ]
    },
    {
      "cell_type": "code",
      "execution_count": 14,
      "metadata": {},
      "outputs": [],
      "source": [
        "# pd_df = df.toPandas()\n",
        "# pd_df.to_csv('../Dataset/'+file_name+'.csv', index=False)"
      ]
    },
    {
      "attachments": {},
      "cell_type": "markdown",
      "metadata": {},
      "source": [
        "### Splitting the data "
      ]
    },
    {
      "cell_type": "code",
      "execution_count": 15,
      "metadata": {},
      "outputs": [],
      "source": [
        "# DataPreprocessing.split_data()"
      ]
    },
    {
      "attachments": {},
      "cell_type": "markdown",
      "metadata": {},
      "source": [
        "### Prepare dataset for RDD"
      ]
    },
    {
      "cell_type": "code",
      "execution_count": 16,
      "metadata": {},
      "outputs": [],
      "source": [
        "# DataPreprocessing.delimiter_to_comma()\n",
        "# DataPreprocessing.delimiter_to_comma(file_name='train')\n",
        "# DataPreprocessing.delimiter_to_comma(file_name='val')\n",
        "# DataPreprocessing.delimiter_to_comma(file_name='test')"
      ]
    }
  ],
  "metadata": {
    "kernelspec": {
      "display_name": "Python 3",
      "language": "python",
      "name": "python3"
    },
    "language_info": {
      "codemirror_mode": {
        "name": "ipython",
        "version": 3
      },
      "file_extension": ".py",
      "mimetype": "text/x-python",
      "name": "python",
      "nbconvert_exporter": "python",
      "pygments_lexer": "ipython3",
      "version": "3.10.9"
    },
    "orig_nbformat": 4
  },
  "nbformat": 4,
  "nbformat_minor": 2
}
