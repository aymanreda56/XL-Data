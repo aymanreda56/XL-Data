{
 "cells": [
  {
   "cell_type": "code",
   "execution_count": 1,
   "metadata": {},
   "outputs": [],
   "source": [
    "import pyspark\n",
    "from pyspark.sql import SparkSession\n",
    "from pyspark import SparkContext\n",
    "import DataPreprocessing\n"
   ]
  },
  {
   "attachments": {},
   "cell_type": "markdown",
   "metadata": {},
   "source": [
    "### Spark session"
   ]
  },
  {
   "cell_type": "code",
   "execution_count": 2,
   "metadata": {},
   "outputs": [],
   "source": [
    "sc = SparkContext(master='local')\n",
    "spark=SparkSession.builder.appName('DataPreprocessing').getOrCreate()"
   ]
  },
  {
   "attachments": {},
   "cell_type": "markdown",
   "metadata": {},
   "source": [
    "### Splitting the data "
   ]
  },
  {
   "cell_type": "code",
   "execution_count": 3,
   "metadata": {},
   "outputs": [],
   "source": [
    "# split_data()"
   ]
  },
  {
   "attachments": {},
   "cell_type": "markdown",
   "metadata": {},
   "source": [
    "### Reading the data"
   ]
  },
  {
   "cell_type": "code",
   "execution_count": 4,
   "metadata": {},
   "outputs": [
    {
     "name": "stdout",
     "output_type": "stream",
     "text": [
      "+--------------+------------+--------------+--------------+----------+--------------+----------+---------------------+------------------+-----------------------+---------------------+--------------+------------------+--------------------+--------------------+------------------+----------------------+--------------------+------------------+\n",
      "|App Name_index|App Id_index|Category_index|Installs_index|Free_index|Currency_index|Size_index|Minimum Android_index|Developer Id_index|Developer Website_index|Developer Email_index|Released_index|Last Updated_index|Content Rating_index|Privacy Policy_index|Ad Supported_index|In App Purchases_index|Editors Choice_index|Scraped Time_index|\n",
      "+--------------+------------+--------------+--------------+----------+--------------+----------+---------------------+------------------+-----------------------+---------------------+--------------+------------------+--------------------+--------------------+------------------+----------------------+--------------------+------------------+\n",
      "|      340325.0|    326573.0|          45.0|           0.0|       0.0|           0.0|      17.0|                  0.0|              15.0|               205611.0|                 14.0|         177.0|             511.0|                 0.0|                 1.0|               1.0|                   0.0|                 0.0|            9535.0|\n",
      "|        6710.0|    161887.0|          22.0|           0.0|       0.0|           0.0|      29.0|                  0.0|           10706.0|                 5679.0|               9572.0|         446.0|              77.0|                 0.0|            102093.0|               1.0|                   0.0|                 0.0|           44769.0|\n",
      "|       79946.0|    118902.0|          13.0|          12.0|       0.0|           0.0|     184.0|                  2.0|           90236.0|                75151.0|              58005.0|        3536.0|              20.0|                 0.0|            203513.0|               0.0|                   0.0|                 0.0|           26639.0|\n",
      "|      229998.0|    371961.0|           4.0|           1.0|       0.0|           0.0|      63.0|                 10.0|            2220.0|                 1036.0|               1988.0|          18.0|             221.0|                 0.0|              1604.0|               1.0|                   0.0|                 0.0|           38617.0|\n",
      "|       18671.0|    292680.0|           0.0|           4.0|       0.0|           0.0|      16.0|                  2.0|             263.0|                   82.0|                 92.0|        1648.0|             816.0|                 0.0|               259.0|               0.0|                   0.0|                 0.0|           16919.0|\n",
      "+--------------+------------+--------------+--------------+----------+--------------+----------+---------------------+------------------+-----------------------+---------------------+--------------+------------------+--------------------+--------------------+------------------+----------------------+--------------------+------------------+\n",
      "only showing top 5 rows\n",
      "\n"
     ]
    }
   ],
   "source": [
    "# useless_cols = ['Scraped Time', 'Privacy Policy', 'Currency', 'Editors Choice']\n",
    "df = DataPreprocessing.read_data(spark,kind='val', features='Categorical', encode=True, drop_cols=[])\n",
    "df.show(5)"
   ]
  },
  {
   "attachments": {},
   "cell_type": "markdown",
   "metadata": {},
   "source": [
    "### Get info about the dataset"
   ]
  },
  {
   "cell_type": "code",
   "execution_count": 5,
   "metadata": {},
   "outputs": [
    {
     "name": "stdout",
     "output_type": "stream",
     "text": [
      "Number of rows: 462589, Number of columns: 19\n",
      "Available features: ['App Name_index', 'App Id_index', 'Category_index', 'Installs_index', 'Free_index', 'Currency_index', 'Size_index', 'Minimum Android_index', 'Developer Id_index', 'Developer Website_index', 'Developer Email_index', 'Released_index', 'Last Updated_index', 'Content Rating_index', 'Privacy Policy_index', 'Ad Supported_index', 'In App Purchases_index', 'Editors Choice_index', 'Scraped Time_index']\n",
      "+-------+------------------+------------------+------------------+------------------+--------------------+--------------------+------------------+---------------------+------------------+-----------------------+---------------------+------------------+------------------+--------------------+--------------------+-------------------+----------------------+--------------------+------------------+\n",
      "|summary|    App Name_index|      App Id_index|    Category_index|    Installs_index|          Free_index|      Currency_index|        Size_index|Minimum Android_index|Developer Id_index|Developer Website_index|Developer Email_index|    Released_index|Last Updated_index|Content Rating_index|Privacy Policy_index| Ad Supported_index|In App Purchases_index|Editors Choice_index|Scraped Time_index|\n",
      "+-------+------------------+------------------+------------------+------------------+--------------------+--------------------+------------------+---------------------+------------------+-----------------------+---------------------+------------------+------------------+--------------------+--------------------+-------------------+----------------------+--------------------+------------------+\n",
      "|  count|            462589|            462589|            462589|            462589|              462589|              462589|            462589|               462589|            462589|                 462589|               462589|            462589|            462589|              462589|              462589|             462589|                462589|              462589|            462589|\n",
      "|   mean|220490.23660744203|          231294.0|10.743813622892027|3.4552788760649302|0.019697831120065543|0.001091681816904...|  65.6725019401672|    3.510098597242909|  70053.3889565035|     114555.88071916971|    82826.91512984528|1055.9949544844344| 538.5094565586298|  0.1828642704430931|   107364.8479773622|0.49730322165032026|   0.08441618802003506|3.826290724595699E-4|  25614.5697865708|\n",
      "| stddev| 133230.9305097227|133538.08617456912|10.202996667193549|3.2623829742518904| 0.14150351971309955| 0.07254427294007965|100.81008740537096|    6.064743186422217| 75881.38462632122|      84079.32309232032|    86111.49943868144| 948.5965528280839| 547.2836467985285|  0.5442143170983013|   94385.91900078175| 0.5009608090331894|    0.2780890097055847|0.019667409488165703| 17852.41605505108|\n",
      "|    min|               0.0|               0.0|               0.0|               0.0|                 0.0|                 0.0|               0.0|                  0.0|               0.0|                    0.0|                  0.0|               0.0|               0.0|                 0.0|                 0.0|                0.0|                   0.0|                 0.0|               0.0|\n",
      "|    max|          451600.0|          462588.0|              56.0|              28.0|                10.0|                 9.0|            1456.0|                 88.0|          244179.0|               205611.0|             269897.0|            4132.0|            3508.0|                16.0|            239893.0|               11.0|                   4.0|                 2.0|           66964.0|\n",
      "+-------+------------------+------------------+------------------+------------------+--------------------+--------------------+------------------+---------------------+------------------+-----------------------+---------------------+------------------+------------------+--------------------+--------------------+-------------------+----------------------+--------------------+------------------+\n",
      "\n"
     ]
    }
   ],
   "source": [
    "DataPreprocessing.get_info(df)"
   ]
  },
  {
   "attachments": {},
   "cell_type": "markdown",
   "metadata": {},
   "source": [
    "### Dealing with missing values"
   ]
  },
  {
   "cell_type": "code",
   "execution_count": 6,
   "metadata": {},
   "outputs": [
    {
     "name": "stdout",
     "output_type": "stream",
     "text": [
      "Total Number of rows : 462589\n",
      "Number of rows with missing values: 0\n",
      "Number of rows after dropping: 462589\n"
     ]
    }
   ],
   "source": [
    "df_copy= DataPreprocessing.missing_values(df)"
   ]
  },
  {
   "attachments": {},
   "cell_type": "markdown",
   "metadata": {},
   "source": [
    "### Outliers"
   ]
  },
  {
   "cell_type": "code",
   "execution_count": 7,
   "metadata": {},
   "outputs": [
    {
     "ename": "AnalysisException",
     "evalue": "[UNRESOLVED_COLUMN.WITH_SUGGESTION] A column or function parameter with name `Rating` cannot be resolved. Did you mean one of the following? [`Free_index`, `Size_index`, `Category_index`, `Released_index`, `Installs_index`].;\n'Project ['Rating]\n+- Project [App Name_index#119, App Id_index#177, Category_index#236, Installs_index#296, Free_index#357, Currency_index#419, Size_index#482, Minimum Android_index#546, Developer Id_index#611, Developer Website_index#677, Developer Email_index#744, Released_index#812, Last Updated_index#881, Content Rating_index#951, Privacy Policy_index#1022, Ad Supported_index#1094, In App Purchases_index#1167, Editors Choice_index#1241, Scraped Time_index#1316]\n   +- Project [App Name#17, App Id#18, Category#19, Installs#22, Free#25, Currency#27, Size#28, Minimum Android#29, Developer Id#30, Developer Website#31, Developer Email#32, Released#33, Last Updated#34, Content Rating#35, Privacy Policy#36, Ad Supported#37, In App Purchases#38, Editors Choice#39, Scraped Time#40, App Name_index#119, App Id_index#177, Category_index#236, Installs_index#296, Free_index#357, ... 14 more fields]\n      +- Project [App Name#17, App Id#18, Category#19, Installs#22, Free#25, Currency#27, Size#28, Minimum Android#29, Developer Id#30, Developer Website#31, Developer Email#32, Released#33, Last Updated#34, Content Rating#35, Privacy Policy#36, Ad Supported#37, In App Purchases#38, Editors Choice#39, Scraped Time#40, App Name_index#119, App Id_index#177, Category_index#236, Installs_index#296, Free_index#357, ... 13 more fields]\n         +- Project [App Name#17, App Id#18, Category#19, Installs#22, Free#25, Currency#27, Size#28, Minimum Android#29, Developer Id#30, Developer Website#31, Developer Email#32, Released#33, Last Updated#34, Content Rating#35, Privacy Policy#36, Ad Supported#37, In App Purchases#38, Editors Choice#39, Scraped Time#40, App Name_index#119, App Id_index#177, Category_index#236, Installs_index#296, Free_index#357, ... 12 more fields]\n            +- Project [App Name#17, App Id#18, Category#19, Installs#22, Free#25, Currency#27, Size#28, Minimum Android#29, Developer Id#30, Developer Website#31, Developer Email#32, Released#33, Last Updated#34, Content Rating#35, Privacy Policy#36, Ad Supported#37, In App Purchases#38, Editors Choice#39, Scraped Time#40, App Name_index#119, App Id_index#177, Category_index#236, Installs_index#296, Free_index#357, ... 11 more fields]\n               +- Project [App Name#17, App Id#18, Category#19, Installs#22, Free#25, Currency#27, Size#28, Minimum Android#29, Developer Id#30, Developer Website#31, Developer Email#32, Released#33, Last Updated#34, Content Rating#35, Privacy Policy#36, Ad Supported#37, In App Purchases#38, Editors Choice#39, Scraped Time#40, App Name_index#119, App Id_index#177, Category_index#236, Installs_index#296, Free_index#357, ... 10 more fields]\n                  +- Project [App Name#17, App Id#18, Category#19, Installs#22, Free#25, Currency#27, Size#28, Minimum Android#29, Developer Id#30, Developer Website#31, Developer Email#32, Released#33, Last Updated#34, Content Rating#35, Privacy Policy#36, Ad Supported#37, In App Purchases#38, Editors Choice#39, Scraped Time#40, App Name_index#119, App Id_index#177, Category_index#236, Installs_index#296, Free_index#357, ... 9 more fields]\n                     +- Project [App Name#17, App Id#18, Category#19, Installs#22, Free#25, Currency#27, Size#28, Minimum Android#29, Developer Id#30, Developer Website#31, Developer Email#32, Released#33, Last Updated#34, Content Rating#35, Privacy Policy#36, Ad Supported#37, In App Purchases#38, Editors Choice#39, Scraped Time#40, App Name_index#119, App Id_index#177, Category_index#236, Installs_index#296, Free_index#357, ... 8 more fields]\n                        +- Project [App Name#17, App Id#18, Category#19, Installs#22, Free#25, Currency#27, Size#28, Minimum Android#29, Developer Id#30, Developer Website#31, Developer Email#32, Released#33, Last Updated#34, Content Rating#35, Privacy Policy#36, Ad Supported#37, In App Purchases#38, Editors Choice#39, Scraped Time#40, App Name_index#119, App Id_index#177, Category_index#236, Installs_index#296, Free_index#357, ... 7 more fields]\n                           +- Project [App Name#17, App Id#18, Category#19, Installs#22, Free#25, Currency#27, Size#28, Minimum Android#29, Developer Id#30, Developer Website#31, Developer Email#32, Released#33, Last Updated#34, Content Rating#35, Privacy Policy#36, Ad Supported#37, In App Purchases#38, Editors Choice#39, Scraped Time#40, App Name_index#119, App Id_index#177, Category_index#236, Installs_index#296, Free_index#357, ... 6 more fields]\n                              +- Project [App Name#17, App Id#18, Category#19, Installs#22, Free#25, Currency#27, Size#28, Minimum Android#29, Developer Id#30, Developer Website#31, Developer Email#32, Released#33, Last Updated#34, Content Rating#35, Privacy Policy#36, Ad Supported#37, In App Purchases#38, Editors Choice#39, Scraped Time#40, App Name_index#119, App Id_index#177, Category_index#236, Installs_index#296, Free_index#357, ... 5 more fields]\n                                 +- Project [App Name#17, App Id#18, Category#19, Installs#22, Free#25, Currency#27, Size#28, Minimum Android#29, Developer Id#30, Developer Website#31, Developer Email#32, Released#33, Last Updated#34, Content Rating#35, Privacy Policy#36, Ad Supported#37, In App Purchases#38, Editors Choice#39, Scraped Time#40, App Name_index#119, App Id_index#177, Category_index#236, Installs_index#296, Free_index#357, ... 4 more fields]\n                                    +- Project [App Name#17, App Id#18, Category#19, Installs#22, Free#25, Currency#27, Size#28, Minimum Android#29, Developer Id#30, Developer Website#31, Developer Email#32, Released#33, Last Updated#34, Content Rating#35, Privacy Policy#36, Ad Supported#37, In App Purchases#38, Editors Choice#39, Scraped Time#40, App Name_index#119, App Id_index#177, Category_index#236, Installs_index#296, Free_index#357, ... 3 more fields]\n                                       +- Project [App Name#17, App Id#18, Category#19, Installs#22, Free#25, Currency#27, Size#28, Minimum Android#29, Developer Id#30, Developer Website#31, Developer Email#32, Released#33, Last Updated#34, Content Rating#35, Privacy Policy#36, Ad Supported#37, In App Purchases#38, Editors Choice#39, Scraped Time#40, App Name_index#119, App Id_index#177, Category_index#236, Installs_index#296, Free_index#357, ... 2 more fields]\n                                          +- Project [App Name#17, App Id#18, Category#19, Installs#22, Free#25, Currency#27, Size#28, Minimum Android#29, Developer Id#30, Developer Website#31, Developer Email#32, Released#33, Last Updated#34, Content Rating#35, Privacy Policy#36, Ad Supported#37, In App Purchases#38, Editors Choice#39, Scraped Time#40, App Name_index#119, App Id_index#177, Category_index#236, Installs_index#296, Free_index#357, UDF(cast(Currency#27 as string)) AS Currency_index#419]\n                                             +- Project [App Name#17, App Id#18, Category#19, Installs#22, Free#25, Currency#27, Size#28, Minimum Android#29, Developer Id#30, Developer Website#31, Developer Email#32, Released#33, Last Updated#34, Content Rating#35, Privacy Policy#36, Ad Supported#37, In App Purchases#38, Editors Choice#39, Scraped Time#40, App Name_index#119, App Id_index#177, Category_index#236, Installs_index#296, UDF(cast(Free#25 as string)) AS Free_index#357]\n                                                +- Project [App Name#17, App Id#18, Category#19, Installs#22, Free#25, Currency#27, Size#28, Minimum Android#29, Developer Id#30, Developer Website#31, Developer Email#32, Released#33, Last Updated#34, Content Rating#35, Privacy Policy#36, Ad Supported#37, In App Purchases#38, Editors Choice#39, Scraped Time#40, App Name_index#119, App Id_index#177, Category_index#236, UDF(cast(Installs#22 as string)) AS Installs_index#296]\n                                                   +- Project [App Name#17, App Id#18, Category#19, Installs#22, Free#25, Currency#27, Size#28, Minimum Android#29, Developer Id#30, Developer Website#31, Developer Email#32, Released#33, Last Updated#34, Content Rating#35, Privacy Policy#36, Ad Supported#37, In App Purchases#38, Editors Choice#39, Scraped Time#40, App Name_index#119, App Id_index#177, UDF(cast(Category#19 as string)) AS Category_index#236]\n                                                      +- Project [App Name#17, App Id#18, Category#19, Installs#22, Free#25, Currency#27, Size#28, Minimum Android#29, Developer Id#30, Developer Website#31, Developer Email#32, Released#33, Last Updated#34, Content Rating#35, Privacy Policy#36, Ad Supported#37, In App Purchases#38, Editors Choice#39, Scraped Time#40, App Name_index#119, UDF(cast(App Id#18 as string)) AS App Id_index#177]\n                                                         +- Project [App Name#17, App Id#18, Category#19, Installs#22, Free#25, Currency#27, Size#28, Minimum Android#29, Developer Id#30, Developer Website#31, Developer Email#32, Released#33, Last Updated#34, Content Rating#35, Privacy Policy#36, Ad Supported#37, In App Purchases#38, Editors Choice#39, Scraped Time#40, UDF(cast(App Name#17 as string)) AS App Name_index#119]\n                                                            +- Project [App Name#17, App Id#18, Category#19, Installs#22, Free#25, Currency#27, Size#28, Minimum Android#29, Developer Id#30, Developer Website#31, Developer Email#32, Released#33, Last Updated#34, Content Rating#35, Privacy Policy#36, Ad Supported#37, In App Purchases#38, Editors Choice#39, Scraped Time#40]\n                                                               +- Relation [App Name#17,App Id#18,Category#19,Rating#20,Rating Count#21,Installs#22,Minimum Installs#23,Maximum Installs#24,Free#25,Price#26,Currency#27,Size#28,Minimum Android#29,Developer Id#30,Developer Website#31,Developer Email#32,Released#33,Last Updated#34,Content Rating#35,Privacy Policy#36,Ad Supported#37,In App Purchases#38,Editors Choice#39,Scraped Time#40] csv\n",
     "output_type": "error",
     "traceback": [
      "\u001b[1;31m---------------------------------------------------------------------------\u001b[0m",
      "\u001b[1;31mAnalysisException\u001b[0m                         Traceback (most recent call last)",
      "\u001b[1;32m~\\AppData\\Local\\Temp/ipykernel_22156/3231767323.py\u001b[0m in \u001b[0;36m<module>\u001b[1;34m\u001b[0m\n\u001b[1;32m----> 1\u001b[1;33m \u001b[0mDataPreprocessing\u001b[0m\u001b[1;33m.\u001b[0m\u001b[0mdetect_outliers\u001b[0m\u001b[1;33m(\u001b[0m\u001b[0mdf\u001b[0m\u001b[1;33m,\u001b[0m \u001b[1;34m'Rating'\u001b[0m\u001b[1;33m)\u001b[0m\u001b[1;33m\u001b[0m\u001b[1;33m\u001b[0m\u001b[0m\n\u001b[0m",
      "\u001b[1;32mf:\\Fourth Year 2nd term\\Big Data\\XL-Data\\DataPreprocessing\\DataPreprocessing.py\u001b[0m in \u001b[0;36mdetect_outliers\u001b[1;34m(df, col)\u001b[0m\n\u001b[0;32m    132\u001b[0m \u001b[1;33m\u001b[0m\u001b[0m\n\u001b[0;32m    133\u001b[0m     \u001b[1;31m# calculate interquartile range (IQR)\u001b[0m\u001b[1;33m\u001b[0m\u001b[1;33m\u001b[0m\u001b[0m\n\u001b[1;32m--> 134\u001b[1;33m     \u001b[0mq1\u001b[0m \u001b[1;33m=\u001b[0m \u001b[0mdf\u001b[0m\u001b[1;33m.\u001b[0m\u001b[0mapproxQuantile\u001b[0m\u001b[1;33m(\u001b[0m\u001b[0mcol\u001b[0m\u001b[1;33m,\u001b[0m \u001b[1;33m[\u001b[0m\u001b[1;36m0.25\u001b[0m\u001b[1;33m]\u001b[0m\u001b[1;33m,\u001b[0m \u001b[1;36m0.0\u001b[0m\u001b[1;33m)\u001b[0m\u001b[1;33m[\u001b[0m\u001b[1;36m0\u001b[0m\u001b[1;33m]\u001b[0m\u001b[1;33m\u001b[0m\u001b[1;33m\u001b[0m\u001b[0m\n\u001b[0m\u001b[0;32m    135\u001b[0m     \u001b[0mq3\u001b[0m \u001b[1;33m=\u001b[0m \u001b[0mdf\u001b[0m\u001b[1;33m.\u001b[0m\u001b[0mapproxQuantile\u001b[0m\u001b[1;33m(\u001b[0m\u001b[0mcol\u001b[0m\u001b[1;33m,\u001b[0m \u001b[1;33m[\u001b[0m\u001b[1;36m0.75\u001b[0m\u001b[1;33m]\u001b[0m\u001b[1;33m,\u001b[0m \u001b[1;36m0.0\u001b[0m\u001b[1;33m)\u001b[0m\u001b[1;33m[\u001b[0m\u001b[1;36m0\u001b[0m\u001b[1;33m]\u001b[0m\u001b[1;33m\u001b[0m\u001b[1;33m\u001b[0m\u001b[0m\n\u001b[0;32m    136\u001b[0m \u001b[1;33m\u001b[0m\u001b[0m\n",
      "\u001b[1;32mc:\\Users\\Dell\\AppData\\Local\\Programs\\Python\\Python310\\lib\\site-packages\\pyspark\\sql\\dataframe.py\u001b[0m in \u001b[0;36mapproxQuantile\u001b[1;34m(self, col, probabilities, relativeError)\u001b[0m\n\u001b[0;32m   4474\u001b[0m         \u001b[0mrelativeError\u001b[0m \u001b[1;33m=\u001b[0m \u001b[0mfloat\u001b[0m\u001b[1;33m(\u001b[0m\u001b[0mrelativeError\u001b[0m\u001b[1;33m)\u001b[0m\u001b[1;33m\u001b[0m\u001b[1;33m\u001b[0m\u001b[0m\n\u001b[0;32m   4475\u001b[0m \u001b[1;33m\u001b[0m\u001b[0m\n\u001b[1;32m-> 4476\u001b[1;33m         \u001b[0mjaq\u001b[0m \u001b[1;33m=\u001b[0m \u001b[0mself\u001b[0m\u001b[1;33m.\u001b[0m\u001b[0m_jdf\u001b[0m\u001b[1;33m.\u001b[0m\u001b[0mstat\u001b[0m\u001b[1;33m(\u001b[0m\u001b[1;33m)\u001b[0m\u001b[1;33m.\u001b[0m\u001b[0mapproxQuantile\u001b[0m\u001b[1;33m(\u001b[0m\u001b[0mcol\u001b[0m\u001b[1;33m,\u001b[0m \u001b[0mprobabilities\u001b[0m\u001b[1;33m,\u001b[0m \u001b[0mrelativeError\u001b[0m\u001b[1;33m)\u001b[0m\u001b[1;33m\u001b[0m\u001b[1;33m\u001b[0m\u001b[0m\n\u001b[0m\u001b[0;32m   4477\u001b[0m         \u001b[0mjaq_list\u001b[0m \u001b[1;33m=\u001b[0m \u001b[1;33m[\u001b[0m\u001b[0mlist\u001b[0m\u001b[1;33m(\u001b[0m\u001b[0mj\u001b[0m\u001b[1;33m)\u001b[0m \u001b[1;32mfor\u001b[0m \u001b[0mj\u001b[0m \u001b[1;32min\u001b[0m \u001b[0mjaq\u001b[0m\u001b[1;33m]\u001b[0m\u001b[1;33m\u001b[0m\u001b[1;33m\u001b[0m\u001b[0m\n\u001b[0;32m   4478\u001b[0m         \u001b[1;32mreturn\u001b[0m \u001b[0mjaq_list\u001b[0m\u001b[1;33m[\u001b[0m\u001b[1;36m0\u001b[0m\u001b[1;33m]\u001b[0m \u001b[1;32mif\u001b[0m \u001b[0misStr\u001b[0m \u001b[1;32melse\u001b[0m \u001b[0mjaq_list\u001b[0m\u001b[1;33m\u001b[0m\u001b[1;33m\u001b[0m\u001b[0m\n",
      "\u001b[1;32mc:\\Users\\Dell\\AppData\\Local\\Programs\\Python\\Python310\\lib\\site-packages\\py4j\\java_gateway.py\u001b[0m in \u001b[0;36m__call__\u001b[1;34m(self, *args)\u001b[0m\n\u001b[0;32m   1320\u001b[0m \u001b[1;33m\u001b[0m\u001b[0m\n\u001b[0;32m   1321\u001b[0m         \u001b[0manswer\u001b[0m \u001b[1;33m=\u001b[0m \u001b[0mself\u001b[0m\u001b[1;33m.\u001b[0m\u001b[0mgateway_client\u001b[0m\u001b[1;33m.\u001b[0m\u001b[0msend_command\u001b[0m\u001b[1;33m(\u001b[0m\u001b[0mcommand\u001b[0m\u001b[1;33m)\u001b[0m\u001b[1;33m\u001b[0m\u001b[1;33m\u001b[0m\u001b[0m\n\u001b[1;32m-> 1322\u001b[1;33m         return_value = get_return_value(\n\u001b[0m\u001b[0;32m   1323\u001b[0m             answer, self.gateway_client, self.target_id, self.name)\n\u001b[0;32m   1324\u001b[0m \u001b[1;33m\u001b[0m\u001b[0m\n",
      "\u001b[1;32mc:\\Users\\Dell\\AppData\\Local\\Programs\\Python\\Python310\\lib\\site-packages\\pyspark\\errors\\exceptions\\captured.py\u001b[0m in \u001b[0;36mdeco\u001b[1;34m(*a, **kw)\u001b[0m\n\u001b[0;32m    173\u001b[0m                 \u001b[1;31m# Hide where the exception came from that shows a non-Pythonic\u001b[0m\u001b[1;33m\u001b[0m\u001b[1;33m\u001b[0m\u001b[0m\n\u001b[0;32m    174\u001b[0m                 \u001b[1;31m# JVM exception message.\u001b[0m\u001b[1;33m\u001b[0m\u001b[1;33m\u001b[0m\u001b[0m\n\u001b[1;32m--> 175\u001b[1;33m                 \u001b[1;32mraise\u001b[0m \u001b[0mconverted\u001b[0m \u001b[1;32mfrom\u001b[0m \u001b[1;32mNone\u001b[0m\u001b[1;33m\u001b[0m\u001b[1;33m\u001b[0m\u001b[0m\n\u001b[0m\u001b[0;32m    176\u001b[0m             \u001b[1;32melse\u001b[0m\u001b[1;33m:\u001b[0m\u001b[1;33m\u001b[0m\u001b[1;33m\u001b[0m\u001b[0m\n\u001b[0;32m    177\u001b[0m                 \u001b[1;32mraise\u001b[0m\u001b[1;33m\u001b[0m\u001b[1;33m\u001b[0m\u001b[0m\n",
      "\u001b[1;31mAnalysisException\u001b[0m: [UNRESOLVED_COLUMN.WITH_SUGGESTION] A column or function parameter with name `Rating` cannot be resolved. Did you mean one of the following? [`Free_index`, `Size_index`, `Category_index`, `Released_index`, `Installs_index`].;\n'Project ['Rating]\n+- Project [App Name_index#119, App Id_index#177, Category_index#236, Installs_index#296, Free_index#357, Currency_index#419, Size_index#482, Minimum Android_index#546, Developer Id_index#611, Developer Website_index#677, Developer Email_index#744, Released_index#812, Last Updated_index#881, Content Rating_index#951, Privacy Policy_index#1022, Ad Supported_index#1094, In App Purchases_index#1167, Editors Choice_index#1241, Scraped Time_index#1316]\n   +- Project [App Name#17, App Id#18, Category#19, Installs#22, Free#25, Currency#27, Size#28, Minimum Android#29, Developer Id#30, Developer Website#31, Developer Email#32, Released#33, Last Updated#34, Content Rating#35, Privacy Policy#36, Ad Supported#37, In App Purchases#38, Editors Choice#39, Scraped Time#40, App Name_index#119, App Id_index#177, Category_index#236, Installs_index#296, Free_index#357, ... 14 more fields]\n      +- Project [App Name#17, App Id#18, Category#19, Installs#22, Free#25, Currency#27, Size#28, Minimum Android#29, Developer Id#30, Developer Website#31, Developer Email#32, Released#33, Last Updated#34, Content Rating#35, Privacy Policy#36, Ad Supported#37, In App Purchases#38, Editors Choice#39, Scraped Time#40, App Name_index#119, App Id_index#177, Category_index#236, Installs_index#296, Free_index#357, ... 13 more fields]\n         +- Project [App Name#17, App Id#18, Category#19, Installs#22, Free#25, Currency#27, Size#28, Minimum Android#29, Developer Id#30, Developer Website#31, Developer Email#32, Released#33, Last Updated#34, Content Rating#35, Privacy Policy#36, Ad Supported#37, In App Purchases#38, Editors Choice#39, Scraped Time#40, App Name_index#119, App Id_index#177, Category_index#236, Installs_index#296, Free_index#357, ... 12 more fields]\n            +- Project [App Name#17, App Id#18, Category#19, Installs#22, Free#25, Currency#27, Size#28, Minimum Android#29, Developer Id#30, Developer Website#31, Developer Email#32, Released#33, Last Updated#34, Content Rating#35, Privacy Policy#36, Ad Supported#37, In App Purchases#38, Editors Choice#39, Scraped Time#40, App Name_index#119, App Id_index#177, Category_index#236, Installs_index#296, Free_index#357, ... 11 more fields]\n               +- Project [App Name#17, App Id#18, Category#19, Installs#22, Free#25, Currency#27, Size#28, Minimum Android#29, Developer Id#30, Developer Website#31, Developer Email#32, Released#33, Last Updated#34, Content Rating#35, Privacy Policy#36, Ad Supported#37, In App Purchases#38, Editors Choice#39, Scraped Time#40, App Name_index#119, App Id_index#177, Category_index#236, Installs_index#296, Free_index#357, ... 10 more fields]\n                  +- Project [App Name#17, App Id#18, Category#19, Installs#22, Free#25, Currency#27, Size#28, Minimum Android#29, Developer Id#30, Developer Website#31, Developer Email#32, Released#33, Last Updated#34, Content Rating#35, Privacy Policy#36, Ad Supported#37, In App Purchases#38, Editors Choice#39, Scraped Time#40, App Name_index#119, App Id_index#177, Category_index#236, Installs_index#296, Free_index#357, ... 9 more fields]\n                     +- Project [App Name#17, App Id#18, Category#19, Installs#22, Free#25, Currency#27, Size#28, Minimum Android#29, Developer Id#30, Developer Website#31, Developer Email#32, Released#33, Last Updated#34, Content Rating#35, Privacy Policy#36, Ad Supported#37, In App Purchases#38, Editors Choice#39, Scraped Time#40, App Name_index#119, App Id_index#177, Category_index#236, Installs_index#296, Free_index#357, ... 8 more fields]\n                        +- Project [App Name#17, App Id#18, Category#19, Installs#22, Free#25, Currency#27, Size#28, Minimum Android#29, Developer Id#30, Developer Website#31, Developer Email#32, Released#33, Last Updated#34, Content Rating#35, Privacy Policy#36, Ad Supported#37, In App Purchases#38, Editors Choice#39, Scraped Time#40, App Name_index#119, App Id_index#177, Category_index#236, Installs_index#296, Free_index#357, ... 7 more fields]\n                           +- Project [App Name#17, App Id#18, Category#19, Installs#22, Free#25, Currency#27, Size#28, Minimum Android#29, Developer Id#30, Developer Website#31, Developer Email#32, Released#33, Last Updated#34, Content Rating#35, Privacy Policy#36, Ad Supported#37, In App Purchases#38, Editors Choice#39, Scraped Time#40, App Name_index#119, App Id_index#177, Category_index#236, Installs_index#296, Free_index#357, ... 6 more fields]\n                              +- Project [App Name#17, App Id#18, Category#19, Installs#22, Free#25, Currency#27, Size#28, Minimum Android#29, Developer Id#30, Developer Website#31, Developer Email#32, Released#33, Last Updated#34, Content Rating#35, Privacy Policy#36, Ad Supported#37, In App Purchases#38, Editors Choice#39, Scraped Time#40, App Name_index#119, App Id_index#177, Category_index#236, Installs_index#296, Free_index#357, ... 5 more fields]\n                                 +- Project [App Name#17, App Id#18, Category#19, Installs#22, Free#25, Currency#27, Size#28, Minimum Android#29, Developer Id#30, Developer Website#31, Developer Email#32, Released#33, Last Updated#34, Content Rating#35, Privacy Policy#36, Ad Supported#37, In App Purchases#38, Editors Choice#39, Scraped Time#40, App Name_index#119, App Id_index#177, Category_index#236, Installs_index#296, Free_index#357, ... 4 more fields]\n                                    +- Project [App Name#17, App Id#18, Category#19, Installs#22, Free#25, Currency#27, Size#28, Minimum Android#29, Developer Id#30, Developer Website#31, Developer Email#32, Released#33, Last Updated#34, Content Rating#35, Privacy Policy#36, Ad Supported#37, In App Purchases#38, Editors Choice#39, Scraped Time#40, App Name_index#119, App Id_index#177, Category_index#236, Installs_index#296, Free_index#357, ... 3 more fields]\n                                       +- Project [App Name#17, App Id#18, Category#19, Installs#22, Free#25, Currency#27, Size#28, Minimum Android#29, Developer Id#30, Developer Website#31, Developer Email#32, Released#33, Last Updated#34, Content Rating#35, Privacy Policy#36, Ad Supported#37, In App Purchases#38, Editors Choice#39, Scraped Time#40, App Name_index#119, App Id_index#177, Category_index#236, Installs_index#296, Free_index#357, ... 2 more fields]\n                                          +- Project [App Name#17, App Id#18, Category#19, Installs#22, Free#25, Currency#27, Size#28, Minimum Android#29, Developer Id#30, Developer Website#31, Developer Email#32, Released#33, Last Updated#34, Content Rating#35, Privacy Policy#36, Ad Supported#37, In App Purchases#38, Editors Choice#39, Scraped Time#40, App Name_index#119, App Id_index#177, Category_index#236, Installs_index#296, Free_index#357, UDF(cast(Currency#27 as string)) AS Currency_index#419]\n                                             +- Project [App Name#17, App Id#18, Category#19, Installs#22, Free#25, Currency#27, Size#28, Minimum Android#29, Developer Id#30, Developer Website#31, Developer Email#32, Released#33, Last Updated#34, Content Rating#35, Privacy Policy#36, Ad Supported#37, In App Purchases#38, Editors Choice#39, Scraped Time#40, App Name_index#119, App Id_index#177, Category_index#236, Installs_index#296, UDF(cast(Free#25 as string)) AS Free_index#357]\n                                                +- Project [App Name#17, App Id#18, Category#19, Installs#22, Free#25, Currency#27, Size#28, Minimum Android#29, Developer Id#30, Developer Website#31, Developer Email#32, Released#33, Last Updated#34, Content Rating#35, Privacy Policy#36, Ad Supported#37, In App Purchases#38, Editors Choice#39, Scraped Time#40, App Name_index#119, App Id_index#177, Category_index#236, UDF(cast(Installs#22 as string)) AS Installs_index#296]\n                                                   +- Project [App Name#17, App Id#18, Category#19, Installs#22, Free#25, Currency#27, Size#28, Minimum Android#29, Developer Id#30, Developer Website#31, Developer Email#32, Released#33, Last Updated#34, Content Rating#35, Privacy Policy#36, Ad Supported#37, In App Purchases#38, Editors Choice#39, Scraped Time#40, App Name_index#119, App Id_index#177, UDF(cast(Category#19 as string)) AS Category_index#236]\n                                                      +- Project [App Name#17, App Id#18, Category#19, Installs#22, Free#25, Currency#27, Size#28, Minimum Android#29, Developer Id#30, Developer Website#31, Developer Email#32, Released#33, Last Updated#34, Content Rating#35, Privacy Policy#36, Ad Supported#37, In App Purchases#38, Editors Choice#39, Scraped Time#40, App Name_index#119, UDF(cast(App Id#18 as string)) AS App Id_index#177]\n                                                         +- Project [App Name#17, App Id#18, Category#19, Installs#22, Free#25, Currency#27, Size#28, Minimum Android#29, Developer Id#30, Developer Website#31, Developer Email#32, Released#33, Last Updated#34, Content Rating#35, Privacy Policy#36, Ad Supported#37, In App Purchases#38, Editors Choice#39, Scraped Time#40, UDF(cast(App Name#17 as string)) AS App Name_index#119]\n                                                            +- Project [App Name#17, App Id#18, Category#19, Installs#22, Free#25, Currency#27, Size#28, Minimum Android#29, Developer Id#30, Developer Website#31, Developer Email#32, Released#33, Last Updated#34, Content Rating#35, Privacy Policy#36, Ad Supported#37, In App Purchases#38, Editors Choice#39, Scraped Time#40]\n                                                               +- Relation [App Name#17,App Id#18,Category#19,Rating#20,Rating Count#21,Installs#22,Minimum Installs#23,Maximum Installs#24,Free#25,Price#26,Currency#27,Size#28,Minimum Android#29,Developer Id#30,Developer Website#31,Developer Email#32,Released#33,Last Updated#34,Content Rating#35,Privacy Policy#36,Ad Supported#37,In App Purchases#38,Editors Choice#39,Scraped Time#40] csv\n"
     ]
    }
   ],
   "source": [
    "DataPreprocessing.detect_outliers(df, 'Rating')"
   ]
  }
 ],
 "metadata": {
  "kernelspec": {
   "display_name": "Python 3",
   "language": "python",
   "name": "python3"
  },
  "language_info": {
   "codemirror_mode": {
    "name": "ipython",
    "version": 3
   },
   "file_extension": ".py",
   "mimetype": "text/x-python",
   "name": "python",
   "nbconvert_exporter": "python",
   "pygments_lexer": "ipython3",
   "version": "3.10.9"
  },
  "orig_nbformat": 4
 },
 "nbformat": 4,
 "nbformat_minor": 2
}
