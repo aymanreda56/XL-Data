{
  "cells": [
    {
      "cell_type": "code",
      "execution_count": 1,
      "metadata": {},
      "outputs": [],
      "source": [
        "import pyspark\n",
        "from pyspark.sql import SparkSession\n",
        "from pyspark import SparkContext\n",
        "import DataPreprocessing"
      ]
    },
    {
      "attachments": {},
      "cell_type": "markdown",
      "metadata": {},
      "source": [
        "# Spark session"
      ]
    },
    {
      "cell_type": "code",
      "execution_count": 2,
      "metadata": {},
      "outputs": [],
      "source": [
        "spark = SparkSession.builder.appName('DataPreprocessing').getOrCreate()\n",
        "sc=spark.sparkContext"
      ]
    },
    {
      "attachments": {},
      "cell_type": "markdown",
      "metadata": {},
      "source": [
        "# Reading the data"
      ]
    },
    {
      "cell_type": "code",
      "execution_count": 3,
      "metadata": {},
      "outputs": [],
      "source": [
        "file_name='Google-Playstore'"
      ]
    },
    {
      "cell_type": "code",
      "execution_count": 4,
      "metadata": {},
      "outputs": [],
      "source": [
        "df = DataPreprocessing.read_data(spark)\n",
        "# df.show(5)"
      ]
    },
    {
      "attachments": {},
      "cell_type": "markdown",
      "metadata": {},
      "source": [
        "# Get info about the data"
      ]
    },
    {
      "cell_type": "code",
      "execution_count": 5,
      "metadata": {},
      "outputs": [],
      "source": [
        "# DataPreprocessing.get_info(df)"
      ]
    },
    {
      "attachments": {},
      "cell_type": "markdown",
      "metadata": {},
      "source": [
        "# Outliers"
      ]
    },
    {
      "cell_type": "code",
      "execution_count": 6,
      "metadata": {},
      "outputs": [],
      "source": [
        "# new_df= DataPreprocessing.detect_outliers(df)\n"
      ]
    },
    {
      "attachments": {},
      "cell_type": "markdown",
      "metadata": {},
      "source": [
        "### Display boxplot for numerical columns before and after removing the outliers"
      ]
    },
    {
      "cell_type": "code",
      "execution_count": 7,
      "metadata": {},
      "outputs": [],
      "source": [
        "\n",
        "# DataPreprocessing.boxplot_for_outliers(df, new_df)\n"
      ]
    },
    {
      "attachments": {},
      "cell_type": "markdown",
      "metadata": {},
      "source": [
        "### Safely remove the outliers"
      ]
    },
    {
      "cell_type": "code",
      "execution_count": 8,
      "metadata": {},
      "outputs": [],
      "source": [
        "# print(new_df.count())"
      ]
    },
    {
      "cell_type": "code",
      "execution_count": 9,
      "metadata": {},
      "outputs": [],
      "source": [
        "# from pyspark.sql.functions import col\n",
        "\n",
        "# def remove_outliers(original_df,df_with_no_outliers):\n",
        "#     '''\n",
        "#     Remove the outliers from the dataset\n",
        "    \n",
        "#     Input:\n",
        "#     df_with_no_outliers: dataframe with no outliers having only the numerical columns\n",
        "#     original_df: original dataframe with all the columns\n",
        "\n",
        "#     Output:\n",
        "#     new_df: dataframe with no outliers having all the columns\n",
        "#    '''\n",
        "#     # take only the common rows from the two dataframes\n",
        "#     new_df = original_df.join(df_with_no_outliers, on=list(original_df.columns), how='inner')\n",
        "        \n",
        "#     return new_df\n",
        "\n",
        "\n",
        "# df= remove_outliers(df,new_df) \n",
        "# print(df.count())\n",
        "# print(df.columns)"
      ]
    },
    {
      "attachments": {},
      "cell_type": "markdown",
      "metadata": {},
      "source": [
        "# Missing values"
      ]
    },
    {
      "cell_type": "code",
      "execution_count": 10,
      "metadata": {},
      "outputs": [
        {
          "name": "stdout",
          "output_type": "stream",
          "text": [
            "                    count  percentage\n",
            "Developer Website  760826   32.894268\n",
            "Privacy Policy     420947   18.199619\n",
            "Released            71055    3.072059\n",
            "Rating              22913    0.990642\n",
            "Rating Count        22894    0.989821\n",
            "Minimum Android      6530    0.282324\n",
            "Size                  196    0.008474\n",
            "Minimum Installs      141    0.006096\n",
            "Currency              135    0.005837\n",
            "Installs              107    0.004626\n",
            "Developer Email        38    0.001643\n",
            "Maximum Installs       37    0.001600\n",
            "Developer Id           33    0.001427\n",
            "Price                  19    0.000821\n",
            "Ad Supported            4    0.000173\n",
            "In App Purchases        2    0.000086\n",
            "Content Rating          0    0.000000\n",
            "Editors Choice          0    0.000000\n",
            "App Name                0    0.000000\n",
            "Last Updated            0    0.000000\n",
            "App Id                  0    0.000000\n",
            "Free                    0    0.000000\n",
            "Category                0    0.000000\n",
            "Scraped Time            0    0.000000\n"
          ]
        }
      ],
      "source": [
        "DataPreprocessing.show_nulls(df) "
      ]
    },
    {
      "attachments": {},
      "cell_type": "markdown",
      "metadata": {},
      "source": [
        "## Handle missing values"
      ]
    },
    {
      "attachments": {},
      "cell_type": "markdown",
      "metadata": {},
      "source": [
        "### Remove columns with high percentages of nulls"
      ]
    },
    {
      "cell_type": "code",
      "execution_count": 11,
      "metadata": {},
      "outputs": [],
      "source": [
        "df= DataPreprocessing.remove_useless_col(df,['Developer Website','Privacy Policy'])"
      ]
    },
    {
      "attachments": {},
      "cell_type": "markdown",
      "metadata": {},
      "source": [
        "### For Currency column"
      ]
    },
    {
      "cell_type": "code",
      "execution_count": 12,
      "metadata": {},
      "outputs": [
        {
          "name": "stdout",
          "output_type": "stream",
          "text": [
            "+--------+-------+\n",
            "|Currency|  count|\n",
            "+--------+-------+\n",
            "|     USD|2311518|\n",
            "|     XXX|   1236|\n",
            "|    null|    135|\n",
            "|       0|     18|\n",
            "|    True|     10|\n",
            "|     EUR|      6|\n",
            "|     INR|      5|\n",
            "|     GBP|      3|\n",
            "|     CAD|      2|\n",
            "|     BRL|      1|\n",
            "|     KRW|      1|\n",
            "|     VND|      1|\n",
            "|     RUB|      1|\n",
            "|     TRY|      1|\n",
            "|     ZAR|      1|\n",
            "|     PKR|      1|\n",
            "|     AUD|      1|\n",
            "|    1.99|      1|\n",
            "|     SGD|      1|\n",
            "| 9126997|      1|\n",
            "+--------+-------+\n",
            "\n"
          ]
        }
      ],
      "source": [
        "DataPreprocessing.currency_col(df)"
      ]
    },
    {
      "cell_type": "code",
      "execution_count": 13,
      "metadata": {},
      "outputs": [
        {
          "name": "stdout",
          "output_type": "stream",
          "text": [
            "Since most of the values are USD, then we can remove this column,\n",
            "Columns after removing useless columns:['App Name', 'App Id', 'Category', 'Rating', 'Rating Count', 'Installs', 'Minimum Installs', 'Maximum Installs', 'Free', 'Price', 'Size', 'Minimum Android', 'Developer Id', 'Developer Email', 'Released', 'Last Updated', 'Content Rating', 'Ad Supported', 'In App Purchases', 'Editors Choice', 'Scraped Time']\n"
          ]
        }
      ],
      "source": [
        "print(\"Since most of the values are USD, then we can remove this column,\")\n",
        "df = DataPreprocessing.remove_useless_col(df, ['Currency'])\n",
        "print(f\"Columns after removing useless columns:{df.columns}\")"
      ]
    },
    {
      "attachments": {},
      "cell_type": "markdown",
      "metadata": {},
      "source": [
        "### Removes rows with nulls in Uninteresting columns"
      ]
    },
    {
      "cell_type": "code",
      "execution_count": 14,
      "metadata": {},
      "outputs": [
        {
          "name": "stdout",
          "output_type": "stream",
          "text": [
            "Total Number of rows : 2312944\n",
            "Number of rows after dropping: 2306010\n"
          ]
        }
      ],
      "source": [
        "uninteresting_cols= ['Minimum Android','Size','Minimum Installs','Installs','Developer Email',\\\n",
        "                   'Developer Id','Price','Ad Supported','In App Purchases']\n",
        "\n",
        "df=DataPreprocessing.handle_missing_values(df,cols=uninteresting_cols)"
      ]
    },
    {
      "attachments": {},
      "cell_type": "markdown",
      "metadata": {},
      "source": [
        "### Fill rows with nulls in interesting columns"
      ]
    },
    {
      "cell_type": "code",
      "execution_count": 15,
      "metadata": {},
      "outputs": [
        {
          "name": "stdout",
          "output_type": "stream",
          "text": [
            "Total Number of rows : 2306010\n"
          ]
        }
      ],
      "source": [
        "interesting_num_cols=['Rating','Rating Count','Maximum Installs']\n",
        "df= DataPreprocessing.handle_missing_values(df, handling_method='mean', cols=interesting_num_cols)"
      ]
    },
    {
      "cell_type": "code",
      "execution_count": 16,
      "metadata": {},
      "outputs": [
        {
          "name": "stdout",
          "output_type": "stream",
          "text": [
            "Total Number of rows : 2306010\n"
          ]
        }
      ],
      "source": [
        "interesting_cat_cols=['Released']\n",
        "df= DataPreprocessing.handle_missing_values(df, handling_method='mode', cols=interesting_cat_cols)"
      ]
    },
    {
      "cell_type": "code",
      "execution_count": 17,
      "metadata": {},
      "outputs": [
        {
          "name": "stdout",
          "output_type": "stream",
          "text": [
            "                  count  percentage\n",
            "App Name              0         0.0\n",
            "Minimum Android       0         0.0\n",
            "Editors Choice        0         0.0\n",
            "In App Purchases      0         0.0\n",
            "Ad Supported          0         0.0\n",
            "Content Rating        0         0.0\n",
            "Last Updated          0         0.0\n",
            "Released              0         0.0\n",
            "Developer Email       0         0.0\n",
            "Developer Id          0         0.0\n",
            "Size                  0         0.0\n",
            "App Id                0         0.0\n",
            "Price                 0         0.0\n",
            "Free                  0         0.0\n",
            "Maximum Installs      0         0.0\n",
            "Minimum Installs      0         0.0\n",
            "Installs              0         0.0\n",
            "Rating Count          0         0.0\n",
            "Rating                0         0.0\n",
            "Category              0         0.0\n",
            "Scraped Time          0         0.0\n"
          ]
        }
      ],
      "source": [
        "DataPreprocessing.show_nulls(df)"
      ]
    },
    {
      "attachments": {},
      "cell_type": "markdown",
      "metadata": {},
      "source": [
        "# Explore some columns"
      ]
    },
    {
      "attachments": {},
      "cell_type": "markdown",
      "metadata": {},
      "source": [
        "## Size"
      ]
    },
    {
      "cell_type": "code",
      "execution_count": 18,
      "metadata": {},
      "outputs": [
        {
          "name": "stdout",
          "output_type": "stream",
          "text": [
            "Percentage of apps with size \"Varies with device\": 3.233940876232107 %\n"
          ]
        }
      ],
      "source": [
        "DataPreprocessing.check_values_in_size_col(df)"
      ]
    },
    {
      "cell_type": "code",
      "execution_count": 19,
      "metadata": {},
      "outputs": [
        {
          "name": "stdout",
          "output_type": "stream",
          "text": [
            "The percentage of \"Varies with app\" is too low, then can remove all rows with this value\n"
          ]
        }
      ],
      "source": [
        "print('The percentage of \"Varies with app\" is too low, then can remove all rows with this value')"
      ]
    },
    {
      "cell_type": "code",
      "execution_count": 20,
      "metadata": {},
      "outputs": [
        {
          "name": "stdout",
          "output_type": "stream",
          "text": [
            "Converted all sizes to Bytes.\n"
          ]
        }
      ],
      "source": [
        "df= DataPreprocessing.convert_size_to_bytes(df)"
      ]
    },
    {
      "attachments": {},
      "cell_type": "markdown",
      "metadata": {},
      "source": [
        "## Scraped time"
      ]
    },
    {
      "cell_type": "code",
      "execution_count": 28,
      "metadata": {},
      "outputs": [
        {
          "name": "stdout",
          "output_type": "stream",
          "text": [
            "+------------+-------+\n",
            "|Scraped Time|  count|\n",
            "+------------+-------+\n",
            "|  2021-06-16|1794115|\n",
            "|  2021-06-15| 437299|\n",
            "|       False|     20|\n",
            "|        True|      1|\n",
            "+------------+-------+\n",
            "\n"
          ]
        }
      ],
      "source": [
        "DataPreprocessing.check_scraped_time(df)"
      ]
    },
    {
      "cell_type": "code",
      "execution_count": 30,
      "metadata": {},
      "outputs": [
        {
          "name": "stdout",
          "output_type": "stream",
          "text": [
            "Most of the apps were scrapped in the same 2 days, then we can remove this column.\n"
          ]
        }
      ],
      "source": [
        "print(\"Most of the apps were scrapped in the same 2 days, then we can remove this column.\")"
      ]
    },
    {
      "cell_type": "code",
      "execution_count": 31,
      "metadata": {},
      "outputs": [],
      "source": [
        "df = DataPreprocessing.remove_useless_col(df, ['Scraped time'])"
      ]
    },
    {
      "cell_type": "code",
      "execution_count": 32,
      "metadata": {},
      "outputs": [
        {
          "data": {
            "text/plain": [
              "['App Name',\n",
              " 'App Id',\n",
              " 'Category',\n",
              " 'Rating',\n",
              " 'Rating Count',\n",
              " 'Installs',\n",
              " 'Minimum Installs',\n",
              " 'Maximum Installs',\n",
              " 'Free',\n",
              " 'Price',\n",
              " 'Size',\n",
              " 'Minimum Android',\n",
              " 'Developer Id',\n",
              " 'Developer Email',\n",
              " 'Released',\n",
              " 'Last Updated',\n",
              " 'Content Rating',\n",
              " 'Ad Supported',\n",
              " 'In App Purchases',\n",
              " 'Editors Choice']"
            ]
          },
          "execution_count": 32,
          "metadata": {},
          "output_type": "execute_result"
        }
      ],
      "source": [
        "df.columns"
      ]
    },
    {
      "attachments": {},
      "cell_type": "markdown",
      "metadata": {},
      "source": [
        "### Write df to csv"
      ]
    },
    {
      "cell_type": "code",
      "execution_count": 21,
      "metadata": {},
      "outputs": [],
      "source": [
        "# pd_df = df.toPandas()\n",
        "# pd_df.to_csv('../Dataset/'+file_name+'.csv', index=False)"
      ]
    },
    {
      "attachments": {},
      "cell_type": "markdown",
      "metadata": {},
      "source": [
        "### Splitting the data "
      ]
    },
    {
      "cell_type": "code",
      "execution_count": 22,
      "metadata": {},
      "outputs": [],
      "source": [
        "# DataPreprocessing.split_data()"
      ]
    },
    {
      "attachments": {},
      "cell_type": "markdown",
      "metadata": {},
      "source": [
        "### Prepare dataset for RDD"
      ]
    },
    {
      "cell_type": "code",
      "execution_count": 23,
      "metadata": {},
      "outputs": [],
      "source": [
        "# DataPreprocessing.delimiter_to_comma()\n",
        "# DataPreprocessing.delimiter_to_comma(file_name='train')\n",
        "# DataPreprocessing.delimiter_to_comma(file_name='val')\n",
        "# DataPreprocessing.delimiter_to_comma(file_name='test')"
      ]
    }
  ],
  "metadata": {
    "kernelspec": {
      "display_name": "Python 3",
      "language": "python",
      "name": "python3"
    },
    "language_info": {
      "codemirror_mode": {
        "name": "ipython",
        "version": 3
      },
      "file_extension": ".py",
      "mimetype": "text/x-python",
      "name": "python",
      "nbconvert_exporter": "python",
      "pygments_lexer": "ipython3",
      "version": "3.10.9"
    },
    "orig_nbformat": 4
  },
  "nbformat": 4,
  "nbformat_minor": 2
}
