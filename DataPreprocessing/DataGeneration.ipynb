{
 "cells": [
  {
   "cell_type": "code",
   "execution_count": 1,
   "metadata": {},
   "outputs": [],
   "source": [
    "import pyspark\n",
    "from pyspark.sql import SparkSession\n",
    "from pyspark import SparkContext\n",
    "from DataPreprocessing import process_data ,read_data"
   ]
  },
  {
   "attachments": {},
   "cell_type": "markdown",
   "metadata": {},
   "source": [
    "# Spark session"
   ]
  },
  {
   "cell_type": "code",
   "execution_count": 2,
   "metadata": {},
   "outputs": [],
   "source": [
    "spark = SparkSession.builder.appName('DataGeneration').getOrCreate()\n",
    "sc=spark.sparkContext"
   ]
  },
  {
   "attachments": {},
   "cell_type": "markdown",
   "metadata": {},
   "source": [
    "# Read the data"
   ]
  },
  {
   "cell_type": "code",
   "execution_count": 3,
   "metadata": {},
   "outputs": [
    {
     "name": "stdout",
     "output_type": "stream",
     "text": [
      "Detecting outliers...\n",
      "Number of outliers in Rating: 0 (0.00%)\n",
      "Number of outliers in Rating Count: 388994 (16.82%)\n",
      "Number of outliers in Minimum Installs: 260554 (11.27%)\n",
      "Number of outliers in Maximum Installs: 407678 (17.63%)\n",
      "Number of outliers in Price: 44943 (1.94%)\n",
      "Number of rows before removing outliers: 2312944\n",
      "Number of rows after removing those having more than 1 outlier in its columns: 1961130\n",
      "Removing useless columns...\n",
      "Handling missing values...\n",
      "Total Number of rows : 1961130\n",
      "Number of rows after dropping nulls: 1954764\n",
      "Total Number of rows : 1954764\n",
      "Total Number of rows : 1954764\n",
      "Converting size to bytes...\n",
      "Converted all sizes to Bytes.\n"
     ]
    }
   ],
   "source": [
    "all_df= process_data(spark, file_name='all',features='all')"
   ]
  },
  {
   "attachments": {},
   "cell_type": "markdown",
   "metadata": {},
   "source": [
    "# Write processed data to csv for the next modules"
   ]
  },
  {
   "cell_type": "code",
   "execution_count": null,
   "metadata": {},
   "outputs": [],
   "source": [
    "all_df.repartition(1).write.format('com.databricks.spark.csv').save('Preprocessed_data.csv',header = 'true')"
   ]
  }
 ],
 "metadata": {
  "kernelspec": {
   "display_name": "Python 3",
   "language": "python",
   "name": "python3"
  },
  "language_info": {
   "codemirror_mode": {
    "name": "ipython",
    "version": 3
   },
   "file_extension": ".py",
   "mimetype": "text/x-python",
   "name": "python",
   "nbconvert_exporter": "python",
   "pygments_lexer": "ipython3",
   "version": "3.10.9"
  },
  "orig_nbformat": 4
 },
 "nbformat": 4,
 "nbformat_minor": 2
}
