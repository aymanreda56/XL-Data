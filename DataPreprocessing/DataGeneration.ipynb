{
  "cells": [
    {
      "cell_type": "code",
      "execution_count": 1,
      "metadata": {
        "colab": {
          "base_uri": "https://localhost:8080/"
        },
        "id": "YwdOt_0und5f",
        "outputId": "0755b9b1-84ce-4621-9345-d8b8a8698e6d"
      },
      "outputs": [
        {
          "name": "stdout",
          "output_type": "stream",
          "text": [
            "Looking in indexes: https://pypi.org/simple, https://us-python.pkg.dev/colab-wheels/public/simple/\n",
            "Requirement already satisfied: pyspark in /usr/local/lib/python3.10/dist-packages (3.4.0)\n",
            "Requirement already satisfied: py4j==0.10.9.7 in /usr/local/lib/python3.10/dist-packages (from pyspark) (0.10.9.7)\n",
            "Looking in indexes: https://pypi.org/simple, https://us-python.pkg.dev/colab-wheels/public/simple/\n",
            "Requirement already satisfied: findspark in /usr/local/lib/python3.10/dist-packages (2.0.1)\n"
          ]
        }
      ],
      "source": [
        "# !pip install pyspark\n",
        "# !pip install findspark"
      ]
    },
    {
      "cell_type": "code",
      "execution_count": 2,
      "metadata": {
        "id": "V82qfh3RnVMY"
      },
      "outputs": [],
      "source": [
        "import pyspark\n",
        "from pyspark.sql import SparkSession\n",
        "from pyspark import SparkContext\n",
        "from DataPreprocessing import process_data ,split_spark_df"
      ]
    },
    {
      "cell_type": "code",
      "execution_count": 3,
      "metadata": {
        "colab": {
          "base_uri": "https://localhost:8080/"
        },
        "id": "jPjeM2HqntAW",
        "outputId": "48934890-ad72-4fd1-e2c9-0692939b6c11"
      },
      "outputs": [
        {
          "name": "stdout",
          "output_type": "stream",
          "text": [
            "Drive already mounted at /content/drive; to attempt to forcibly remount, call drive.mount(\"/content/drive\", force_remount=True).\n"
          ]
        }
      ],
      "source": [
        "# from google.colab import drive\n",
        "# drive.mount('/content/drive')"
      ]
    },
    {
      "cell_type": "markdown",
      "metadata": {
        "id": "JfGfiiQgnVMa"
      },
      "source": [
        "# Spark session"
      ]
    },
    {
      "cell_type": "code",
      "execution_count": 4,
      "metadata": {
        "id": "OuasdqTqnVMc"
      },
      "outputs": [],
      "source": [
        "spark = SparkSession.builder\\\n",
        "    .master(\"local[*]\")\\\n",
        "    .getOrCreate()\n",
        "sc=spark.sparkContext"
      ]
    },
    {
      "cell_type": "markdown",
      "metadata": {
        "id": "ZRkHEX_1nVMe"
      },
      "source": [
        "# Read the data"
      ]
    },
    {
      "cell_type": "code",
      "execution_count": 5,
      "metadata": {
        "colab": {
          "base_uri": "https://localhost:8080/"
        },
        "id": "eOwgDFcwnVMq",
        "outputId": "04b4ddcb-ab94-4070-b66d-18364ef03abe"
      },
      "outputs": [
        {
          "name": "stdout",
          "output_type": "stream",
          "text": [
            "Removing useless columns...\n",
            "Converting size to bytes...\n",
            "Detecting outliers...\n",
            "Number of outliers in Rating: 0 (0.00%)\n",
            "Number of outliers in Rating Count: 378146 (16.90%)\n",
            "Number of outliers in Installs: 244067 (10.91%)\n",
            "Number of outliers in Minimum Installs: 244067 (10.91%)\n",
            "Number of outliers in Maximum Installs: 392614 (17.54%)\n",
            "Number of outliers in Price: 42545 (1.90%)\n",
            "Number of outliers in Size: 120073 (5.37%)\n",
            "Number of rows before removing outliers: 2237972\n",
            "Number of rows after removing those having more than 1 outlier in its columns: 1890342\n",
            "Handling missing values...\n",
            "Total Number of rows : 1890342\n",
            "Number of rows after dropping nulls: 1883566\n",
            "Total Number of rows : 1883566\n",
            "Total Number of rows : 1883566\n"
          ]
        }
      ],
      "source": [
        "all_df= process_data(spark, file_name='Google-Playstore',features='all')"
      ]
    },
    {
      "cell_type": "markdown",
      "metadata": {
        "id": "DhwQdh0mVopd"
      },
      "source": [
        "# Write processed data to csv for the next modules"
      ]
    },
    {
      "cell_type": "code",
      "execution_count": 6,
      "metadata": {
        "id": "OdhRXR_pkgns"
      },
      "outputs": [],
      "source": [
        "all_df.coalesce(1).write.format('com.databricks.spark.csv').save('Preprocessedata.csv',header = 'true')"
      ]
    }
  ],
  "metadata": {
    "colab": {
      "provenance": []
    },
    "kernelspec": {
      "display_name": "Python 3",
      "language": "python",
      "name": "python3"
    },
    "language_info": {
      "codemirror_mode": {
        "name": "ipython",
        "version": 3
      },
      "file_extension": ".py",
      "mimetype": "text/x-python",
      "name": "python",
      "nbconvert_exporter": "python",
      "pygments_lexer": "ipython3",
      "version": "3.10.9"
    },
    "orig_nbformat": 4
  },
  "nbformat": 4,
  "nbformat_minor": 0
}
