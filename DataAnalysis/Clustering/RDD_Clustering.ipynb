{
  "cells": [
    {
      "cell_type": "code",
      "execution_count": 1,
      "metadata": {
        "id": "0aB9w6M0FTtv"
      },
      "outputs": [],
      "source": [
        "import pyspark\n",
        "from pyspark.sql import SparkSession\n",
        "from pyspark import SparkContext\n",
        "import numpy as np"
      ]
    },
    {
      "cell_type": "markdown",
      "metadata": {
        "id": "Ee9vOOsKQYtt"
      },
      "source": [
        "## Spark Session"
      ]
    },
    {
      "cell_type": "code",
      "execution_count": 2,
      "metadata": {
        "colab": {
          "base_uri": "https://localhost:8080/"
        },
        "id": "7v8LHjpu1Yvh",
        "outputId": "2ea57905-3136-43f3-f605-a22c2f447b61"
      },
      "outputs": [],
      "source": [
        "spark = SparkSession.builder.appName('clustering').getOrCreate()\n",
        "sc=spark.sparkContext"
      ]
    },
    {
      "cell_type": "markdown",
      "metadata": {
        "id": "lYytkxiYQczb"
      },
      "source": [
        "## Read Data"
      ]
    },
    {
      "cell_type": "code",
      "execution_count": 4,
      "metadata": {
        "colab": {
          "base_uri": "https://localhost:8080/"
        },
        "id": "v84XoVIVMz0v",
        "outputId": "31661765-e8c8-4fa9-823b-52686c0b4e8b"
      },
      "outputs": [
        {
          "data": {
            "text/plain": [
              "['Gakondo,com.ishakwe.gakondo,Adventure,0.0,0.0,10+,10,15,True,0.0,USD,10M,7.1 and up,Jean Confident Irénée NIYIZIBYOSE,https://beniyizibyose.tk/#/,jean21101999@gmail.com,Feb 26  2020,Feb 26  2020,Everyone,https://beniyizibyose.tk/projects/,False,False,False,2021-06-15 20:19:35']"
            ]
          },
          "execution_count": 4,
          "metadata": {},
          "output_type": "execute_result"
        }
      ],
      "source": [
        "rdd= sc.textFile('../../Dataset/Google-Playstore-RDD.csv')\n",
        "header= rdd.first()\n",
        "rdd= rdd.filter(lambda x: x!=header)\n",
        "rdd.take(1)"
      ]
    },
    {
      "cell_type": "markdown",
      "metadata": {
        "id": "8CY_3edmQxtD"
      },
      "source": [
        "# K-mean Clustering"
      ]
    },
    {
      "attachments": {},
      "cell_type": "markdown",
      "metadata": {
        "id": "iB8KDJeEXYKr"
      },
      "source": [
        "## Features \n",
        "- Rating, Maximum Installs, Size"
      ]
    },
    {
      "cell_type": "code",
      "execution_count": 5,
      "metadata": {
        "id": "mVbxuGs_inCb"
      },
      "outputs": [],
      "source": [
        "import pandas as pd\n",
        "import numpy as np\n",
        "import matplotlib.pyplot as plt\n",
        "%matplotlib inline \n",
        "from sklearn.cluster import KMeans"
      ]
    },
    {
      "cell_type": "code",
      "execution_count": 6,
      "metadata": {
        "colab": {
          "base_uri": "https://localhost:8080/"
        },
        "id": "fCbRLjfe0pLQ",
        "outputId": "cf9ba399-6d65-43b7-b843-a12c76262be5"
      },
      "outputs": [],
      "source": [
        "k=4"
      ]
    },
    {
      "cell_type": "code",
      "execution_count": 7,
      "metadata": {
        "id": "Sg_V6dv_-wxS"
      },
      "outputs": [],
      "source": [
        "def compute_closest_centroid(x, y, z,centroids):\n",
        "    features = [x, y, z]\n",
        "\n",
        "    # Calculate the minimum distance between each point and each centroid\n",
        "    distances = []\n",
        "    for centroid in centroids:\n",
        "        distance = 0\n",
        "        for i in range(len(features)):\n",
        "            distance += (features[i] - centroid[i]) ** 2\n",
        "        distances.append(distance ** 0.5)\n",
        "\n",
        "    # Return the index with the smallest distance\n",
        "    return distances.index(min(distances))\n",
        "\n",
        "\n",
        "centroids= [[0.00e+00, 2.21e+02, 1.70e-06],\\\n",
        "             [4.1000e+00, 3.6002e+04, 8.8000e-06],\\\n",
        "             [2.6000e+00, 1.8539e+04, 1.1000e+01]]"
      ]
    },
    {
      "attachments": {},
      "cell_type": "markdown",
      "metadata": {},
      "source": [
        "### Size column"
      ]
    },
    {
      "cell_type": "code",
      "execution_count": 8,
      "metadata": {},
      "outputs": [],
      "source": [
        "def convert_to_bytes(size_str):\n",
        "    suffixes = {'G': 1000000000, 'M': 1000000, 'k': 1000}\n",
        "    try:\n",
        "        for suffix, multiplier in suffixes.items():\n",
        "            if suffix in size_str:\n",
        "                return float(size_str[:-1]) * multiplier\n",
        "    except:\n",
        "        return 0.0"
      ]
    },
    {
      "cell_type": "markdown",
      "metadata": {
        "id": "QSho8E9zXnb_"
      },
      "source": [
        "## Apply Map-Reduce\n"
      ]
    },
    {
      "cell_type": "code",
      "execution_count": 9,
      "metadata": {
        "colab": {
          "base_uri": "https://localhost:8080/",
          "height": 53
        },
        "id": "Jd0FxOFK4CRQ",
        "outputId": "36cbf8ea-b704-40a8-86ad-7b169ec715fe"
      },
      "outputs": [
        {
          "data": {
            "text/plain": [
              "'\\nmap => compute distance between each point and the centroids \\nproduce  key- value pair <index of mean with min- distance, value of the features>\\nreduce => compute the new means for each cluster\\n\\n'"
            ]
          },
          "execution_count": 9,
          "metadata": {},
          "output_type": "execute_result"
        }
      ],
      "source": [
        "'''\n",
        "map => compute distance between each point and the centroids \n",
        "produce  key- value pair <index of mean with min- distance, value of the features>\n",
        "reduce => compute the new means for each cluster\n",
        "\n",
        "'''"
      ]
    },
    {
      "cell_type": "code",
      "execution_count": 10,
      "metadata": {
        "colab": {
          "base_uri": "https://localhost:8080/"
        },
        "id": "RvFAsVoC-Nr5",
        "outputId": "3d4eb6d0-6c72-43e2-906d-477a6fea8357"
      },
      "outputs": [
        {
          "name": "stderr",
          "output_type": "stream",
          "text": [
            "C:\\Users\\Dell\\AppData\\Local\\Temp/ipykernel_21380/1718551015.py:17: VisibleDeprecationWarning: Creating an ndarray from ragged nested sequences (which is a list-or-tuple of lists-or-tuples-or ndarrays with different lengths or shapes) is deprecated. If you meant to do this, you must specify 'dtype=object' when creating the ndarray.\n",
            "  new_centroids= [item[1] for item in np.array(final_result.collect())]\n"
          ]
        },
        {
          "name": "stdout",
          "output_type": "stream",
          "text": [
            "New:  [(29.54839038020183, 16029.299091906996, 125176422.39896218), (78.19141468296509, 30453273.7142755, 442015875.7380799), (48.61199385793295, 123733.78833007299, 641534556.6248081)]\n",
            "Old:  [[0.0, 221.0, 1.7e-06], [4.1, 36002.0, 8.8e-06], [2.6, 18539.0, 11.0]]\n",
            "New:  [(43.77262534282059, 3853324.37005037, 383060194.0102533), (29.491891891891886, 61950299.567567565, 3359918918.918919), (17.770833333333332, 19726987.625, 3776833333.3333335)]\n",
            "Old:  [(29.54839038020183, 16029.299091906996, 125176422.39896218), (78.19141468296509, 30453273.7142755, 442015875.7380799), (48.61199385793295, 123733.78833007299, 641534556.6248081)]\n",
            "New:  [(43.77720368826996, 3877312.3117198492, 384907471.4060414)]\n",
            "Old:  [(43.77262534282059, 3853324.37005037, 383060194.0102533), (29.491891891891886, 61950299.567567565, 3359918918.918919), (17.770833333333332, 19726987.625, 3776833333.3333335)]\n",
            "New:  [(43.77720368826996, 3877312.3117198492, 384907471.4060414)]\n",
            "Old:  [(43.77720368826996, 3877312.3117198492, 384907471.4060414)]\n"
          ]
        }
      ],
      "source": [
        "new_centroids =[]\n",
        "M=20\n",
        "i=0\n",
        "\n",
        "# key: index of the mean with min- distance\n",
        "# value: (Rating, Maximum Installs, Size) \n",
        "while i < M:\n",
        "    i+=1\n",
        "    \n",
        "    final_result= rdd.filter(lambda x: x.split(',')[11]!='Varies with device' and x.split(',')[11]!='' and x.split(',')[7]!='' and x.split(',')[3]!='')\\\n",
        "            .map(lambda x: (float(x.split(',')[3]),int(x.split(',')[7]),convert_to_bytes(x.split(',')[11])) )\\\n",
        "            .map(lambda x:(compute_closest_centroid(x[0],x[1],x[2],centroids),(x[0],x[1],x[2])))\\\n",
        "            .mapValues(lambda x: (x[0],x[1],x[2],1,1,1))\\\n",
        "            .reduceByKey(lambda x,y: (x[0]+y[0],x[1]+y[1],x[2]+y[2],x[3]+1,x[4]+1,x[5]+1))\\\n",
        "            .mapValues(lambda x: (x[0]/x[3],x[1]/x[4],x[2]/x[5]))\n",
        "            \n",
        "    new_centroids= [item[1] for item in np.array(final_result.collect())]\n",
        "    print(\"New: \",new_centroids)\n",
        "    print(\"Old: \", centroids)\n",
        "    if centroids != new_centroids :\n",
        "        centroids = new_centroids\n",
        "    else:\n",
        "        break"
      ]
    },
    {
      "cell_type": "code",
      "execution_count": 20,
      "metadata": {
        "id": "NskXUo01eTSN"
      },
      "outputs": [],
      "source": [
        "clusters= final_result.mapValues(lambda x: (round(x[0],2),int(x[1]),round(x[2]/1000000,2)))\\\n",
        "                    .groupByKey().mapValues(list)"
      ]
    },
    {
      "cell_type": "code",
      "execution_count": 21,
      "metadata": {},
      "outputs": [
        {
          "name": "stdout",
          "output_type": "stream",
          "text": [
            "[(0, [(43.77720368826996, 3877312.3117198492, 384907471.4060414)])]\n"
          ]
        }
      ],
      "source": [
        "collected_clusters=clusters.collect()\n",
        "print(collected_clusters)"
      ]
    },
    {
      "cell_type": "code",
      "execution_count": null,
      "metadata": {
        "colab": {
          "base_uri": "https://localhost:8080/"
        },
        "id": "9hDGwAbUnZo3",
        "outputId": "e3b61c0a-9dfe-4595-b9a4-899c55122281"
      },
      "outputs": [],
      "source": [
        "collected_clusters = np.array(collected_clusters)"
      ]
    },
    {
      "cell_type": "code",
      "execution_count": 14,
      "metadata": {
        "colab": {
          "base_uri": "https://localhost:8080/"
        },
        "id": "ldlEvIdUh8lM",
        "outputId": "59bf1dc0-fd36-4033-f629-7e6be460fb8d"
      },
      "outputs": [
        {
          "name": "stdout",
          "output_type": "stream",
          "text": [
            "[(43.78, 3877312, 384.91)]\n"
          ]
        }
      ],
      "source": [
        "clusters_it=  [item[1] for item in collected_clusters]\n",
        "print(clusters_it[0])\n"
      ]
    },
    {
      "cell_type": "code",
      "execution_count": 15,
      "metadata": {
        "id": "Ig91P7NXofCd"
      },
      "outputs": [],
      "source": [
        "actual_clusters=[]\n",
        "for i in clusters_it:\n",
        "   actual_clusters.append([x[0] for x in i])"
      ]
    }
  ],
  "metadata": {
    "colab": {
      "provenance": []
    },
    "kernelspec": {
      "display_name": "Python 3",
      "name": "python3"
    },
    "language_info": {
      "codemirror_mode": {
        "name": "ipython",
        "version": 3
      },
      "file_extension": ".py",
      "mimetype": "text/x-python",
      "name": "python",
      "nbconvert_exporter": "python",
      "pygments_lexer": "ipython3",
      "version": "3.8.5"
    }
  },
  "nbformat": 4,
  "nbformat_minor": 0
}
