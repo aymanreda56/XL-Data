{
  "cells": [
    {
      "cell_type": "code",
      "execution_count": 1,
      "metadata": {
        "colab": {
          "base_uri": "https://localhost:8080/"
        },
        "id": "DZSXBYkOFOe-",
        "outputId": "1f4f09b8-d936-460f-b752-c6c1cfdd4242"
      },
      "outputs": [
        {
          "name": "stdout",
          "output_type": "stream",
          "text": [
            "Looking in indexes: https://pypi.org/simple, https://us-python.pkg.dev/colab-wheels/public/simple/\n",
            "Collecting pyspark\n",
            "  Downloading pyspark-3.4.0.tar.gz (310.8 MB)\n",
            "\u001b[2K     \u001b[90m━━━━━━━━━━━━━━━━━━━━━━━━━━━━━━━━━━━━━━━\u001b[0m \u001b[32m310.8/310.8 MB\u001b[0m \u001b[31m3.6 MB/s\u001b[0m eta \u001b[36m0:00:00\u001b[0m\n",
            "\u001b[?25h  Preparing metadata (setup.py) ... \u001b[?25l\u001b[?25hdone\n",
            "Requirement already satisfied: py4j==0.10.9.7 in /usr/local/lib/python3.10/dist-packages (from pyspark) (0.10.9.7)\n",
            "Building wheels for collected packages: pyspark\n",
            "  Building wheel for pyspark (setup.py) ... \u001b[?25l\u001b[?25hdone\n",
            "  Created wheel for pyspark: filename=pyspark-3.4.0-py2.py3-none-any.whl size=311317145 sha256=0258f1184faf07573e47467467e9eecbe57ef8c1eb8edfc0466d6a553e714326\n",
            "  Stored in directory: /root/.cache/pip/wheels/7b/1b/4b/3363a1d04368e7ff0d408e57ff57966fcdf00583774e761327\n",
            "Successfully built pyspark\n",
            "Installing collected packages: pyspark\n",
            "Successfully installed pyspark-3.4.0\n"
          ]
        }
      ],
      "source": [
        "!pip install pyspark"
      ]
    },
    {
      "cell_type": "code",
      "execution_count": 2,
      "metadata": {
        "colab": {
          "base_uri": "https://localhost:8080/"
        },
        "id": "pCoEEtQEFVwH",
        "outputId": "0a7e86dd-ab4e-4201-f82e-b6aba7db6efd"
      },
      "outputs": [
        {
          "name": "stdout",
          "output_type": "stream",
          "text": [
            "Looking in indexes: https://pypi.org/simple, https://us-python.pkg.dev/colab-wheels/public/simple/\n",
            "Collecting findspark\n",
            "  Downloading findspark-2.0.1-py2.py3-none-any.whl (4.4 kB)\n",
            "Installing collected packages: findspark\n",
            "Successfully installed findspark-2.0.1\n"
          ]
        }
      ],
      "source": [
        "!pip install findspark"
      ]
    },
    {
      "cell_type": "code",
      "execution_count": 3,
      "metadata": {
        "id": "0aB9w6M0FTtv"
      },
      "outputs": [],
      "source": [
        "import pyspark\n",
        "from pyspark.sql import SparkSession\n",
        "from pyspark import SparkContext\n",
        "import numpy as np\n"
      ]
    },
    {
      "cell_type": "code",
      "execution_count": 5,
      "metadata": {
        "colab": {
          "base_uri": "https://localhost:8080/"
        },
        "id": "Sssmb0YLwx3H",
        "outputId": "3c64e44a-4af6-4120-8d06-a5b259bd8300"
      },
      "outputs": [
        {
          "name": "stdout",
          "output_type": "stream",
          "text": [
            "Mounted at /content/drive/\n"
          ]
        }
      ],
      "source": [
        "from google.colab import drive\n",
        "drive.mount('/content/drive/')"
      ]
    },
    {
      "cell_type": "markdown",
      "metadata": {
        "id": "Ee9vOOsKQYtt"
      },
      "source": [
        "## Spark Session"
      ]
    },
    {
      "cell_type": "code",
      "execution_count": 6,
      "metadata": {
        "colab": {
          "base_uri": "https://localhost:8080/"
        },
        "id": "7v8LHjpu1Yvh",
        "outputId": "06c37abb-39b2-4faf-d91e-d869f1f9df7a"
      },
      "outputs": [
        {
          "name": "stdout",
          "output_type": "stream",
          "text": [
            "Spark Version: 3.4.0\n"
          ]
        }
      ],
      "source": [
        "\n",
        "from pyspark.sql import SparkSession\n",
        "spark = SparkSession.builder.appName('clustering').getOrCreate()\n",
        "print('Spark Version: {}'.format(spark.version))"
      ]
    },
    {
      "attachments": {},
      "cell_type": "markdown",
      "metadata": {
        "id": "kFApHLY5jv9t"
      },
      "source": [
        "## K-mean Clustring"
      ]
    },
    {
      "cell_type": "code",
      "execution_count": 9,
      "metadata": {
        "id": "GLA1roVLinrE"
      },
      "outputs": [],
      "source": [
        "\n",
        "#Importing the model\n",
        "from pyspark.ml.clustering import KMeans\n",
        "from pyspark.ml.evaluation import ClusteringEvaluator"
      ]
    },
    {
      "cell_type": "markdown",
      "metadata": {
        "id": "lYytkxiYQczb"
      },
      "source": [
        "## Read Data"
      ]
    },
    {
      "cell_type": "code",
      "execution_count": 14,
      "metadata": {
        "colab": {
          "base_uri": "https://localhost:8080/"
        },
        "id": "Ch7UCBqTjyla",
        "outputId": "1708deae-e250-44cf-e8d9-ff3f82b26eb8"
      },
      "outputs": [
        {
          "name": "stdout",
          "output_type": "stream",
          "text": [
            "+--------------------+--------------------+-------------+------+------------+--------+----------------+----------------+----+-----+--------+----+---------------+--------------------+--------------------+--------------------+------------+------------+--------------+--------------------+------------+----------------+--------------+-------------------+\n",
            "|            App Name|              App Id|     Category|Rating|Rating Count|Installs|Minimum Installs|Maximum Installs|Free|Price|Currency|Size|Minimum Android|        Developer Id|   Developer Website|     Developer Email|    Released|Last Updated|Content Rating|      Privacy Policy|Ad Supported|In App Purchases|Editors Choice|       Scraped Time|\n",
            "+--------------------+--------------------+-------------+------+------------+--------+----------------+----------------+----+-----+--------+----+---------------+--------------------+--------------------+--------------------+------------+------------+--------------+--------------------+------------+----------------+--------------+-------------------+\n",
            "|             Gakondo| com.ishakwe.gakondo|    Adventure|   0.0|           0|     10+|              10|              15|True|    0|     USD| 10M|     7.1 and up|Jean Confident Ir...|https://beniyizib...|jean21101999@gmai...|Feb 26, 2020|Feb 26, 2020|      Everyone|https://beniyizib...|       False|           False|         False|2021-06-15 20:19:35|\n",
            "| Ampere Battery Info|com.webserveis.ba...|        Tools|   4.4|          64|  5,000+|            5000|            7662|True|    0|     USD|2.9M|     5.0 and up|          Webserveis|https://webservei...|webserveis@gmail.com|May 21, 2020|May 06, 2021|      Everyone|https://dev4phone...|        True|           False|         False|2021-06-15 20:19:35|\n",
            "|              Vibook|com.doantiepvien.crm| Productivity|   0.0|           0|     50+|              50|              58|True|    0|     USD|3.7M|   4.0.3 and up|          Cabin Crew|                null| vnacrewit@gmail.com| Aug 9, 2019|Aug 19, 2019|      Everyone|https://www.vietn...|       False|           False|         False|2021-06-15 20:19:35|\n",
            "|Smart City Trichy...|cst.stJoseph.ug17...|Communication|   5.0|           5|     10+|              10|              19|True|    0|     USD|1.8M|   4.0.3 and up| Climate Smart Tech2|http://www.climat...|climatesmarttech2...|Sep 10, 2018|Oct 13, 2018|      Everyone|                null|        True|           False|         False|2021-06-15 20:19:35|\n",
            "|             GROW.me|com.horodyski.grower|        Tools|   0.0|           0|    100+|             100|             478|True|    0|     USD|6.2M|     4.1 and up|Rafal Milek-Horod...|http://www.horody...|rmilekhorodyski@g...|Feb 21, 2020|Nov 12, 2018|      Everyone|http://www.horody...|       False|           False|         False|2021-06-15 20:19:35|\n",
            "+--------------------+--------------------+-------------+------+------------+--------+----------------+----------------+----+-----+--------+----+---------------+--------------------+--------------------+--------------------+------------+------------+--------------+--------------------+------------+----------------+--------------+-------------------+\n",
            "only showing top 5 rows\n",
            "\n"
          ]
        }
      ],
      "source": [
        "dataset = spark.read.csv(\"/content/drive/MyDrive/BD_Dataset/Google-Playstore.csv\",header=True,inferSchema=True)\n",
        "dataset.show(5)\n"
      ]
    },
    {
      "attachments": {},
      "cell_type": "markdown",
      "metadata": {},
      "source": [
        "## Data Schema"
      ]
    },
    {
      "cell_type": "code",
      "execution_count": 16,
      "metadata": {
        "colab": {
          "base_uri": "https://localhost:8080/"
        },
        "id": "BHl0g6kskRUm",
        "outputId": "ea5ccab2-1eec-41b3-e1ef-bb2263ddab9b"
      },
      "outputs": [
        {
          "name": "stdout",
          "output_type": "stream",
          "text": [
            "root\n",
            " |-- App Name: string (nullable = true)\n",
            " |-- App Id: string (nullable = true)\n",
            " |-- Category: string (nullable = true)\n",
            " |-- Rating: string (nullable = true)\n",
            " |-- Rating Count: string (nullable = true)\n",
            " |-- Installs: string (nullable = true)\n",
            " |-- Minimum Installs: string (nullable = true)\n",
            " |-- Maximum Installs: string (nullable = true)\n",
            " |-- Free: string (nullable = true)\n",
            " |-- Price: string (nullable = true)\n",
            " |-- Currency: string (nullable = true)\n",
            " |-- Size: string (nullable = true)\n",
            " |-- Minimum Android: string (nullable = true)\n",
            " |-- Developer Id: string (nullable = true)\n",
            " |-- Developer Website: string (nullable = true)\n",
            " |-- Developer Email: string (nullable = true)\n",
            " |-- Released: string (nullable = true)\n",
            " |-- Last Updated: string (nullable = true)\n",
            " |-- Content Rating: string (nullable = true)\n",
            " |-- Privacy Policy: string (nullable = true)\n",
            " |-- Ad Supported: string (nullable = true)\n",
            " |-- In App Purchases: string (nullable = true)\n",
            " |-- Editors Choice: string (nullable = true)\n",
            " |-- Scraped Time: string (nullable = true)\n",
            "\n"
          ]
        }
      ],
      "source": [
        "dataset.printSchema()\n"
      ]
    },
    {
      "cell_type": "code",
      "execution_count": 17,
      "metadata": {
        "id": "IE75zWDdmuOQ"
      },
      "outputs": [],
      "source": [
        "ratings = dataset.select('Rating')"
      ]
    },
    {
      "attachments": {},
      "cell_type": "markdown",
      "metadata": {},
      "source": [
        "## Drop Null values"
      ]
    },
    {
      "cell_type": "code",
      "execution_count": 18,
      "metadata": {
        "id": "PZ2Ax7A_sRLT"
      },
      "outputs": [],
      "source": [
        "ratings = ratings.dropna()"
      ]
    },
    {
      "attachments": {},
      "cell_type": "markdown",
      "metadata": {},
      "source": [
        "### Cast string to float"
      ]
    },
    {
      "cell_type": "code",
      "execution_count": 21,
      "metadata": {
        "id": "HPoAoRSHrJAL"
      },
      "outputs": [],
      "source": [
        "from pyspark.sql.types import DoubleType\n",
        "ratings = ratings.withColumn('Rating',ratings['Rating'].cast(DoubleType()))"
      ]
    },
    {
      "cell_type": "code",
      "execution_count": 22,
      "metadata": {
        "colab": {
          "base_uri": "https://localhost:8080/"
        },
        "id": "Ep3OXTkZoIXW",
        "outputId": "95426acf-b8b4-4ceb-f4d8-d48a5dc04c0e"
      },
      "outputs": [
        {
          "name": "stdout",
          "output_type": "stream",
          "text": [
            "+------------------+\n",
            "|Transformed_Rating|\n",
            "+------------------+\n",
            "|             [0.0]|\n",
            "|             [4.4]|\n",
            "|             [0.0]|\n",
            "|             [5.0]|\n",
            "|             [0.0]|\n",
            "+------------------+\n",
            "only showing top 5 rows\n",
            "\n"
          ]
        }
      ],
      "source": [
        "# from pyspark.sql.types import DoubleType\n",
        "from pyspark.ml.feature import VectorAssembler\n",
        "  \n",
        "vec_assembler = VectorAssembler(inputCols =ratings.columns,\n",
        "                                outputCol='Transformed_Rating', handleInvalid=\"skip\")\n",
        "  \n",
        "final_data = vec_assembler.transform(ratings)\n",
        "final_data.select('Transformed_Rating').show(5)"
      ]
    },
    {
      "cell_type": "code",
      "execution_count": 23,
      "metadata": {
        "colab": {
          "base_uri": "https://localhost:8080/"
        },
        "id": "A0yCZdSNWKe4",
        "outputId": "4cb0c6d3-e58e-4648-c1b6-94c763857b6a"
      },
      "outputs": [
        {
          "name": "stdout",
          "output_type": "stream",
          "text": [
            "+--------------------+\n",
            "|      scaledFeatures|\n",
            "+--------------------+\n",
            "|               [0.0]|\n",
            "| [2.089050144797001]|\n",
            "|               [0.0]|\n",
            "|[2.3739206190875004]|\n",
            "|               [0.0]|\n",
            "+--------------------+\n",
            "only showing top 5 rows\n",
            "\n"
          ]
        }
      ],
      "source": [
        "from pyspark.ml.feature import StandardScaler\n",
        "\n",
        "scaler = StandardScaler(inputCol=\"Transformed_Rating\",\n",
        "\t\t\t\t\t\toutputCol=\"scaledFeatures\",\n",
        "\t\t\t\t\t\twithStd=True,\n",
        "\t\t\t\t\t\twithMean=False)\n",
        "\n",
        "# Compute summary statistics by fitting the StandardScaler\n",
        "scalerModel = scaler.fit(final_data)\n",
        "\n",
        "# Normalize each feature to have unit standard deviation.\n",
        "final_data = scalerModel.transform(final_data)\n",
        "\n",
        "final_data.select('scaledFeatures').show(5)\n"
      ]
    },
    {
      "attachments": {},
      "cell_type": "markdown",
      "metadata": {},
      "source": [
        "## Compute score "
      ]
    },
    {
      "cell_type": "code",
      "execution_count": 30,
      "metadata": {
        "colab": {
          "base_uri": "https://localhost:8080/"
        },
        "id": "DC1mjtFTrICs",
        "outputId": "35a15f70-1837-419d-c0c9-4833ade0f2d9"
      },
      "outputs": [
        {
          "name": "stdout",
          "output_type": "stream",
          "text": [
            "Silhouette Score for k = 2 is 0.9602706153397479\n",
            "Silhouette Score for k = 3 is 0.8576528097053818\n",
            "Silhouette Score for k = 4 is 0.8419256666689326\n",
            "Silhouette Score for k = 5 is 0.8424170375240393\n",
            "Silhouette Score for k = 6 is 0.8354317641624895\n",
            "Silhouette Score for k = 7 is 0.842643554836007\n",
            "Silhouette Score for k = 8 is 0.8437845487934451\n",
            "Silhouette Score for k = 9 is 0.8468475402899964\n"
          ]
        }
      ],
      "source": [
        "#Importing the model\n",
        "from pyspark.ml.clustering import KMeans\n",
        "from pyspark.ml.evaluation import ClusteringEvaluator\n",
        "  \n",
        "silhouette_score=[]\n",
        "  \n",
        "evaluator = ClusteringEvaluator(predictionCol='prediction',\n",
        "                                featuresCol='scaledFeatures', \\\n",
        "                                metricName='silhouette', \n",
        "                                distanceMeasure='squaredEuclidean')\n",
        "  \n",
        "for i in range(2,10):\n",
        "    kmeans=KMeans(featuresCol='scaledFeatures', k=i)\n",
        "    model=kmeans.fit(final_data)\n",
        "    predictions=model.transform(final_data)\n",
        "    score=evaluator.evaluate(predictions)\n",
        "    silhouette_score.append(score)\n",
        "    print('Silhouette Score for k =',i,'is',score)"
      ]
    },
    {
      "cell_type": "code",
      "execution_count": 31,
      "metadata": {
        "colab": {
          "base_uri": "https://localhost:8080/",
          "height": 472
        },
        "id": "4JIuv9RL9qvz",
        "outputId": "a5cc84f6-068b-4a13-ec4f-d4100d412482"
      },
      "outputs": [
        {
          "data": {
            "image/png": "[encoded data removed]",
            "text/plain": [
              "<Figure size 640x480 with 1 Axes>"
            ]
          },
          "metadata": {},
          "output_type": "display_data"
        }
      ],
      "source": [
        "#Visualizing the silhouette scores in a plot\n",
        "import matplotlib.pyplot as plt\n",
        "  \n",
        "plt.plot(range(2,10),silhouette_score)\n",
        "plt.xlabel('k')\n",
        "plt.ylabel('silhouette score')\n",
        "plt.title('Silhouette Score')\n",
        "plt.show()"
      ]
    },
    {
      "cell_type": "code",
      "execution_count": 24,
      "metadata": {
        "id": "if6jMTW9mtf2"
      },
      "outputs": [],
      "source": [
        "\n",
        "# Trains a k-means model.\n",
        "kmeans = KMeans(featuresCol='scaledFeatures',k=3)\n",
        "model = kmeans.fit(final_data)\n",
        "predictions = model.transform(final_data)"
      ]
    },
    {
      "cell_type": "code",
      "execution_count": 27,
      "metadata": {
        "colab": {
          "base_uri": "https://localhost:8080/"
        },
        "id": "iyFrLrsIivq9",
        "outputId": "d1b52ddf-e893-4c24-b40b-0a2aa3b3e7fe"
      },
      "outputs": [
        {
          "name": "stdout",
          "output_type": "stream",
          "text": [
            "<class 'pyspark.ml.clustering.KMeans'>\n"
          ]
        }
      ],
      "source": [
        "print(type(kmeans))"
      ]
    },
    {
      "cell_type": "code",
      "execution_count": 32,
      "metadata": {
        "colab": {
          "base_uri": "https://localhost:8080/"
        },
        "id": "jw2xNZu95U1D",
        "outputId": "305c67a8-995e-443a-9ea2-013f26c5a3de"
      },
      "outputs": [
        {
          "name": "stdout",
          "output_type": "stream",
          "text": [
            "Cluster Centers: \n",
            "[2.33544472]\n",
            "[0.]\n",
            "[1.32769343]\n",
            "[1.81809598]\n",
            "[2.02109851]\n",
            "[2.18082764]\n",
            "[1.5824386]\n",
            "[0.7391024]\n",
            "[1.04178062]\n"
          ]
        }
      ],
      "source": [
        "# Printing cluster centers\n",
        "centers = model.clusterCenters()\n",
        "print(\"Cluster Centers: \")\n",
        "for center in centers:\n",
        "    print(center)"
      ]
    },
    {
      "cell_type": "code",
      "execution_count": null,
      "metadata": {
        "id": "bPKOf5hY9wv5"
      },
      "outputs": [],
      "source": [
        "\n",
        "#End Session\n",
        "spark.stop()"
      ]
    }
  ],
  "metadata": {
    "colab": {
      "provenance": []
    },
    "kernelspec": {
      "display_name": "Python 3",
      "name": "python3"
    },
    "language_info": {
      "name": "python"
    }
  },
  "nbformat": 4,
  "nbformat_minor": 0
}
