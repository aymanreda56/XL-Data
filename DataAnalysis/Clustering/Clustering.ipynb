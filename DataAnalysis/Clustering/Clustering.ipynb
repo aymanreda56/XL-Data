{
  "cells": [
    {
      "cell_type": "code",
      "execution_count": 1,
      "metadata": {
        "colab": {
          "base_uri": "https://localhost:8080/"
        },
        "id": "DZSXBYkOFOe-",
        "outputId": "1f4f09b8-d936-460f-b752-c6c1cfdd4242"
      },
      "outputs": [
        {
          "name": "stdout",
          "output_type": "stream",
          "text": [
            "Looking in indexes: https://pypi.org/simple, https://us-python.pkg.dev/colab-wheels/public/simple/\n",
            "Collecting pyspark\n",
            "  Downloading pyspark-3.4.0.tar.gz (310.8 MB)\n",
            "\u001b[2K     \u001b[90m━━━━━━━━━━━━━━━━━━━━━━━━━━━━━━━━━━━━━━━\u001b[0m \u001b[32m310.8/310.8 MB\u001b[0m \u001b[31m3.6 MB/s\u001b[0m eta \u001b[36m0:00:00\u001b[0m\n",
            "\u001b[?25h  Preparing metadata (setup.py) ... \u001b[?25l\u001b[?25hdone\n",
            "Requirement already satisfied: py4j==0.10.9.7 in /usr/local/lib/python3.10/dist-packages (from pyspark) (0.10.9.7)\n",
            "Building wheels for collected packages: pyspark\n",
            "  Building wheel for pyspark (setup.py) ... \u001b[?25l\u001b[?25hdone\n",
            "  Created wheel for pyspark: filename=pyspark-3.4.0-py2.py3-none-any.whl size=311317145 sha256=0258f1184faf07573e47467467e9eecbe57ef8c1eb8edfc0466d6a553e714326\n",
            "  Stored in directory: /root/.cache/pip/wheels/7b/1b/4b/3363a1d04368e7ff0d408e57ff57966fcdf00583774e761327\n",
            "Successfully built pyspark\n",
            "Installing collected packages: pyspark\n",
            "Successfully installed pyspark-3.4.0\n"
          ]
        }
      ],
      "source": [
        "!pip install pyspark"
      ]
    },
    {
      "cell_type": "code",
      "execution_count": 2,
      "metadata": {
        "colab": {
          "base_uri": "https://localhost:8080/"
        },
        "id": "pCoEEtQEFVwH",
        "outputId": "0a7e86dd-ab4e-4201-f82e-b6aba7db6efd"
      },
      "outputs": [
        {
          "name": "stdout",
          "output_type": "stream",
          "text": [
            "Looking in indexes: https://pypi.org/simple, https://us-python.pkg.dev/colab-wheels/public/simple/\n",
            "Collecting findspark\n",
            "  Downloading findspark-2.0.1-py2.py3-none-any.whl (4.4 kB)\n",
            "Installing collected packages: findspark\n",
            "Successfully installed findspark-2.0.1\n"
          ]
        }
      ],
      "source": [
        "!pip install findspark"
      ]
    },
    {
      "cell_type": "code",
      "execution_count": 3,
      "metadata": {
        "id": "0aB9w6M0FTtv"
      },
      "outputs": [],
      "source": [
        "import pyspark\n",
        "from pyspark.sql import SparkSession\n",
        "from pyspark import SparkContext\n",
        "import numpy as np\n"
      ]
    },
    {
      "cell_type": "code",
      "execution_count": 5,
      "metadata": {
        "colab": {
          "base_uri": "https://localhost:8080/"
        },
        "id": "Sssmb0YLwx3H",
        "outputId": "3c64e44a-4af6-4120-8d06-a5b259bd8300"
      },
      "outputs": [
        {
          "name": "stdout",
          "output_type": "stream",
          "text": [
            "Mounted at /content/drive/\n"
          ]
        }
      ],
      "source": [
        "from google.colab import drive\n",
        "drive.mount('/content/drive/')"
      ]
    },
    {
      "cell_type": "markdown",
      "metadata": {
        "id": "Ee9vOOsKQYtt"
      },
      "source": [
        "## Spark Session"
      ]
    },
    {
      "cell_type": "code",
      "execution_count": 6,
      "metadata": {
        "colab": {
          "base_uri": "https://localhost:8080/"
        },
        "id": "7v8LHjpu1Yvh",
        "outputId": "06c37abb-39b2-4faf-d91e-d869f1f9df7a"
      },
      "outputs": [
        {
          "name": "stdout",
          "output_type": "stream",
          "text": [
            "Spark Version: 3.4.0\n"
          ]
        }
      ],
      "source": [
        "\n",
        "from pyspark.sql import SparkSession\n",
        "spark = SparkSession.builder.appName('clustering').getOrCreate()\n",
        "print('Spark Version: {}'.format(spark.version))"
      ]
    },
    {
      "cell_type": "code",
      "execution_count": null,
      "metadata": {
        "id": "LtDvBuVzEvf6"
      },
      "outputs": [],
      "source": [
        "# spark=SparkSession.builder\\\n",
        "#     .master(\"local[*]\")\\\n",
        "#     .appName(\"DescriptiveAnalysis\")\\\n",
        "#     .config('spark.sql.execution.arrow.pyspark.enabled', True) \\\n",
        "#     .config('spark.sql.session.timeZone', 'UTC') \\\n",
        "#     .config('spark.driver.memory','32G') \\\n",
        "#     .config('spark.ui.showConsoleProgress', True) \\\n",
        "#     .config('spark.sql.repl.eagerEval.enabled', True) \\\n",
        "#     .getOrCreate()\n",
        "\n",
        "# sc=spark.sparkContext"
      ]
    },
    {
      "cell_type": "markdown",
      "metadata": {
        "id": "lYytkxiYQczb"
      },
      "source": [
        "## Read Data"
      ]
    },
    {
      "cell_type": "code",
      "execution_count": null,
      "metadata": {
        "id": "v84XoVIVMz0v"
      },
      "outputs": [],
      "source": [
        "rdd= sc.textFile('/content/drive/MyDrive/BD_Dataset')\n",
        "header= rdd.first()\n",
        "rdd= rdd.filter(lambda x: x!=header)\n",
        "rdd.take(1)"
      ]
    },
    {
      "cell_type": "markdown",
      "metadata": {
        "id": "8CY_3edmQxtD"
      },
      "source": [
        "# Clustering"
      ]
    },
    {
      "cell_type": "code",
      "execution_count": null,
      "metadata": {
        "colab": {
          "base_uri": "https://localhost:8080/"
        },
        "id": "ms52GJREQlY2",
        "outputId": "a6d9acdc-ca87-4c9b-f94a-1a58c886963d"
      },
      "outputs": [
        {
          "name": "stdout",
          "output_type": "stream",
          "text": [
            "0\n"
          ]
        }
      ],
      "source": [
        "# select ratings and ads columns\n",
        "free_apps= rdd.filter(lambda x: x.split(',')[3] == 3).count()\n",
        "print(free_apps)\n"
      ]
    },
    {
      "cell_type": "code",
      "execution_count": null,
      "metadata": {
        "colab": {
          "base_uri": "https://localhost:8080/"
        },
        "id": "f1_1-_vt1rjE",
        "outputId": "4383dba5-7f6d-480a-ba1f-68957b03289b"
      },
      "outputs": [
        {
          "data": {
            "text/plain": [
              "['0.0', '4.4', '0.0', '5.0', '0.0', '0.0', '4.5', '2.0', '0.0', '4.7']"
            ]
          },
          "execution_count": 8,
          "metadata": {},
          "output_type": "execute_result"
        }
      ],
      "source": [
        "ratings= rdd.map(lambda x: x.split(',')[3])\n",
        "ratings.take(10)"
      ]
    },
    {
      "cell_type": "code",
      "execution_count": null,
      "metadata": {
        "colab": {
          "base_uri": "https://localhost:8080/"
        },
        "id": "4eF4JcwLPEBN",
        "outputId": "eb2378da-4b53-4d83-ce91-ad3f5a40ac7a"
      },
      "outputs": [
        {
          "data": {
            "text/plain": [
              "2312944"
            ]
          },
          "execution_count": 32,
          "metadata": {},
          "output_type": "execute_result"
        }
      ],
      "source": [
        "ratings.count()"
      ]
    },
    {
      "cell_type": "code",
      "execution_count": null,
      "metadata": {
        "colab": {
          "base_uri": "https://localhost:8080/"
        },
        "id": "fCbRLjfe0pLQ",
        "outputId": "2af8f268-1ae7-47af-dca8-4059e9c07018"
      },
      "outputs": [
        {
          "name": "stdout",
          "output_type": "stream",
          "text": [
            "['0.0', '0.0', '5.0', '0.0']\n"
          ]
        }
      ],
      "source": [
        "k=4\n",
        "\n",
        "centroids= ratings.takeSample(False, k, 0)\n",
        "print(centroids)\n",
        "\n"
      ]
    },
    {
      "cell_type": "code",
      "execution_count": null,
      "metadata": {
        "id": "Sg_V6dv_-wxS"
      },
      "outputs": [],
      "source": [
        "# compute ecludian distance between x and each cetroid in centroids and return centroid with min distance\n",
        "def compute_closest_centroid(x, centroids):\n",
        "    distances = [ np.sqrt(np.sum((float(x) - centroid)**2)) for centroid in centroids]\n",
        "    return np.argmin(distances)"
      ]
    },
    {
      "cell_type": "markdown",
      "metadata": {
        "id": "kFApHLY5jv9t"
      },
      "source": [
        "# K-mean Clustring"
      ]
    },
    {
      "cell_type": "code",
      "execution_count": null,
      "metadata": {
        "colab": {
          "base_uri": "https://localhost:8080/",
          "height": 36
        },
        "id": "Jd0FxOFK4CRQ",
        "outputId": "54e8963a-32a6-4f2b-96af-645c976b25db"
      },
      "outputs": [
        {
          "data": {
            "application/vnd.google.colaboratory.intrinsic+json": {
              "type": "string"
            },
            "text/plain": [
              "'\\nmap => compute distance between each point and the centroids \\nreduce => compute the new means\\n\\n'"
            ]
          },
          "execution_count": 11,
          "metadata": {},
          "output_type": "execute_result"
        }
      ],
      "source": [
        "'''\n",
        "map => compute distance between each point and the centroids \n",
        "produce < key\n",
        "reduce => compute the new means\n",
        "\n",
        "'''"
      ]
    },
    {
      "cell_type": "code",
      "execution_count": null,
      "metadata": {
        "id": "CV5hcnZS51Ap"
      },
      "outputs": [],
      "source": [
        "centroids=[2, 4, 5, 4.5 , 0]\n"
      ]
    },
    {
      "cell_type": "code",
      "execution_count": null,
      "metadata": {
        "id": "xmhlSGWwGYH3"
      },
      "outputs": [],
      "source": [
        "map_result= ratings.map( lambda x:(compute_closest_centroid(x, centroids), x) )"
      ]
    },
    {
      "cell_type": "code",
      "execution_count": null,
      "metadata": {
        "colab": {
          "base_uri": "https://localhost:8080/"
        },
        "id": "m-OX7gfeG-2Z",
        "outputId": "22e1dd59-5a93-4045-b1f4-7775fe58ce1b"
      },
      "outputs": [
        {
          "name": "stdout",
          "output_type": "stream",
          "text": [
            "PythonRDD[15] at RDD at PythonRDD.scala:53\n"
          ]
        },
        {
          "data": {
            "text/plain": [
              "[(4, '0.0'),\n",
              " (3, '4.4'),\n",
              " (4, '0.0'),\n",
              " (2, '5.0'),\n",
              " (4, '0.0'),\n",
              " (4, '0.0'),\n",
              " (3, '4.5'),\n",
              " (0, '2.0'),\n",
              " (4, '0.0'),\n",
              " (3, '4.7')]"
            ]
          },
          "execution_count": 30,
          "metadata": {},
          "output_type": "execute_result"
        }
      ],
      "source": [
        "print(map_result) \n",
        "map_result.take(10)"
      ]
    },
    {
      "cell_type": "code",
      "execution_count": null,
      "metadata": {
        "id": "0-MfvbEDO_M1"
      },
      "outputs": [],
      "source": [
        "# using combine by key combine map result with key as index of centroid and value as average of all points in that centroid and number of points in that centroid\n",
        "reduce_result= map_result.combineByKey(lambda value: (value, 1),\n",
        "                                        lambda x, value: (float(x[0]) + value,float(x[1])  + 1),\n",
        "                                        lambda x, y: (float(x[0])  +float(y[0]) , float(x[1]) + (float(y[1]) )))\n",
        "\n"
      ]
    },
    {
      "cell_type": "code",
      "execution_count": null,
      "metadata": {
        "id": "bPKOf5hY9wv5"
      },
      "outputs": [],
      "source": [
        "\n",
        "#End Session\n",
        "spark.stop()"
      ]
    }
  ],
  "metadata": {
    "colab": {
      "provenance": []
    },
    "kernelspec": {
      "display_name": "Python 3",
      "name": "python3"
    },
    "language_info": {
      "name": "python"
    }
  },
  "nbformat": 4,
  "nbformat_minor": 0
}
