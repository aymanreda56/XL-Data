{
 "cells": [
  {
   "attachments": {},
   "cell_type": "markdown",
   "id": "touched-hampshire",
   "metadata": {},
   "source": [
    "### ML with PySpark\n",
    "+ Classify/Predict "
   ]
  },
  {
   "cell_type": "code",
   "execution_count": 1,
   "id": "sustained-richmond",
   "metadata": {},
   "outputs": [],
   "source": [
    "# Load our Pkgs\n",
    "from pyspark import SparkContext"
   ]
  },
  {
   "cell_type": "code",
   "execution_count": 2,
   "id": "continent-trash",
   "metadata": {},
   "outputs": [],
   "source": [
    "sc = SparkContext(master='local')"
   ]
  },
  {
   "cell_type": "code",
   "execution_count": 3,
   "id": "instant-geometry",
   "metadata": {},
   "outputs": [
    {
     "data": {
      "text/html": [
       "\n",
       "        <div>\n",
       "            <p><b>SparkContext</b></p>\n",
       "\n",
       "            <p><a href=\"http://LAPTOP-66BOPJMV:4040\">Spark UI</a></p>\n",
       "\n",
       "            <dl>\n",
       "              <dt>Version</dt>\n",
       "                <dd><code>v3.4.0</code></dd>\n",
       "              <dt>Master</dt>\n",
       "                <dd><code>local</code></dd>\n",
       "              <dt>AppName</dt>\n",
       "                <dd><code>pyspark-shell</code></dd>\n",
       "            </dl>\n",
       "        </div>\n",
       "        "
      ],
      "text/plain": [
       "<SparkContext master=local appName=pyspark-shell>"
      ]
     },
     "execution_count": 3,
     "metadata": {},
     "output_type": "execute_result"
    }
   ],
   "source": [
    "# Spark UI\n",
    "sc"
   ]
  },
  {
   "cell_type": "code",
   "execution_count": 4,
   "id": "running-playback",
   "metadata": {},
   "outputs": [],
   "source": [
    "# Load Pkgs \n",
    "from pyspark.sql import SparkSession\n",
    "from pyspark.sql.types import IntegerType,BooleanType,DateType\n",
    "from pyspark.sql.functions import col"
   ]
  },
  {
   "cell_type": "code",
   "execution_count": 5,
   "id": "pressed-england",
   "metadata": {},
   "outputs": [],
   "source": [
    "# Spark\n",
    "spark = SparkSession.builder.appName(\"MLwithSpark\").getOrCreate()"
   ]
  },
  {
   "cell_type": "markdown",
   "id": "welcome-relations",
   "metadata": {},
   "source": [
    "#### WorkFlow\n",
    "+ Data Prep\n",
    "+ Feature Engineering\n",
    "+ Build Model\n",
    "+ Evaluate"
   ]
  },
  {
   "cell_type": "markdown",
   "id": "historic-enterprise",
   "metadata": {},
   "source": [
    "# Task\n",
    "+ Predict if a patient is Hep or not based parameter\n",
    "+ The data set contains laboratory values of blood donors and Hepatitis C patients and demographic values like age.\n",
    "\n"
   ]
  },
  {
   "cell_type": "code",
   "execution_count": 6,
   "id": "handled-basketball",
   "metadata": {},
   "outputs": [],
   "source": [
    "# Load our dataset\n",
    "df = spark.read.csv(\"Google-Playstore.csv\",header=True,inferSchema=True)"
   ]
  },
  {
   "cell_type": "code",
   "execution_count": 7,
   "id": "happy-spanish",
   "metadata": {},
   "outputs": [
    {
     "name": "stdout",
     "output_type": "stream",
     "text": [
      "+----------------------------------+--------------------+-----------------+------+------------+--------+----------------+----------------+----+-----+--------+----+---------------+--------------------+--------------------+--------------------+------------+------------+--------------+--------------------+------------+----------------+--------------+-------------------+\n",
      "|                          App Name|              App Id|         Category|Rating|Rating Count|Installs|Minimum Installs|Maximum Installs|Free|Price|Currency|Size|Minimum Android|        Developer Id|   Developer Website|     Developer Email|    Released|Last Updated|Content Rating|      Privacy Policy|Ad Supported|In App Purchases|Editors Choice|       Scraped Time|\n",
      "+----------------------------------+--------------------+-----------------+------+------------+--------+----------------+----------------+----+-----+--------+----+---------------+--------------------+--------------------+--------------------+------------+------------+--------------+--------------------+------------+----------------+--------------+-------------------+\n",
      "|                           Gakondo| com.ishakwe.gakondo|        Adventure|   0.0|           0|     10+|              10|              15|True|    0|     USD| 10M|     7.1 and up|Jean Confident Ir...|https://beniyizib...|jean21101999@gmai...|Feb 26, 2020|Feb 26, 2020|      Everyone|https://beniyizib...|       False|           False|         False|2021-06-15 20:19:35|\n",
      "|               Ampere Battery Info|com.webserveis.ba...|            Tools|   4.4|          64|  5,000+|            5000|            7662|True|    0|     USD|2.9M|     5.0 and up|          Webserveis|https://webservei...|webserveis@gmail.com|May 21, 2020|May 06, 2021|      Everyone|https://dev4phone...|        True|           False|         False|2021-06-15 20:19:35|\n",
      "|                            Vibook|com.doantiepvien.crm|     Productivity|   0.0|           0|     50+|              50|              58|True|    0|     USD|3.7M|   4.0.3 and up|          Cabin Crew|                null| vnacrewit@gmail.com| Aug 9, 2019|Aug 19, 2019|      Everyone|https://www.vietn...|       False|           False|         False|2021-06-15 20:19:35|\n",
      "|              Smart City Trichy...|cst.stJoseph.ug17...|    Communication|   5.0|           5|     10+|              10|              19|True|    0|     USD|1.8M|   4.0.3 and up| Climate Smart Tech2|http://www.climat...|climatesmarttech2...|Sep 10, 2018|Oct 13, 2018|      Everyone|                null|        True|           False|         False|2021-06-15 20:19:35|\n",
      "|                           GROW.me|com.horodyski.grower|            Tools|   0.0|           0|    100+|             100|             478|True|    0|     USD|6.2M|     4.1 and up|Rafal Milek-Horod...|http://www.horody...|rmilekhorodyski@g...|Feb 21, 2020|Nov 12, 2018|      Everyone|http://www.horody...|       False|           False|         False|2021-06-15 20:19:35|\n",
      "|                            IMOCCI|          com.imocci|           Social|   0.0|           0|     50+|              50|              89|True|    0|     USD| 46M|     6.0 and up|         Imocci GmbH|http://www.imocci...|     info@imocci.com|Dec 24, 2018|Dec 20, 2019|          Teen|https://www.imocc...|       False|            True|         False|2021-06-15 20:19:35|\n",
      "|              unlimited 4G data...|getfreedata.super...| Libraries & Demo|   4.5|          12|  1,000+|            1000|            2567|True|    0|     USD|2.5M|     4.1 and up|android developer779|                null|aitomgharfatimezz...|Sep 23, 2019|Sep 27, 2019|      Everyone|https://sites.goo...|        True|           False|         False|2021-06-15 20:19:35|\n",
      "|              The Everyday Cale...|com.mozaix.simone...|        Lifestyle|   2.0|          39|    500+|             500|             702|True|    0|     USD| 16M|     5.0 and up|          Mozaix LLC|                null|elementuser03@gma...|Jun 21, 2019|Jun 21, 2019|      Everyone|https://www.freep...|       False|           False|         False|2021-06-15 20:19:35|\n",
      "|                         WhatsOpen|   com.whatsopen.app|    Communication|   0.0|           0|     10+|              10|              18|True|    0|     USD|1.3M|     4.4 and up|Yilver Molina Hur...|http://yilvermoli...|yilver.mh1996@gma...|        null|Dec 07, 2018|          Teen|http://elcafedela...|       False|           False|         False|2021-06-15 20:19:35|\n",
      "|              Neon 3d Iron Tech...|com.ikeyboard.the...|  Personalization|   4.7|         820| 50,000+|           50000|           62433|True|    0|     USD|3.5M|     4.1 and up|Free 2021 Themes ...|https://trendytem...|trendyteme.888@gm...|Sep 22, 2019|Oct 07, 2020|      Everyone|http://bit.ly/Emo...|        True|           False|         False|2021-06-15 20:19:35|\n",
      "|                   Dodge The Cars!|com.MrScratchEnte...|           Racing|   4.9|          55|    100+|             100|             329|True|    0|     USD| 51M|     4.4 and up|           MrScratch|                null|mithalaarush@gmai...|Jul 30, 2020|Jul 30, 2020|      Everyone|https://docs.goog...|       False|           False|         False|2021-06-15 20:19:35|\n",
      "|                           Parents|com.eqra.android....|Maps & Navigation|   0.0|           0|    100+|             100|             330|True|    0|     USD|2.7M|     4.0 and up|           Eqra Tech|http://www.hafizq...|hhiyassat@eqratec...|Jan 10, 2018|Jun 27, 2018|      Everyone|https://docs.goog...|       False|           False|         False|2021-06-15 20:19:36|\n",
      "|桃園機場捷運時刻表 - 捷運轉乘路...|com.jieapp.taoyua...|   Travel & Local|   3.9|         118| 10,000+|           10000|           37763|True|    0|     USD|7.6M|     4.2 and up|             Jie App|https://jie-app.h...| jie.myapp@gmail.com| Apr 3, 2018|Jun 11, 2021|      Everyone|http://appsetting...|        True|           False|         False|2021-06-15 20:19:36|\n",
      "|                      be.MOBILISED|com.hastobe.bemob...|Maps & Navigation|   0.0|           0|    100+|             100|             274|True|    0|     USD| 15M|     6.0 and up|      has.to.be gmbh|http://www.has-to...|support@has-to-be...| Feb 9, 2020|May 14, 2021|      Everyone|https://has-to-be...|       False|           False|         False|2021-06-15 20:19:36|\n",
      "|                 Caliway Conductor|com.caliwayconduc...|   Travel & Local|   3.7|        1572| 10,000+|           10000|           42856|True|    0|     USD| 29M|     4.2 and up|             WayCali|https://www.faceb...|waycalicol@gmail.com| Sep 5, 2018|May 30, 2020|      Everyone|https://www.faceb...|       False|           False|         False|2021-06-15 20:19:36|\n",
      "|              Readymade Grocery...|com.ionicfirebase...|     Food & Drink|   4.2|          16|  1,000+|            1000|            4313|True|    0|     USD| 12M|     4.4 and up|     pietechsolution|https://www.ionic...|info@ionicfirebas...| Apr 5, 2020|Mar 23, 2021|      Everyone|https://www.ionic...|       False|           False|         False|2021-06-15 20:19:36|\n",
      "|              OTENTIK Discovery FR|com.camineo.otent...|   Travel & Local|   3.4|           5|    500+|             500|             949|True|    0|     USD|2.9M|     4.4 and up|     Hotels Attitude|http://www.hotels...|info@hotels-attit...|Nov 28, 2016|Oct 30, 2019|      Everyone|http://camineo.co...|       False|           False|         False|2021-06-15 20:19:36|\n",
      "|              All in one shoppi...|com.tkapplication...|            Tools|   5.0|           6|     50+|              50|              62|True|    0|     USD|2.0M|     4.1 and up|     TK Applications|                null|tkapplications001...|Apr 24, 2019|May 05, 2019|      Everyone|                null|       False|           False|         False|2021-06-15 20:19:36|\n",
      "|                    REDMOND  Robot|    com.grit.redmond|        Lifestyle|   3.7|         328| 10,000+|           10000|           31235|True|    0|     USD| 70M|     4.1 and up|     Grit Technology|                null|info@redmond.company| Jul 1, 2020|May 26, 2021|      Everyone|https://redmond.c...|       False|           False|         False|2021-06-15 20:19:36|\n",
      "|              Contemporary Love...|com.felingdev.low...|Books & Reference|   0.0|           0|      1+|               1|               2|True|    0|     XXX| 11M|     4.2 and up|    Human Droid Apps|                null|farukabdillah4@gm...|Dec 26, 2020|Mar 23, 2021|    Mature 17+|https://docs.goog...|        True|           False|         False|2021-06-15 20:19:36|\n",
      "+----------------------------------+--------------------+-----------------+------+------------+--------+----------------+----------------+----+-----+--------+----+---------------+--------------------+--------------------+--------------------+------------+------------+--------------+--------------------+------------+----------------+--------------+-------------------+\n",
      "only showing top 20 rows\n",
      "\n"
     ]
    }
   ],
   "source": [
    "# Preview Dataset\n",
    "df.show()"
   ]
  },
  {
   "cell_type": "code",
   "execution_count": 8,
   "id": "younger-ranch",
   "metadata": {},
   "outputs": [
    {
     "name": "stdout",
     "output_type": "stream",
     "text": [
      "['App Name', 'App Id', 'Category', 'Rating', 'Rating Count', 'Installs', 'Minimum Installs', 'Maximum Installs', 'Free', 'Price', 'Currency', 'Size', 'Minimum Android', 'Developer Id', 'Developer Website', 'Developer Email', 'Released', 'Last Updated', 'Content Rating', 'Privacy Policy', 'Ad Supported', 'In App Purchases', 'Editors Choice', 'Scraped Time']\n"
     ]
    }
   ],
   "source": [
    "# check for columns\n",
    "print(df.columns)"
   ]
  },
  {
   "cell_type": "code",
   "execution_count": 9,
   "id": "friendly-stockholm",
   "metadata": {},
   "outputs": [
    {
     "name": "stdout",
     "output_type": "stream",
     "text": [
      "+--------------------+--------------------+-------------+------+------------+--------+----------------+----------------+----+-----+--------+----+---------------+--------------------+--------------------+--------------------+------------+------------+--------------+--------------------+------------+----------------+--------------+-------------------+\n",
      "|              App Id|            App Name|     Category|Rating|Rating Count|Installs|Minimum Installs|Maximum Installs|Free|Price|Currency|Size|Minimum Android|        Developer Id|   Developer Website|     Developer Email|    Released|Last Updated|Content Rating|      Privacy Policy|Ad Supported|In App Purchases|Editors Choice|       Scraped Time|\n",
      "+--------------------+--------------------+-------------+------+------------+--------+----------------+----------------+----+-----+--------+----+---------------+--------------------+--------------------+--------------------+------------+------------+--------------+--------------------+------------+----------------+--------------+-------------------+\n",
      "| com.ishakwe.gakondo|             Gakondo|    Adventure|   0.0|           0|     10+|              10|              15|True|    0|     USD| 10M|     7.1 and up|Jean Confident Ir...|https://beniyizib...|jean21101999@gmai...|Feb 26, 2020|Feb 26, 2020|      Everyone|https://beniyizib...|       False|           False|         False|2021-06-15 20:19:35|\n",
      "|com.webserveis.ba...| Ampere Battery Info|        Tools|   4.4|          64|  5,000+|            5000|            7662|True|    0|     USD|2.9M|     5.0 and up|          Webserveis|https://webservei...|webserveis@gmail.com|May 21, 2020|May 06, 2021|      Everyone|https://dev4phone...|        True|           False|         False|2021-06-15 20:19:35|\n",
      "|com.doantiepvien.crm|              Vibook| Productivity|   0.0|           0|     50+|              50|              58|True|    0|     USD|3.7M|   4.0.3 and up|          Cabin Crew|                null| vnacrewit@gmail.com| Aug 9, 2019|Aug 19, 2019|      Everyone|https://www.vietn...|       False|           False|         False|2021-06-15 20:19:35|\n",
      "|cst.stJoseph.ug17...|Smart City Trichy...|Communication|   5.0|           5|     10+|              10|              19|True|    0|     USD|1.8M|   4.0.3 and up| Climate Smart Tech2|http://www.climat...|climatesmarttech2...|Sep 10, 2018|Oct 13, 2018|      Everyone|                null|        True|           False|         False|2021-06-15 20:19:35|\n",
      "|com.horodyski.grower|             GROW.me|        Tools|   0.0|           0|    100+|             100|             478|True|    0|     USD|6.2M|     4.1 and up|Rafal Milek-Horod...|http://www.horody...|rmilekhorodyski@g...|Feb 21, 2020|Nov 12, 2018|      Everyone|http://www.horody...|       False|           False|         False|2021-06-15 20:19:35|\n",
      "+--------------------+--------------------+-------------+------+------------+--------+----------------+----------------+----+-----+--------+----+---------------+--------------------+--------------------+--------------------+------------+------------+--------------+--------------------+------------+----------------+--------------+-------------------+\n",
      "only showing top 5 rows\n",
      "\n"
     ]
    }
   ],
   "source": [
    "# Rearrange\n",
    "df = df.select('App Id', 'App Name', 'Category', 'Rating', 'Rating Count', 'Installs', 'Minimum Installs', 'Maximum Installs', 'Free', 'Price', 'Currency', 'Size', 'Minimum Android', 'Developer Id', 'Developer Website', 'Developer Email', 'Released', 'Last Updated', 'Content Rating', 'Privacy Policy', 'Ad Supported', 'In App Purchases', 'Editors Choice', 'Scraped Time')\n",
    "df.show(5)"
   ]
  },
  {
   "cell_type": "code",
   "execution_count": 10,
   "id": "israeli-straight",
   "metadata": {},
   "outputs": [
    {
     "name": "stdout",
     "output_type": "stream",
     "text": [
      "root\n",
      " |-- App Id: string (nullable = true)\n",
      " |-- App Name: string (nullable = true)\n",
      " |-- Category: string (nullable = true)\n",
      " |-- Rating: string (nullable = true)\n",
      " |-- Rating Count: string (nullable = true)\n",
      " |-- Installs: string (nullable = true)\n",
      " |-- Minimum Installs: string (nullable = true)\n",
      " |-- Maximum Installs: string (nullable = true)\n",
      " |-- Free: string (nullable = true)\n",
      " |-- Price: string (nullable = true)\n",
      " |-- Currency: string (nullable = true)\n",
      " |-- Size: string (nullable = true)\n",
      " |-- Minimum Android: string (nullable = true)\n",
      " |-- Developer Id: string (nullable = true)\n",
      " |-- Developer Website: string (nullable = true)\n",
      " |-- Developer Email: string (nullable = true)\n",
      " |-- Released: string (nullable = true)\n",
      " |-- Last Updated: string (nullable = true)\n",
      " |-- Content Rating: string (nullable = true)\n",
      " |-- Privacy Policy: string (nullable = true)\n",
      " |-- Ad Supported: string (nullable = true)\n",
      " |-- In App Purchases: string (nullable = true)\n",
      " |-- Editors Choice: string (nullable = true)\n",
      " |-- Scraped Time: string (nullable = true)\n",
      "\n"
     ]
    }
   ],
   "source": [
    "# Check for the Schema\n",
    "df.printSchema()\n",
    "\n",
    "\n",
    "#cast some columns to numeric values not strings\n",
    "df = df.withColumn(\"Rating\",df['Rating'].cast('float'))\n",
    "df = df.withColumn(\"Rating Count\",df['Rating Count'].cast('int'))\n",
    "df = df.withColumn(\"Minimum Installs\",df['Minimum Installs'].cast('int'))\n",
    "df = df.withColumn(\"Maximum Installs\",df['Maximum Installs'].cast('int'))\n",
    "df = df.withColumn(\"Price\",df['Price'].cast('float'))\n",
    "\n",
    "\n",
    "df = df.na.drop(how='any', subset=['Rating', 'Rating Count', 'Minimum Installs', 'Maximum Installs', 'Free', 'Price', 'Content Rating', 'Category'])\n",
    "\n"
   ]
  },
  {
   "cell_type": "code",
   "execution_count": 11,
   "id": "aef65cd8",
   "metadata": {},
   "outputs": [
    {
     "name": "stdout",
     "output_type": "stream",
     "text": [
      "root\n",
      " |-- App Id: string (nullable = true)\n",
      " |-- App Name: string (nullable = true)\n",
      " |-- Category: string (nullable = true)\n",
      " |-- Rating: float (nullable = true)\n",
      " |-- Rating Count: integer (nullable = true)\n",
      " |-- Installs: string (nullable = true)\n",
      " |-- Minimum Installs: integer (nullable = true)\n",
      " |-- Maximum Installs: integer (nullable = true)\n",
      " |-- Free: string (nullable = true)\n",
      " |-- Price: float (nullable = true)\n",
      " |-- Currency: string (nullable = true)\n",
      " |-- Size: string (nullable = true)\n",
      " |-- Minimum Android: string (nullable = true)\n",
      " |-- Developer Id: string (nullable = true)\n",
      " |-- Developer Website: string (nullable = true)\n",
      " |-- Developer Email: string (nullable = true)\n",
      " |-- Released: string (nullable = true)\n",
      " |-- Last Updated: string (nullable = true)\n",
      " |-- Content Rating: string (nullable = true)\n",
      " |-- Privacy Policy: string (nullable = true)\n",
      " |-- Ad Supported: string (nullable = true)\n",
      " |-- In App Purchases: string (nullable = true)\n",
      " |-- Editors Choice: string (nullable = true)\n",
      " |-- Scraped Time: string (nullable = true)\n",
      "\n"
     ]
    }
   ],
   "source": [
    "\n",
    "df.printSchema()\n",
    "\n"
   ]
  },
  {
   "cell_type": "code",
   "execution_count": 12,
   "id": "brazilian-friend",
   "metadata": {},
   "outputs": [
    {
     "name": "stdout",
     "output_type": "stream",
     "text": [
      "+-------+--------------------+--------------------+--------+------------------+------------------+------------+------------------+------------------+-------+-------------------+--------+------------------+------------------+--------------------+-----------------+--------------------+---------------+------------+---------------+-----------------------+--------------------+----------------+--------------+-------------------+\n",
      "|summary|              App Id|            App Name|Category|            Rating|      Rating Count|    Installs|  Minimum Installs|  Maximum Installs|   Free|              Price|Currency|              Size|   Minimum Android|        Developer Id|Developer Website|     Developer Email|       Released|Last Updated| Content Rating|         Privacy Policy|        Ad Supported|In App Purchases|Editors Choice|       Scraped Time|\n",
      "+-------+--------------------+--------------------+--------+------------------+------------------+------------+------------------+------------------+-------+-------------------+--------+------------------+------------------+--------------------+-----------------+--------------------+---------------+------------+---------------+-----------------------+--------------------+----------------+--------------+-------------------+\n",
      "|  count|             2290004|             2290004| 2290004|           2290004|           2290004|     2290004|           2290004|           2290004|2290004|            2290004| 2289984|           2290004|           2283478|             2289972|          1538656|             2289972|        2241629|     2290004|        2290004|                1875813|             2290003|         2290004|       2290004|            2290004|\n",
      "|   mean|                null|            Infinity|    null|2.2031209989311002|2530.9059783301686|        null|144936.18451103143|253868.24906419378|   null|0.10437895204494751|    null|              null|6.0307692307692315|            Infinity|             null|                null|           null|        null|           null|                   null|                null|            null|          null|               null|\n",
      "| stddev|                null|                 NaN|    null|2.1062223623883054|118675.28275122505|        null| 5431875.098525465|  8604368.14695515|   null|  2.645967516719845|    null|              null|1.8539977595206776|                 NaN|             null|                null|           null|        null|           null|                   null|                null|            null|          null|               null|\n",
      "|    min|      Age.checker.jp|                   !|  Action|               0.0|                 0|          0+|                 0|                 0|  False|                0.0|     AUD|            1,000k|         1.0 - 6.0|        \\bTranAnhDuc|             LLC\"|\\tdoquochentasy@g...|    Apr 1, 2010|Apr 01, 2011|Adults only 18+|               Everyone|               False|           False|         False|2021-06-15 20:19:35|\n",
      "|    max|zzzee.erialsee.ho...|󠁧󠁢󠁥󠁮󠁧󠁿Radio...|    Word|               5.0|          89177097|500,000,000+|        1000000000|        2123105347|   True|              400.0|     ZAR|Varies with device|Varies with device|🧙🏼Lucrezia - MM...| https://인플.com|zzzznunozzzz@gmai...|web@skysent.com| Sep 5, 2018|        Unrated|https://외식잡.com/r...|https://меркурий....|            True|          True|              False|\n",
      "+-------+--------------------+--------------------+--------+------------------+------------------+------------+------------------+------------------+-------+-------------------+--------+------------------+------------------+--------------------+-----------------+--------------------+---------------+------------+---------------+-----------------------+--------------------+----------------+--------------+-------------------+\n",
      "\n"
     ]
    }
   ],
   "source": [
    "# Descriptive summary\n",
    "df.describe().show()"
   ]
  },
  {
   "cell_type": "code",
   "execution_count": 13,
   "id": "fuzzy-screening",
   "metadata": {},
   "outputs": [
    {
     "name": "stdout",
     "output_type": "stream",
     "text": [
      "+----------------+------+\n",
      "|        Category| count|\n",
      "+----------------+------+\n",
      "|   Music & Audio|154588|\n",
      "|       Education|239782|\n",
      "|          Trivia| 11689|\n",
      "| Auto & Vehicles| 17951|\n",
      "|   Entertainment|137572|\n",
      "|       Adventure| 22787|\n",
      "|          Arcade| 52707|\n",
      "|          Sports| 47052|\n",
      "|  Travel & Local| 66666|\n",
      "|    Food & Drink| 73443|\n",
      "|    Role Playing|  9657|\n",
      "|         Finance| 64729|\n",
      "| Personalization| 89011|\n",
      "|          Racing| 10177|\n",
      "|           Tools|141965|\n",
      "|     Educational| 21058|\n",
      "|          Comics|  2821|\n",
      "|          Social| 44040|\n",
      "|Libraries & Demo|  5068|\n",
      "|        Shopping| 74750|\n",
      "+----------------+------+\n",
      "only showing top 20 rows\n",
      "\n",
      "+----------------+------------------+\n",
      "|        Category|       avg(Rating)|\n",
      "+----------------+------------------+\n",
      "|   Music & Audio| 2.226824850719996|\n",
      "|       Education|2.2468225311926124|\n",
      "|          Trivia|2.5261784584102687|\n",
      "| Auto & Vehicles| 2.049612834137347|\n",
      "|   Entertainment|2.4353916492931953|\n",
      "|       Adventure| 2.814991004868682|\n",
      "|          Arcade|2.4504809646643357|\n",
      "|          Sports|2.3155445043837792|\n",
      "|  Travel & Local|1.9211682117611533|\n",
      "|    Food & Drink|1.2945808316654184|\n",
      "|    Role Playing|3.3844982885828023|\n",
      "|         Finance|2.4030697207277085|\n",
      "| Personalization|2.7587399288573846|\n",
      "|          Racing| 2.960233858728779|\n",
      "|           Tools| 2.346017679330794|\n",
      "|     Educational|2.4376389013191315|\n",
      "|          Comics|2.8649060628127647|\n",
      "|          Social|2.3988555869008064|\n",
      "|Libraries & Demo|2.0871152354444025|\n",
      "|        Shopping| 1.836949834424915|\n",
      "+----------------+------------------+\n",
      "only showing top 20 rows\n",
      "\n"
     ]
    }
   ],
   "source": [
    "#count of apps for each category\n",
    "df.groupBy('Category').count().show()\n",
    "\n",
    "#mean rating for each category\n",
    "df.groupBy('Category').mean('Rating').show()"
   ]
  },
  {
   "attachments": {},
   "cell_type": "markdown",
   "id": "3f0063ca",
   "metadata": {},
   "source": [
    "#### Feature Engineering\n",
    "+ Numberical Values\n",
    "+ Vectorization\n",
    "+ Scaling"
   ]
  },
  {
   "cell_type": "code",
   "execution_count": 12,
   "id": "tribal-stage",
   "metadata": {},
   "outputs": [
    {
     "name": "stdout",
     "output_type": "stream",
     "text": [
      "+--------------------+--------------------+-------------+------+------------+--------+----------------+----------------+----+-----+--------+----+---------------+--------------------+--------------------+--------------------+------------+------------+--------------+--------------------+------------+----------------+--------------+-------------------+\n",
      "|              App Id|            App Name|     Category|Rating|Rating Count|Installs|Minimum Installs|Maximum Installs|Free|Price|Currency|Size|Minimum Android|        Developer Id|   Developer Website|     Developer Email|    Released|Last Updated|Content Rating|      Privacy Policy|Ad Supported|In App Purchases|Editors Choice|       Scraped Time|\n",
      "+--------------------+--------------------+-------------+------+------------+--------+----------------+----------------+----+-----+--------+----+---------------+--------------------+--------------------+--------------------+------------+------------+--------------+--------------------+------------+----------------+--------------+-------------------+\n",
      "| com.ishakwe.gakondo|             Gakondo|    Adventure|   0.0|           0|     10+|              10|              15|True|  0.0|     USD| 10M|     7.1 and up|Jean Confident Ir...|https://beniyizib...|jean21101999@gmai...|Feb 26, 2020|Feb 26, 2020|      Everyone|https://beniyizib...|       False|           False|         False|2021-06-15 20:19:35|\n",
      "|com.webserveis.ba...| Ampere Battery Info|        Tools|   4.4|          64|  5,000+|            5000|            7662|True|  0.0|     USD|2.9M|     5.0 and up|          Webserveis|https://webservei...|webserveis@gmail.com|May 21, 2020|May 06, 2021|      Everyone|https://dev4phone...|        True|           False|         False|2021-06-15 20:19:35|\n",
      "|com.doantiepvien.crm|              Vibook| Productivity|   0.0|           0|     50+|              50|              58|True|  0.0|     USD|3.7M|   4.0.3 and up|          Cabin Crew|                null| vnacrewit@gmail.com| Aug 9, 2019|Aug 19, 2019|      Everyone|https://www.vietn...|       False|           False|         False|2021-06-15 20:19:35|\n",
      "|cst.stJoseph.ug17...|Smart City Trichy...|Communication|   5.0|           5|     10+|              10|              19|True|  0.0|     USD|1.8M|   4.0.3 and up| Climate Smart Tech2|http://www.climat...|climatesmarttech2...|Sep 10, 2018|Oct 13, 2018|      Everyone|                null|        True|           False|         False|2021-06-15 20:19:35|\n",
      "|com.horodyski.grower|             GROW.me|        Tools|   0.0|           0|    100+|             100|             478|True|  0.0|     USD|6.2M|     4.1 and up|Rafal Milek-Horod...|http://www.horody...|rmilekhorodyski@g...|Feb 21, 2020|Nov 12, 2018|      Everyone|http://www.horody...|       False|           False|         False|2021-06-15 20:19:35|\n",
      "+--------------------+--------------------+-------------+------+------------+--------+----------------+----------------+----+-----+--------+----+---------------+--------------------+--------------------+--------------------+------------+------------+--------------+--------------------+------------+----------------+--------------+-------------------+\n",
      "only showing top 5 rows\n",
      "\n"
     ]
    }
   ],
   "source": [
    "df.show(5)"
   ]
  },
  {
   "cell_type": "code",
   "execution_count": 13,
   "id": "straight-certificate",
   "metadata": {},
   "outputs": [
    {
     "data": {
      "text/plain": [
       "['Estimator',\n",
       " 'Model',\n",
       " 'Pipeline',\n",
       " 'PipelineModel',\n",
       " 'PredictionModel',\n",
       " 'Predictor',\n",
       " 'TorchDistributor',\n",
       " 'Transformer',\n",
       " 'UnaryTransformer',\n",
       " '__all__',\n",
       " '__builtins__',\n",
       " '__cached__',\n",
       " '__doc__',\n",
       " '__file__',\n",
       " '__loader__',\n",
       " '__name__',\n",
       " '__package__',\n",
       " '__path__',\n",
       " '__spec__',\n",
       " 'base',\n",
       " 'classification',\n",
       " 'clustering',\n",
       " 'common',\n",
       " 'evaluation',\n",
       " 'feature',\n",
       " 'fpm',\n",
       " 'image',\n",
       " 'linalg',\n",
       " 'param',\n",
       " 'pipeline',\n",
       " 'recommendation',\n",
       " 'regression',\n",
       " 'stat',\n",
       " 'torch',\n",
       " 'tree',\n",
       " 'tuning',\n",
       " 'util',\n",
       " 'wrapper']"
      ]
     },
     "execution_count": 13,
     "metadata": {},
     "output_type": "execute_result"
    }
   ],
   "source": [
    "import pyspark.ml\n",
    "dir(pyspark.ml)"
   ]
  },
  {
   "cell_type": "code",
   "execution_count": 14,
   "id": "dedicated-compression",
   "metadata": {},
   "outputs": [],
   "source": [
    "# Load ML Pkgs\n",
    "from pyspark.ml.feature import VectorAssembler,StringIndexer"
   ]
  },
  {
   "cell_type": "code",
   "execution_count": 17,
   "id": "substantial-atlantic",
   "metadata": {},
   "outputs": [
    {
     "name": "stdout",
     "output_type": "stream",
     "text": [
      "+----------------+\n",
      "|        Category|\n",
      "+----------------+\n",
      "|   Music & Audio|\n",
      "|       Education|\n",
      "|          Trivia|\n",
      "| Auto & Vehicles|\n",
      "|   Entertainment|\n",
      "|       Adventure|\n",
      "|          Arcade|\n",
      "|          Sports|\n",
      "|  Travel & Local|\n",
      "|    Food & Drink|\n",
      "|    Role Playing|\n",
      "|         Finance|\n",
      "| Personalization|\n",
      "|          Racing|\n",
      "|           Tools|\n",
      "|     Educational|\n",
      "|          Comics|\n",
      "|          Social|\n",
      "|Libraries & Demo|\n",
      "|        Shopping|\n",
      "+----------------+\n",
      "only showing top 20 rows\n",
      "\n"
     ]
    }
   ],
   "source": [
    "# Unique Values for Category\n",
    "df.select('Category').distinct().show()"
   ]
  },
  {
   "cell_type": "code",
   "execution_count": 15,
   "id": "enormous-mambo",
   "metadata": {},
   "outputs": [
    {
     "name": "stdout",
     "output_type": "stream",
     "text": [
      "+--------------------+--------------------+-------------+------+------------+--------+----------------+----------------+----+-----+--------+----+---------------+--------------------+--------------------+--------------------+------------+------------+--------------+--------------------+------------+----------------+--------------+-------------------+------------+--------+------------------+----------------+--------------------+------------------+\n",
      "|              App Id|            App Name|     Category|Rating|Rating Count|Installs|Minimum Installs|Maximum Installs|Free|Price|Currency|Size|Minimum Android|        Developer Id|   Developer Website|     Developer Email|    Released|Last Updated|Content Rating|      Privacy Policy|Ad Supported|In App Purchases|Editors Choice|       Scraped Time|Category_enc|Free_enc|Content Rating_enc|Ad Supported_enc|In App Purchases_enc|Editors Choice_enc|\n",
      "+--------------------+--------------------+-------------+------+------------+--------+----------------+----------------+----+-----+--------+----+---------------+--------------------+--------------------+--------------------+------------+------------+--------------+--------------------+------------+----------------+--------------+-------------------+------------+--------+------------------+----------------+--------------------+------------------+\n",
      "| com.ishakwe.gakondo|             Gakondo|    Adventure|   0.0|           0|     10+|              10|              15|True|  0.0|     USD| 10M|     7.1 and up|Jean Confident Ir...|https://beniyizib...|jean21101999@gmai...|Feb 26, 2020|Feb 26, 2020|      Everyone|https://beniyizib...|       False|           False|         False|2021-06-15 20:19:35|        25.0|     0.0|               0.0|             0.0|                 0.0|               0.0|\n",
      "|com.webserveis.ba...| Ampere Battery Info|        Tools|   4.4|          64|  5,000+|            5000|            7662|True|  0.0|     USD|2.9M|     5.0 and up|          Webserveis|https://webservei...|webserveis@gmail.com|May 21, 2020|May 06, 2021|      Everyone|https://dev4phone...|        True|           False|         False|2021-06-15 20:19:35|         3.0|     0.0|               0.0|             1.0|                 0.0|               0.0|\n",
      "|com.doantiepvien.crm|              Vibook| Productivity|   0.0|           0|     50+|              50|              58|True|  0.0|     USD|3.7M|   4.0.3 and up|          Cabin Crew|                null| vnacrewit@gmail.com| Aug 9, 2019|Aug 19, 2019|      Everyone|https://www.vietn...|       False|           False|         False|2021-06-15 20:19:35|         9.0|     0.0|               0.0|             0.0|                 0.0|               0.0|\n",
      "|cst.stJoseph.ug17...|Smart City Trichy...|Communication|   5.0|           5|     10+|              10|              19|True|  0.0|     USD|1.8M|   4.0.3 and up| Climate Smart Tech2|http://www.climat...|climatesmarttech2...|Sep 10, 2018|Oct 13, 2018|      Everyone|                null|        True|           False|         False|2021-06-15 20:19:35|        17.0|     0.0|               0.0|             1.0|                 0.0|               0.0|\n",
      "|com.horodyski.grower|             GROW.me|        Tools|   0.0|           0|    100+|             100|             478|True|  0.0|     USD|6.2M|     4.1 and up|Rafal Milek-Horod...|http://www.horody...|rmilekhorodyski@g...|Feb 21, 2020|Nov 12, 2018|      Everyone|http://www.horody...|       False|           False|         False|2021-06-15 20:19:35|         3.0|     0.0|               0.0|             0.0|                 0.0|               0.0|\n",
      "+--------------------+--------------------+-------------+------+------------+--------+----------------+----------------+----+-----+--------+----+---------------+--------------------+--------------------+--------------------+------------+------------+--------------+--------------------+------------+----------------+--------------+-------------------+------------+--------+------------------+----------------+--------------------+------------------+\n",
      "only showing top 5 rows\n",
      "\n"
     ]
    }
   ],
   "source": [
    "# Convert the string into numerical code\n",
    "# label encoding\n",
    "categoryEncoder = StringIndexer(inputCol='Category',outputCol='Category_enc', handleInvalid='skip').fit(df)\n",
    "df = categoryEncoder.transform(df)\n",
    "\n",
    "categoryEncoder = StringIndexer(inputCol='Free',outputCol='Free_enc', handleInvalid='skip').fit(df)\n",
    "df = categoryEncoder.transform(df)\n",
    "\n",
    "categoryEncoder = StringIndexer(inputCol='Content Rating',outputCol='Content Rating_enc',  handleInvalid='skip').fit(df)\n",
    "df = categoryEncoder.transform(df)\n",
    "\n",
    "categoryEncoder = StringIndexer(inputCol='Ad Supported',outputCol='Ad Supported_enc', handleInvalid='skip').fit(df)\n",
    "df = categoryEncoder.transform(df)\n",
    "\n",
    "categoryEncoder = StringIndexer(inputCol='In App Purchases',outputCol='In App Purchases_enc', handleInvalid='skip').fit(df)\n",
    "df = categoryEncoder.transform(df)\n",
    "\n",
    "categoryEncoder = StringIndexer(inputCol='Editors Choice',outputCol='Editors Choice_enc', handleInvalid='skip').fit(df)\n",
    "df = categoryEncoder.transform(df)\n",
    "\n",
    "df.na.fill(value=0.0)\n",
    "\n",
    "\n",
    "df.show(5)"
   ]
  },
  {
   "cell_type": "code",
   "execution_count": 16,
   "id": "clear-huntington",
   "metadata": {},
   "outputs": [
    {
     "name": "stdout",
     "output_type": "stream",
     "text": [
      "+--------------------+----------------------------------+-----------------+------+------------+--------+----------------+----------------+----+-----+--------+----+---------------+--------------------+--------------------+--------------------+------------+------------+--------------+--------------------+------------+----------------+--------------+-------------------+------------+--------+------------------+----------------+--------------------+------------------+-----------------+\n",
      "|              App Id|                          App Name|         Category|Rating|Rating Count|Installs|Minimum Installs|Maximum Installs|Free|Price|Currency|Size|Minimum Android|        Developer Id|   Developer Website|     Developer Email|    Released|Last Updated|Content Rating|      Privacy Policy|Ad Supported|In App Purchases|Editors Choice|       Scraped Time|Category_enc|Free_enc|Content Rating_enc|Ad Supported_enc|In App Purchases_enc|Editors Choice_enc|    orig_category|\n",
      "+--------------------+----------------------------------+-----------------+------+------------+--------+----------------+----------------+----+-----+--------+----+---------------+--------------------+--------------------+--------------------+------------+------------+--------------+--------------------+------------+----------------+--------------+-------------------+------------+--------+------------------+----------------+--------------------+------------------+-----------------+\n",
      "| com.ishakwe.gakondo|                           Gakondo|        Adventure|   0.0|           0|     10+|              10|              15|True|  0.0|     USD| 10M|     7.1 and up|Jean Confident Ir...|https://beniyizib...|jean21101999@gmai...|Feb 26, 2020|Feb 26, 2020|      Everyone|https://beniyizib...|       False|           False|         False|2021-06-15 20:19:35|        25.0|     0.0|               0.0|             0.0|                 0.0|               0.0|        Adventure|\n",
      "|com.webserveis.ba...|               Ampere Battery Info|            Tools|   4.4|          64|  5,000+|            5000|            7662|True|  0.0|     USD|2.9M|     5.0 and up|          Webserveis|https://webservei...|webserveis@gmail.com|May 21, 2020|May 06, 2021|      Everyone|https://dev4phone...|        True|           False|         False|2021-06-15 20:19:35|         3.0|     0.0|               0.0|             1.0|                 0.0|               0.0|            Tools|\n",
      "|com.doantiepvien.crm|                            Vibook|     Productivity|   0.0|           0|     50+|              50|              58|True|  0.0|     USD|3.7M|   4.0.3 and up|          Cabin Crew|                null| vnacrewit@gmail.com| Aug 9, 2019|Aug 19, 2019|      Everyone|https://www.vietn...|       False|           False|         False|2021-06-15 20:19:35|         9.0|     0.0|               0.0|             0.0|                 0.0|               0.0|     Productivity|\n",
      "|cst.stJoseph.ug17...|              Smart City Trichy...|    Communication|   5.0|           5|     10+|              10|              19|True|  0.0|     USD|1.8M|   4.0.3 and up| Climate Smart Tech2|http://www.climat...|climatesmarttech2...|Sep 10, 2018|Oct 13, 2018|      Everyone|                null|        True|           False|         False|2021-06-15 20:19:35|        17.0|     0.0|               0.0|             1.0|                 0.0|               0.0|    Communication|\n",
      "|com.horodyski.grower|                           GROW.me|            Tools|   0.0|           0|    100+|             100|             478|True|  0.0|     USD|6.2M|     4.1 and up|Rafal Milek-Horod...|http://www.horody...|rmilekhorodyski@g...|Feb 21, 2020|Nov 12, 2018|      Everyone|http://www.horody...|       False|           False|         False|2021-06-15 20:19:35|         3.0|     0.0|               0.0|             0.0|                 0.0|               0.0|            Tools|\n",
      "|          com.imocci|                            IMOCCI|           Social|   0.0|           0|     50+|              50|              89|True|  0.0|     USD| 46M|     6.0 and up|         Imocci GmbH|http://www.imocci...|     info@imocci.com|Dec 24, 2018|Dec 20, 2019|          Teen|https://www.imocc...|       False|            True|         False|2021-06-15 20:19:35|        19.0|     0.0|               1.0|             0.0|                 1.0|               0.0|           Social|\n",
      "|getfreedata.super...|              unlimited 4G data...| Libraries & Demo|   4.5|          12|  1,000+|            1000|            2567|True|  0.0|     USD|2.5M|     4.1 and up|android developer779|                null|aitomgharfatimezz...|Sep 23, 2019|Sep 27, 2019|      Everyone|https://sites.goo...|        True|           False|         False|2021-06-15 20:19:35|        43.0|     0.0|               0.0|             1.0|                 0.0|               0.0| Libraries & Demo|\n",
      "|com.mozaix.simone...|              The Everyday Cale...|        Lifestyle|   2.0|          39|    500+|             500|             702|True|  0.0|     USD| 16M|     5.0 and up|          Mozaix LLC|                null|elementuser03@gma...|Jun 21, 2019|Jun 21, 2019|      Everyone|https://www.freep...|       False|           False|         False|2021-06-15 20:19:35|         5.0|     0.0|               0.0|             0.0|                 0.0|               0.0|        Lifestyle|\n",
      "|   com.whatsopen.app|                         WhatsOpen|    Communication|   0.0|           0|     10+|              10|              18|True|  0.0|     USD|1.3M|     4.4 and up|Yilver Molina Hur...|http://yilvermoli...|yilver.mh1996@gma...|        null|Dec 07, 2018|          Teen|http://elcafedela...|       False|           False|         False|2021-06-15 20:19:35|        17.0|     0.0|               1.0|             0.0|                 0.0|               0.0|    Communication|\n",
      "|com.ikeyboard.the...|              Neon 3d Iron Tech...|  Personalization|   4.7|         820| 50,000+|           50000|           62433|True|  0.0|     USD|3.5M|     4.1 and up|Free 2021 Themes ...|https://trendytem...|trendyteme.888@gm...|Sep 22, 2019|Oct 07, 2020|      Everyone|http://bit.ly/Emo...|        True|           False|         False|2021-06-15 20:19:35|         7.0|     0.0|               0.0|             1.0|                 0.0|               0.0|  Personalization|\n",
      "|com.MrScratchEnte...|                   Dodge The Cars!|           Racing|   4.9|          55|    100+|             100|             329|True|  0.0|     USD| 51M|     4.4 and up|           MrScratch|                null|mithalaarush@gmai...|Jul 30, 2020|Jul 30, 2020|      Everyone|https://docs.goog...|       False|           False|         False|2021-06-15 20:19:35|        36.0|     0.0|               0.0|             0.0|                 0.0|               0.0|           Racing|\n",
      "|com.eqra.android....|                           Parents|Maps & Navigation|   0.0|           0|    100+|             100|             330|True|  0.0|     USD|2.7M|     4.0 and up|           Eqra Tech|http://www.hafizq...|hhiyassat@eqratec...|Jan 10, 2018|Jun 27, 2018|      Everyone|https://docs.goog...|       False|           False|         False|2021-06-15 20:19:36|        24.0|     0.0|               0.0|             0.0|                 0.0|               0.0|Maps & Navigation|\n",
      "|com.jieapp.taoyua...|桃園機場捷運時刻表 - 捷運轉乘路...|   Travel & Local|   3.9|         118| 10,000+|           10000|           37763|True|  0.0|     USD|7.6M|     4.2 and up|             Jie App|https://jie-app.h...| jie.myapp@gmail.com| Apr 3, 2018|Jun 11, 2021|      Everyone|http://appsetting...|        True|           False|         False|2021-06-15 20:19:36|        12.0|     0.0|               0.0|             1.0|                 0.0|               0.0|   Travel & Local|\n",
      "|com.hastobe.bemob...|                      be.MOBILISED|Maps & Navigation|   0.0|           0|    100+|             100|             274|True|  0.0|     USD| 15M|     6.0 and up|      has.to.be gmbh|http://www.has-to...|support@has-to-be...| Feb 9, 2020|May 14, 2021|      Everyone|https://has-to-be...|       False|           False|         False|2021-06-15 20:19:36|        24.0|     0.0|               0.0|             0.0|                 0.0|               0.0|Maps & Navigation|\n",
      "|com.caliwayconduc...|                 Caliway Conductor|   Travel & Local|   3.7|        1572| 10,000+|           10000|           42856|True|  0.0|     USD| 29M|     4.2 and up|             WayCali|https://www.faceb...|waycalicol@gmail.com| Sep 5, 2018|May 30, 2020|      Everyone|https://www.faceb...|       False|           False|         False|2021-06-15 20:19:36|        12.0|     0.0|               0.0|             0.0|                 0.0|               0.0|   Travel & Local|\n",
      "|com.ionicfirebase...|              Readymade Grocery...|     Food & Drink|   4.2|          16|  1,000+|            1000|            4313|True|  0.0|     USD| 12M|     4.4 and up|     pietechsolution|https://www.ionic...|info@ionicfirebas...| Apr 5, 2020|Mar 23, 2021|      Everyone|https://www.ionic...|       False|           False|         False|2021-06-15 20:19:36|        11.0|     0.0|               0.0|             0.0|                 0.0|               0.0|     Food & Drink|\n",
      "|com.camineo.otent...|              OTENTIK Discovery FR|   Travel & Local|   3.4|           5|    500+|             500|             949|True|  0.0|     USD|2.9M|     4.4 and up|     Hotels Attitude|http://www.hotels...|info@hotels-attit...|Nov 28, 2016|Oct 30, 2019|      Everyone|http://camineo.co...|       False|           False|         False|2021-06-15 20:19:36|        12.0|     0.0|               0.0|             0.0|                 0.0|               0.0|   Travel & Local|\n",
      "|com.tkapplication...|              All in one shoppi...|            Tools|   5.0|           6|     50+|              50|              62|True|  0.0|     USD|2.0M|     4.1 and up|     TK Applications|                null|tkapplications001...|Apr 24, 2019|May 05, 2019|      Everyone|                null|       False|           False|         False|2021-06-15 20:19:36|         3.0|     0.0|               0.0|             0.0|                 0.0|               0.0|            Tools|\n",
      "|    com.grit.redmond|                    REDMOND  Robot|        Lifestyle|   3.7|         328| 10,000+|           10000|           31235|True|  0.0|     USD| 70M|     4.1 and up|     Grit Technology|                null|info@redmond.company| Jul 1, 2020|May 26, 2021|      Everyone|https://redmond.c...|       False|           False|         False|2021-06-15 20:19:36|         5.0|     0.0|               0.0|             0.0|                 0.0|               0.0|        Lifestyle|\n",
      "|com.felingdev.low...|              Contemporary Love...|Books & Reference|   0.0|           0|      1+|               1|               2|True|  0.0|     XXX| 11M|     4.2 and up|    Human Droid Apps|                null|farukabdillah4@gm...|Dec 26, 2020|Mar 23, 2021|    Mature 17+|https://docs.goog...|        True|           False|         False|2021-06-15 20:19:36|         6.0|     0.0|               2.0|             1.0|                 0.0|               0.0|Books & Reference|\n",
      "+--------------------+----------------------------------+-----------------+------+------------+--------+----------------+----------------+----+-----+--------+----+---------------+--------------------+--------------------+--------------------+------------+------------+--------------+--------------------+------------+----------------+--------------+-------------------+------------+--------+------------------+----------------+--------------------+------------------+-----------------+\n",
      "only showing top 20 rows\n",
      "\n"
     ]
    }
   ],
   "source": [
    "# encoded column back to String\n",
    "from pyspark.ml.feature import IndexToString\n",
    "converter = IndexToString(inputCol='Category_enc',outputCol='orig_category')\n",
    "converted_df = converter.transform(df)\n",
    "converted_df.show()"
   ]
  },
  {
   "attachments": {},
   "cell_type": "markdown",
   "id": "happy-aquarium",
   "metadata": {},
   "source": [
    "### Features\n"
   ]
  },
  {
   "cell_type": "code",
   "execution_count": 17,
   "id": "babfe19f",
   "metadata": {},
   "outputs": [
    {
     "data": {
      "text/plain": [
       "'\\n\\n#fix nullable columns\\nfrom pyspark.sql.functions import col, lit, coalesce\\n\\ndf = df.withColumn(\"Rating\", coalesce(col(\"Rating\"), lit(0.0)))\\ndf = df.withColumn(\"Rating Count\", coalesce(col(\"Rating Count\"), lit(0)))\\ndf = df.withColumn(\"Minimum Installs\", coalesce(col(\"Minimum Installs\"), lit(0)))\\ndf = df.withColumn(\"Maximum Installs\", coalesce(col(\"Maximum Installs\"), lit(0)))\\ndf = df.withColumn(\"Price\", coalesce(col(\"Price\"), lit(0.0)))\\n\\ndf.printSchema()\\n'"
      ]
     },
     "execution_count": 17,
     "metadata": {},
     "output_type": "execute_result"
    }
   ],
   "source": [
    "'''\n",
    "\n",
    "#fix nullable columns\n",
    "from pyspark.sql.functions import col, lit, coalesce\n",
    "\n",
    "df = df.withColumn(\"Rating\", coalesce(col(\"Rating\"), lit(0.0)))\n",
    "df = df.withColumn(\"Rating Count\", coalesce(col(\"Rating Count\"), lit(0)))\n",
    "df = df.withColumn(\"Minimum Installs\", coalesce(col(\"Minimum Installs\"), lit(0)))\n",
    "df = df.withColumn(\"Maximum Installs\", coalesce(col(\"Maximum Installs\"), lit(0)))\n",
    "df = df.withColumn(\"Price\", coalesce(col(\"Price\"), lit(0.0)))\n",
    "\n",
    "df.printSchema()\n",
    "'''\n"
   ]
  },
  {
   "cell_type": "code",
   "execution_count": 18,
   "id": "critical-grenada",
   "metadata": {},
   "outputs": [],
   "source": [
    "#we took the only features we are concerned about\n",
    "#plus the target variable\n",
    "df2 = df.select('Rating Count','Minimum Installs', 'Maximum Installs', 'Free_enc', 'Price', 'Content Rating_enc', 'Ad Supported_enc', 'In App Purchases_enc', 'Editors Choice_enc', 'Category_enc', 'Rating')"
   ]
  },
  {
   "cell_type": "code",
   "execution_count": 19,
   "id": "minor-fluid",
   "metadata": {
    "collapsed": true,
    "jupyter": {
     "outputs_hidden": true
    }
   },
   "outputs": [
    {
     "name": "stdout",
     "output_type": "stream",
     "text": [
      "root\n",
      " |-- Rating Count: integer (nullable = true)\n",
      " |-- Minimum Installs: integer (nullable = true)\n",
      " |-- Maximum Installs: integer (nullable = true)\n",
      " |-- Free_enc: double (nullable = false)\n",
      " |-- Price: float (nullable = true)\n",
      " |-- Content Rating_enc: double (nullable = false)\n",
      " |-- Ad Supported_enc: double (nullable = false)\n",
      " |-- In App Purchases_enc: double (nullable = false)\n",
      " |-- Editors Choice_enc: double (nullable = false)\n",
      " |-- Category_enc: double (nullable = false)\n",
      " |-- Rating: float (nullable = true)\n",
      "\n"
     ]
    }
   ],
   "source": [
    "df2.printSchema()"
   ]
  },
  {
   "cell_type": "code",
   "execution_count": 20,
   "id": "d168b713",
   "metadata": {},
   "outputs": [
    {
     "name": "stdout",
     "output_type": "stream",
     "text": [
      "+--------+-------+\n",
      "|Free_enc|  count|\n",
      "+--------+-------+\n",
      "|     0.0|2245163|\n",
      "|     1.0|  44840|\n",
      "+--------+-------+\n",
      "\n"
     ]
    }
   ],
   "source": [
    "df2.groupBy('Free_enc').count().show()"
   ]
  },
  {
   "cell_type": "code",
   "execution_count": 21,
   "id": "orange-intellectual",
   "metadata": {},
   "outputs": [
    {
     "data": {
      "text/plain": [
       "'\\n#convert pyspark df to pandas df\\npd_df = df2.toPandas()\\n\\n# Convert To PySpark Dataframe\\nnew_df = spark.createDataFrame(pd_df)\\n\\nnew_df.show()\\n'"
      ]
     },
     "execution_count": 21,
     "metadata": {},
     "output_type": "execute_result"
    }
   ],
   "source": [
    "'''\n",
    "#convert pyspark df to pandas df\n",
    "pd_df = df2.toPandas()\n",
    "\n",
    "# Convert To PySpark Dataframe\n",
    "new_df = spark.createDataFrame(pd_df)\n",
    "\n",
    "new_df.show()\n",
    "'''"
   ]
  },
  {
   "cell_type": "code",
   "execution_count": 22,
   "id": "mighty-portsmouth",
   "metadata": {},
   "outputs": [
    {
     "name": "stdout",
     "output_type": "stream",
     "text": [
      "['Rating Count', 'Minimum Installs', 'Maximum Installs', 'Free_enc', 'Price', 'Content Rating_enc', 'Ad Supported_enc', 'In App Purchases_enc', 'Editors Choice_enc', 'Category_enc']\n"
     ]
    }
   ],
   "source": [
    "required_features = df2.columns[:-1]      #all except the target variable 'Rating' which is at the last index\n",
    "print(required_features)"
   ]
  },
  {
   "cell_type": "code",
   "execution_count": 23,
   "id": "outer-james",
   "metadata": {},
   "outputs": [],
   "source": [
    "# VectorAsm\n",
    "vec_assembler = VectorAssembler(inputCols=required_features,outputCol='Features')"
   ]
  },
  {
   "cell_type": "code",
   "execution_count": 24,
   "id": "tough-congo",
   "metadata": {},
   "outputs": [],
   "source": [
    "vec_df = vec_assembler.setHandleInvalid(\"skip\").transform(df2)"
   ]
  },
  {
   "cell_type": "code",
   "execution_count": 25,
   "id": "7e5bbc81",
   "metadata": {},
   "outputs": [
    {
     "data": {
      "text/plain": [
       "DataFrame[Rating Count: int, Minimum Installs: int, Maximum Installs: int, Free_enc: double, Price: float, Content Rating_enc: double, Ad Supported_enc: double, In App Purchases_enc: double, Editors Choice_enc: double, Category_enc: double, Rating: float, Features: vector]"
      ]
     },
     "execution_count": 25,
     "metadata": {},
     "output_type": "execute_result"
    }
   ],
   "source": [
    "vec_df.na.drop(how='any',subset='Features')"
   ]
  },
  {
   "cell_type": "code",
   "execution_count": 26,
   "id": "prescribed-skiing",
   "metadata": {},
   "outputs": [
    {
     "name": "stdout",
     "output_type": "stream",
     "text": [
      "+------------+----------------+----------------+--------+-----+------------------+----------------+--------------------+------------------+------------+------+----------------------------------------------------+\n",
      "|Rating Count|Minimum Installs|Maximum Installs|Free_enc|Price|Content Rating_enc|Ad Supported_enc|In App Purchases_enc|Editors Choice_enc|Category_enc|Rating|Features                                            |\n",
      "+------------+----------------+----------------+--------+-----+------------------+----------------+--------------------+------------------+------------+------+----------------------------------------------------+\n",
      "|0           |10              |15              |0.0     |0.0  |0.0               |0.0             |0.0                 |0.0               |25.0        |0.0   |(10,[1,2,9],[10.0,15.0,25.0])                       |\n",
      "|64          |5000            |7662            |0.0     |0.0  |0.0               |1.0             |0.0                 |0.0               |3.0         |4.4   |(10,[0,1,2,6,9],[64.0,5000.0,7662.0,1.0,3.0])       |\n",
      "|0           |50              |58              |0.0     |0.0  |0.0               |0.0             |0.0                 |0.0               |9.0         |0.0   |(10,[1,2,9],[50.0,58.0,9.0])                        |\n",
      "|5           |10              |19              |0.0     |0.0  |0.0               |1.0             |0.0                 |0.0               |17.0        |5.0   |(10,[0,1,2,6,9],[5.0,10.0,19.0,1.0,17.0])           |\n",
      "|0           |100             |478             |0.0     |0.0  |0.0               |0.0             |0.0                 |0.0               |3.0         |0.0   |(10,[1,2,9],[100.0,478.0,3.0])                      |\n",
      "|0           |50              |89              |0.0     |0.0  |1.0               |0.0             |1.0                 |0.0               |19.0        |0.0   |(10,[1,2,5,7,9],[50.0,89.0,1.0,1.0,19.0])           |\n",
      "|12          |1000            |2567            |0.0     |0.0  |0.0               |1.0             |0.0                 |0.0               |43.0        |4.5   |(10,[0,1,2,6,9],[12.0,1000.0,2567.0,1.0,43.0])      |\n",
      "|39          |500             |702             |0.0     |0.0  |0.0               |0.0             |0.0                 |0.0               |5.0         |2.0   |(10,[0,1,2,9],[39.0,500.0,702.0,5.0])               |\n",
      "|0           |10              |18              |0.0     |0.0  |1.0               |0.0             |0.0                 |0.0               |17.0        |0.0   |(10,[1,2,5,9],[10.0,18.0,1.0,17.0])                 |\n",
      "|820         |50000           |62433           |0.0     |0.0  |0.0               |1.0             |0.0                 |0.0               |7.0         |4.7   |(10,[0,1,2,6,9],[820.0,50000.0,62433.0,1.0,7.0])    |\n",
      "|55          |100             |329             |0.0     |0.0  |0.0               |0.0             |0.0                 |0.0               |36.0        |4.9   |(10,[0,1,2,9],[55.0,100.0,329.0,36.0])              |\n",
      "|0           |100             |330             |0.0     |0.0  |0.0               |0.0             |0.0                 |0.0               |24.0        |0.0   |(10,[1,2,9],[100.0,330.0,24.0])                     |\n",
      "|118         |10000           |37763           |0.0     |0.0  |0.0               |1.0             |0.0                 |0.0               |12.0        |3.9   |(10,[0,1,2,6,9],[118.0,10000.0,37763.0,1.0,12.0])   |\n",
      "|0           |100             |274             |0.0     |0.0  |0.0               |0.0             |0.0                 |0.0               |24.0        |0.0   |(10,[1,2,9],[100.0,274.0,24.0])                     |\n",
      "|1572        |10000           |42856           |0.0     |0.0  |0.0               |0.0             |0.0                 |0.0               |12.0        |3.7   |(10,[0,1,2,9],[1572.0,10000.0,42856.0,12.0])        |\n",
      "|16          |1000            |4313            |0.0     |0.0  |0.0               |0.0             |0.0                 |0.0               |11.0        |4.2   |(10,[0,1,2,9],[16.0,1000.0,4313.0,11.0])            |\n",
      "|5           |500             |949             |0.0     |0.0  |0.0               |0.0             |0.0                 |0.0               |12.0        |3.4   |(10,[0,1,2,9],[5.0,500.0,949.0,12.0])               |\n",
      "|6           |50              |62              |0.0     |0.0  |0.0               |0.0             |0.0                 |0.0               |3.0         |5.0   |(10,[0,1,2,9],[6.0,50.0,62.0,3.0])                  |\n",
      "|328         |10000           |31235           |0.0     |0.0  |0.0               |0.0             |0.0                 |0.0               |5.0         |3.7   |(10,[0,1,2,9],[328.0,10000.0,31235.0,5.0])          |\n",
      "|0           |1               |2               |0.0     |0.0  |2.0               |1.0             |0.0                 |0.0               |6.0         |0.0   |(10,[1,2,5,6,9],[1.0,2.0,2.0,1.0,6.0])              |\n",
      "|0           |100             |336             |0.0     |0.0  |0.0               |0.0             |0.0                 |0.0               |19.0        |0.0   |(10,[1,2,9],[100.0,336.0,19.0])                     |\n",
      "|0           |10              |31              |0.0     |0.0  |0.0               |0.0             |0.0                 |0.0               |22.0        |0.0   |(10,[1,2,9],[10.0,31.0,22.0])                       |\n",
      "|211         |10000           |15471           |0.0     |0.0  |0.0               |1.0             |1.0                 |0.0               |15.0        |4.4   |[211.0,10000.0,15471.0,0.0,0.0,0.0,1.0,1.0,0.0,15.0]|\n",
      "|736         |500000          |646456          |0.0     |0.0  |0.0               |1.0             |0.0                 |0.0               |4.0         |3.8   |(10,[0,1,2,6,9],[736.0,500000.0,646456.0,1.0,4.0])  |\n",
      "|35          |10000           |21124           |0.0     |0.0  |0.0               |1.0             |0.0                 |0.0               |3.0         |4.2   |(10,[0,1,2,6,9],[35.0,10000.0,21124.0,1.0,3.0])     |\n",
      "|11          |100             |152             |0.0     |0.0  |0.0               |1.0             |1.0                 |0.0               |14.0        |4.6   |[11.0,100.0,152.0,0.0,0.0,0.0,1.0,1.0,0.0,14.0]     |\n",
      "|0           |1000            |1068            |0.0     |0.0  |0.0               |1.0             |1.0                 |0.0               |14.0        |0.0   |(10,[1,2,6,7,9],[1000.0,1068.0,1.0,1.0,14.0])       |\n",
      "|0           |100             |396             |0.0     |0.0  |0.0               |1.0             |0.0                 |0.0               |4.0         |0.0   |(10,[1,2,6,9],[100.0,396.0,1.0,4.0])                |\n",
      "|27          |1000            |2414            |0.0     |0.0  |0.0               |0.0             |0.0                 |0.0               |24.0        |4.1   |(10,[0,1,2,9],[27.0,1000.0,2414.0,24.0])            |\n",
      "|16          |1000            |3784            |0.0     |0.0  |0.0               |0.0             |0.0                 |0.0               |29.0        |3.4   |(10,[0,1,2,9],[16.0,1000.0,3784.0,29.0])            |\n",
      "+------------+----------------+----------------+--------+-----+------------------+----------------+--------------------+------------------+------------+------+----------------------------------------------------+\n",
      "only showing top 30 rows\n",
      "\n"
     ]
    }
   ],
   "source": [
    "vec_df.show(30, False)"
   ]
  },
  {
   "cell_type": "markdown",
   "id": "circular-treaty",
   "metadata": {},
   "source": [
    "### Train,Test Split"
   ]
  },
  {
   "cell_type": "code",
   "execution_count": 30,
   "id": "polished-robin",
   "metadata": {},
   "outputs": [],
   "source": [
    "train_df,test_df = vec_df.select(['Features', 'Rating']).randomSplit([0.7,0.3])"
   ]
  },
  {
   "cell_type": "code",
   "execution_count": 31,
   "id": "piano-preparation",
   "metadata": {},
   "outputs": [
    {
     "data": {
      "text/plain": [
       "1602048"
      ]
     },
     "execution_count": 31,
     "metadata": {},
     "output_type": "execute_result"
    }
   ],
   "source": [
    "train_df.count()"
   ]
  },
  {
   "cell_type": "code",
   "execution_count": 32,
   "id": "coordinated-notebook",
   "metadata": {},
   "outputs": [
    {
     "name": "stdout",
     "output_type": "stream",
     "text": [
      "+----------+------+\n",
      "|  Features|Rating|\n",
      "+----------+------+\n",
      "|(10,[],[])|   0.0|\n",
      "|(10,[],[])|   0.0|\n",
      "|(10,[],[])|   0.0|\n",
      "|(10,[],[])|   0.0|\n",
      "+----------+------+\n",
      "only showing top 4 rows\n",
      "\n"
     ]
    }
   ],
   "source": [
    "train_df.show(4)"
   ]
  },
  {
   "cell_type": "markdown",
   "id": "stupid-cocktail",
   "metadata": {},
   "source": [
    "#### Model Building\n",
    "+ Pyspark.ml: DataFrame\n",
    "+ Pyspark.mllib: RDD /Legacy"
   ]
  },
  {
   "cell_type": "code",
   "execution_count": 33,
   "id": "retired-truth",
   "metadata": {},
   "outputs": [],
   "source": [
    "from pyspark.ml.regression import LinearRegression"
   ]
  },
  {
   "cell_type": "code",
   "execution_count": 34,
   "id": "active-stephen",
   "metadata": {},
   "outputs": [],
   "source": [
    "# Regr Model\n",
    "lr = LinearRegression(featuresCol='Features',labelCol='Rating')"
   ]
  },
  {
   "cell_type": "code",
   "execution_count": 35,
   "id": "atlantic-lesbian",
   "metadata": {},
   "outputs": [],
   "source": [
    "lr_model = lr.fit(train_df)\n",
    "\n",
    "#just some training metrics\n",
    "trainingSummary = lr_model.summary\n",
    "print(\"RMSE: %f\" % trainingSummary.rootMeanSquaredError)\n",
    "print(\"r2: %f\" % trainingSummary.r2)"
   ]
  },
  {
   "cell_type": "code",
   "execution_count": 37,
   "id": "confidential-wilderness",
   "metadata": {},
   "outputs": [],
   "source": [
    "y_pred = lr_model.transform(test_df)\n",
    "\n",
    "#notice another column called 'prediction' is automatically made\n",
    "y_pred.show(5)"
   ]
  },
  {
   "attachments": {},
   "cell_type": "markdown",
   "id": "2bcc55d9",
   "metadata": {},
   "source": [
    "#### Model Evaluation"
   ]
  },
  {
   "cell_type": "code",
   "execution_count": 39,
   "id": "continuing-george",
   "metadata": {
    "collapsed": true,
    "jupyter": {
     "outputs_hidden": true
    }
   },
   "outputs": [
    {
     "name": "stdout",
     "output_type": "stream",
     "text": [
      "R Squared (R2) on test data = 0.0451513\n"
     ]
    }
   ],
   "source": [
    "from pyspark.ml.evaluation import RegressionEvaluator\n",
    "lr_evaluator = RegressionEvaluator(predictionCol=\"prediction\", \\\n",
    "                 labelCol=\"Rating\",metricName=\"r2\")\n",
    "print(\"R Squared (R2) on test data = %g\" % lr_evaluator.evaluate(y_pred))"
   ]
  },
  {
   "cell_type": "code",
   "execution_count": 42,
   "id": "69c4cb15",
   "metadata": {},
   "outputs": [
    {
     "name": "stdout",
     "output_type": "stream",
     "text": [
      "Root Mean Squared Error (RMSE) on test data = 2.05874\n"
     ]
    }
   ],
   "source": [
    "test_result = lr_model.evaluate(test_df)\n",
    "print(\"Root Mean Squared Error (RMSE) on test data = %g\" % test_result.rootMeanSquaredError)"
   ]
  },
  {
   "attachments": {},
   "cell_type": "markdown",
   "id": "dde13580",
   "metadata": {},
   "source": [
    "#### Decision Tree Regression"
   ]
  },
  {
   "cell_type": "code",
   "execution_count": 45,
   "id": "52e76a01",
   "metadata": {},
   "outputs": [
    {
     "name": "stdout",
     "output_type": "stream",
     "text": [
      "Root Mean Squared Error (RMSE) on test data = 0.465668\n"
     ]
    }
   ],
   "source": [
    "from pyspark.ml.regression import DecisionTreeRegressor\n",
    "dt = DecisionTreeRegressor(featuresCol ='Features', labelCol = 'Rating', maxBins=48)   #setting a larger maxbins(default=32) is an ad-hoc step just to solve an error I dont understand :)\n",
    "dt_model = dt.fit(train_df)\n",
    "dt_predictions = dt_model.transform(test_df)\n",
    "dt_evaluator = RegressionEvaluator(\n",
    "    labelCol=\"Rating\", predictionCol=\"prediction\", metricName=\"rmse\")\n",
    "rmse = dt_evaluator.evaluate(dt_predictions)\n",
    "print(\"Root Mean Squared Error (RMSE) on test data = %g\" % rmse)"
   ]
  },
  {
   "cell_type": "code",
   "execution_count": 46,
   "id": "b66a3e19",
   "metadata": {},
   "outputs": [
    {
     "data": {
      "text/plain": [
       "SparseVector(10, {0: 0.9917, 2: 0.0062, 3: 0.0, 4: 0.0001, 6: 0.0003, 9: 0.0017})"
      ]
     },
     "execution_count": 46,
     "metadata": {},
     "output_type": "execute_result"
    }
   ],
   "source": [
    "#Feature Importance\n",
    "dt_model.featureImportances\n",
    "\n",
    "#notice that Feature at index 0 has higher importance, this feature is the 'Rating Count'"
   ]
  },
  {
   "attachments": {},
   "cell_type": "markdown",
   "id": "496bc3dc",
   "metadata": {},
   "source": [
    "### Gradient-Boosted Decision Tree Regressor"
   ]
  },
  {
   "cell_type": "code",
   "execution_count": 48,
   "id": "7d78d0b2",
   "metadata": {},
   "outputs": [
    {
     "name": "stdout",
     "output_type": "stream",
     "text": [
      "+--------------------+------+----------+\n",
      "|          prediction|Rating|  Features|\n",
      "+--------------------+------+----------+\n",
      "|-6.46655770197093E-4|   0.0|(10,[],[])|\n",
      "|-6.46655770197093E-4|   0.0|(10,[],[])|\n",
      "|-6.46655770197093E-4|   0.0|(10,[],[])|\n",
      "|-6.46655770197093E-4|   0.0|(10,[],[])|\n",
      "|-6.46655770197093E-4|   0.0|(10,[],[])|\n",
      "+--------------------+------+----------+\n",
      "only showing top 5 rows\n",
      "\n"
     ]
    }
   ],
   "source": [
    "from pyspark.ml.regression import GBTRegressor\n",
    "gbt = GBTRegressor(featuresCol = 'Features', labelCol = 'Rating', maxIter=10, maxBins=48) #same as above, maxbins is set just to avoid an error I dont understand\n",
    "# maxIter is just a hyperparameter we put by hand\n",
    "gbt_model = gbt.fit(train_df)\n",
    "gbt_predictions = gbt_model.transform(test_df)\n",
    "gbt_predictions.select('prediction', 'Rating', 'Features').show(5)"
   ]
  },
  {
   "cell_type": "code",
   "execution_count": 49,
   "id": "087cca85",
   "metadata": {},
   "outputs": [
    {
     "name": "stdout",
     "output_type": "stream",
     "text": [
      "Root Mean Squared Error (RMSE) on test data = 0.452679\n"
     ]
    }
   ],
   "source": [
    "gbt_evaluator = RegressionEvaluator(\n",
    "    labelCol=\"Rating\", predictionCol=\"prediction\", metricName=\"rmse\")\n",
    "rmse = gbt_evaluator.evaluate(gbt_predictions)\n",
    "print(\"Root Mean Squared Error (RMSE) on test data = %g\" % rmse)"
   ]
  },
  {
   "cell_type": "markdown",
   "id": "particular-privacy",
   "metadata": {},
   "source": [
    "### Saving Model\n"
   ]
  },
  {
   "cell_type": "code",
   "execution_count": 62,
   "id": "ea14a1c1",
   "metadata": {},
   "outputs": [
    {
     "ename": "Py4JJavaError",
     "evalue": "An error occurred while calling o1689.save.\n: java.io.IOException: Path D:/CLASSSWORKKK/BD/BD_PROJECT/GBT_Model already exists. To overwrite it, please use write.overwrite().save(path) for Scala and use write().overwrite().save(path) for Java and Python.\r\n\tat org.apache.spark.ml.util.FileSystemOverwrite.handleOverwrite(ReadWrite.scala:683)\r\n\tat org.apache.spark.ml.util.MLWriter.save(ReadWrite.scala:167)\r\n\tat java.base/jdk.internal.reflect.NativeMethodAccessorImpl.invoke0(Native Method)\r\n\tat java.base/jdk.internal.reflect.NativeMethodAccessorImpl.invoke(NativeMethodAccessorImpl.java:62)\r\n\tat java.base/jdk.internal.reflect.DelegatingMethodAccessorImpl.invoke(DelegatingMethodAccessorImpl.java:43)\r\n\tat java.base/java.lang.reflect.Method.invoke(Method.java:566)\r\n\tat py4j.reflection.MethodInvoker.invoke(MethodInvoker.java:244)\r\n\tat py4j.reflection.ReflectionEngine.invoke(ReflectionEngine.java:374)\r\n\tat py4j.Gateway.invoke(Gateway.java:282)\r\n\tat py4j.commands.AbstractCommand.invokeMethod(AbstractCommand.java:132)\r\n\tat py4j.commands.CallCommand.execute(CallCommand.java:79)\r\n\tat py4j.ClientServerConnection.waitForCommands(ClientServerConnection.java:182)\r\n\tat py4j.ClientServerConnection.run(ClientServerConnection.java:106)\r\n\tat java.base/java.lang.Thread.run(Thread.java:834)\r\n",
     "output_type": "error",
     "traceback": [
      "\u001b[1;31m---------------------------------------------------------------------------\u001b[0m",
      "\u001b[1;31mPy4JJavaError\u001b[0m                             Traceback (most recent call last)",
      "Cell \u001b[1;32mIn[62], line 4\u001b[0m\n\u001b[0;32m      1\u001b[0m \u001b[39m#this is giving me errors I still cannot resolve\u001b[39;00m\n\u001b[0;32m      3\u001b[0m \u001b[39mfrom\u001b[39;00m \u001b[39mpyspark\u001b[39;00m\u001b[39m.\u001b[39;00m\u001b[39mml\u001b[39;00m\u001b[39m.\u001b[39;00m\u001b[39mpipeline\u001b[39;00m \u001b[39mimport\u001b[39;00m PipelineModel\n\u001b[1;32m----> 4\u001b[0m gbt_model\u001b[39m.\u001b[39;49msave(\u001b[39m\"\u001b[39;49m\u001b[39mD:/CLASSSWORKKK/BD/BD_PROJECT/GBT_Model\u001b[39;49m\u001b[39m\"\u001b[39;49m)\n\u001b[0;32m      5\u001b[0m \u001b[39m#if a java error occurs, then use this instead.\u001b[39;00m\n\u001b[0;32m      6\u001b[0m gbt_model\u001b[39m.\u001b[39mwrite()\u001b[39m.\u001b[39moverwrite()\u001b[39m.\u001b[39msave(\u001b[39m\"\u001b[39m\u001b[39mD:/CLASSSWORKKK/BD/BD_PROJECT/GBT_Model\u001b[39m\u001b[39m\"\u001b[39m)\n",
      "File \u001b[1;32m~\\AppData\\Local\\Programs\\Python\\Python311\\Lib\\site-packages\\pyspark\\ml\\util.py:246\u001b[0m, in \u001b[0;36mMLWritable.save\u001b[1;34m(self, path)\u001b[0m\n\u001b[0;32m    244\u001b[0m \u001b[39mdef\u001b[39;00m \u001b[39msave\u001b[39m(\u001b[39mself\u001b[39m, path: \u001b[39mstr\u001b[39m) \u001b[39m-\u001b[39m\u001b[39m>\u001b[39m \u001b[39mNone\u001b[39;00m:\n\u001b[0;32m    245\u001b[0m \u001b[39m    \u001b[39m\u001b[39m\"\"\"Save this ML instance to the given path, a shortcut of 'write().save(path)'.\"\"\"\u001b[39;00m\n\u001b[1;32m--> 246\u001b[0m     \u001b[39mself\u001b[39;49m\u001b[39m.\u001b[39;49mwrite()\u001b[39m.\u001b[39;49msave(path)\n",
      "File \u001b[1;32m~\\AppData\\Local\\Programs\\Python\\Python311\\Lib\\site-packages\\pyspark\\ml\\util.py:197\u001b[0m, in \u001b[0;36mJavaMLWriter.save\u001b[1;34m(self, path)\u001b[0m\n\u001b[0;32m    195\u001b[0m \u001b[39mif\u001b[39;00m \u001b[39mnot\u001b[39;00m \u001b[39misinstance\u001b[39m(path, \u001b[39mstr\u001b[39m):\n\u001b[0;32m    196\u001b[0m     \u001b[39mraise\u001b[39;00m \u001b[39mTypeError\u001b[39;00m(\u001b[39m\"\u001b[39m\u001b[39mpath should be a string, got type \u001b[39m\u001b[39m%s\u001b[39;00m\u001b[39m\"\u001b[39m \u001b[39m%\u001b[39m \u001b[39mtype\u001b[39m(path))\n\u001b[1;32m--> 197\u001b[0m \u001b[39mself\u001b[39;49m\u001b[39m.\u001b[39;49m_jwrite\u001b[39m.\u001b[39;49msave(path)\n",
      "File \u001b[1;32m~\\AppData\\Local\\Programs\\Python\\Python311\\Lib\\site-packages\\py4j\\java_gateway.py:1322\u001b[0m, in \u001b[0;36mJavaMember.__call__\u001b[1;34m(self, *args)\u001b[0m\n\u001b[0;32m   1316\u001b[0m command \u001b[39m=\u001b[39m proto\u001b[39m.\u001b[39mCALL_COMMAND_NAME \u001b[39m+\u001b[39m\\\n\u001b[0;32m   1317\u001b[0m     \u001b[39mself\u001b[39m\u001b[39m.\u001b[39mcommand_header \u001b[39m+\u001b[39m\\\n\u001b[0;32m   1318\u001b[0m     args_command \u001b[39m+\u001b[39m\\\n\u001b[0;32m   1319\u001b[0m     proto\u001b[39m.\u001b[39mEND_COMMAND_PART\n\u001b[0;32m   1321\u001b[0m answer \u001b[39m=\u001b[39m \u001b[39mself\u001b[39m\u001b[39m.\u001b[39mgateway_client\u001b[39m.\u001b[39msend_command(command)\n\u001b[1;32m-> 1322\u001b[0m return_value \u001b[39m=\u001b[39m get_return_value(\n\u001b[0;32m   1323\u001b[0m     answer, \u001b[39mself\u001b[39;49m\u001b[39m.\u001b[39;49mgateway_client, \u001b[39mself\u001b[39;49m\u001b[39m.\u001b[39;49mtarget_id, \u001b[39mself\u001b[39;49m\u001b[39m.\u001b[39;49mname)\n\u001b[0;32m   1325\u001b[0m \u001b[39mfor\u001b[39;00m temp_arg \u001b[39min\u001b[39;00m temp_args:\n\u001b[0;32m   1326\u001b[0m     \u001b[39mif\u001b[39;00m \u001b[39mhasattr\u001b[39m(temp_arg, \u001b[39m\"\u001b[39m\u001b[39m_detach\u001b[39m\u001b[39m\"\u001b[39m):\n",
      "File \u001b[1;32m~\\AppData\\Local\\Programs\\Python\\Python311\\Lib\\site-packages\\pyspark\\errors\\exceptions\\captured.py:169\u001b[0m, in \u001b[0;36mcapture_sql_exception.<locals>.deco\u001b[1;34m(*a, **kw)\u001b[0m\n\u001b[0;32m    167\u001b[0m \u001b[39mdef\u001b[39;00m \u001b[39mdeco\u001b[39m(\u001b[39m*\u001b[39ma: Any, \u001b[39m*\u001b[39m\u001b[39m*\u001b[39mkw: Any) \u001b[39m-\u001b[39m\u001b[39m>\u001b[39m Any:\n\u001b[0;32m    168\u001b[0m     \u001b[39mtry\u001b[39;00m:\n\u001b[1;32m--> 169\u001b[0m         \u001b[39mreturn\u001b[39;00m f(\u001b[39m*\u001b[39;49ma, \u001b[39m*\u001b[39;49m\u001b[39m*\u001b[39;49mkw)\n\u001b[0;32m    170\u001b[0m     \u001b[39mexcept\u001b[39;00m Py4JJavaError \u001b[39mas\u001b[39;00m e:\n\u001b[0;32m    171\u001b[0m         converted \u001b[39m=\u001b[39m convert_exception(e\u001b[39m.\u001b[39mjava_exception)\n",
      "File \u001b[1;32m~\\AppData\\Local\\Programs\\Python\\Python311\\Lib\\site-packages\\py4j\\protocol.py:326\u001b[0m, in \u001b[0;36mget_return_value\u001b[1;34m(answer, gateway_client, target_id, name)\u001b[0m\n\u001b[0;32m    324\u001b[0m value \u001b[39m=\u001b[39m OUTPUT_CONVERTER[\u001b[39mtype\u001b[39m](answer[\u001b[39m2\u001b[39m:], gateway_client)\n\u001b[0;32m    325\u001b[0m \u001b[39mif\u001b[39;00m answer[\u001b[39m1\u001b[39m] \u001b[39m==\u001b[39m REFERENCE_TYPE:\n\u001b[1;32m--> 326\u001b[0m     \u001b[39mraise\u001b[39;00m Py4JJavaError(\n\u001b[0;32m    327\u001b[0m         \u001b[39m\"\u001b[39m\u001b[39mAn error occurred while calling \u001b[39m\u001b[39m{0}\u001b[39;00m\u001b[39m{1}\u001b[39;00m\u001b[39m{2}\u001b[39;00m\u001b[39m.\u001b[39m\u001b[39m\\n\u001b[39;00m\u001b[39m\"\u001b[39m\u001b[39m.\u001b[39m\n\u001b[0;32m    328\u001b[0m         \u001b[39mformat\u001b[39m(target_id, \u001b[39m\"\u001b[39m\u001b[39m.\u001b[39m\u001b[39m\"\u001b[39m, name), value)\n\u001b[0;32m    329\u001b[0m \u001b[39melse\u001b[39;00m:\n\u001b[0;32m    330\u001b[0m     \u001b[39mraise\u001b[39;00m Py4JError(\n\u001b[0;32m    331\u001b[0m         \u001b[39m\"\u001b[39m\u001b[39mAn error occurred while calling \u001b[39m\u001b[39m{0}\u001b[39;00m\u001b[39m{1}\u001b[39;00m\u001b[39m{2}\u001b[39;00m\u001b[39m. Trace:\u001b[39m\u001b[39m\\n\u001b[39;00m\u001b[39m{3}\u001b[39;00m\u001b[39m\\n\u001b[39;00m\u001b[39m\"\u001b[39m\u001b[39m.\u001b[39m\n\u001b[0;32m    332\u001b[0m         \u001b[39mformat\u001b[39m(target_id, \u001b[39m\"\u001b[39m\u001b[39m.\u001b[39m\u001b[39m\"\u001b[39m, name, value))\n",
      "\u001b[1;31mPy4JJavaError\u001b[0m: An error occurred while calling o1689.save.\n: java.io.IOException: Path D:/CLASSSWORKKK/BD/BD_PROJECT/GBT_Model already exists. To overwrite it, please use write.overwrite().save(path) for Scala and use write().overwrite().save(path) for Java and Python.\r\n\tat org.apache.spark.ml.util.FileSystemOverwrite.handleOverwrite(ReadWrite.scala:683)\r\n\tat org.apache.spark.ml.util.MLWriter.save(ReadWrite.scala:167)\r\n\tat java.base/jdk.internal.reflect.NativeMethodAccessorImpl.invoke0(Native Method)\r\n\tat java.base/jdk.internal.reflect.NativeMethodAccessorImpl.invoke(NativeMethodAccessorImpl.java:62)\r\n\tat java.base/jdk.internal.reflect.DelegatingMethodAccessorImpl.invoke(DelegatingMethodAccessorImpl.java:43)\r\n\tat java.base/java.lang.reflect.Method.invoke(Method.java:566)\r\n\tat py4j.reflection.MethodInvoker.invoke(MethodInvoker.java:244)\r\n\tat py4j.reflection.ReflectionEngine.invoke(ReflectionEngine.java:374)\r\n\tat py4j.Gateway.invoke(Gateway.java:282)\r\n\tat py4j.commands.AbstractCommand.invokeMethod(AbstractCommand.java:132)\r\n\tat py4j.commands.CallCommand.execute(CallCommand.java:79)\r\n\tat py4j.ClientServerConnection.waitForCommands(ClientServerConnection.java:182)\r\n\tat py4j.ClientServerConnection.run(ClientServerConnection.java:106)\r\n\tat java.base/java.lang.Thread.run(Thread.java:834)\r\n"
     ]
    }
   ],
   "source": [
    "#this is giving me errors I still cannot resolve\n",
    "\n",
    "from pyspark.ml.pipeline import PipelineModel\n",
    "gbt_model.save(\"D:/CLASSSWORKKK/BD/BD_PROJECT/GBT_Model\")\n",
    "#to overwrite an existing model\n",
    "gbt_model.write().overwrite().save(\"D:/CLASSSWORKKK/BD/BD_PROJECT/GBT_Model\")"
   ]
  },
  {
   "attachments": {},
   "cell_type": "markdown",
   "id": "7399163f",
   "metadata": {},
   "source": [
    "### Loading Model"
   ]
  },
  {
   "cell_type": "code",
   "execution_count": 63,
   "id": "6c5c3026",
   "metadata": {},
   "outputs": [
    {
     "ename": "Py4JJavaError",
     "evalue": "An error occurred while calling o1696.partitions.\n: org.apache.hadoop.mapred.InvalidInputException: Input path does not exist: file:/d:/CLASSSWORKKK/BD/BD_PROJECT/GBT_Model/metadata\r\n\tat org.apache.hadoop.mapred.FileInputFormat.singleThreadedListStatus(FileInputFormat.java:304)\r\n\tat org.apache.hadoop.mapred.FileInputFormat.listStatus(FileInputFormat.java:244)\r\n\tat org.apache.hadoop.mapred.FileInputFormat.getSplits(FileInputFormat.java:332)\r\n\tat org.apache.spark.rdd.HadoopRDD.getPartitions(HadoopRDD.scala:208)\r\n\tat org.apache.spark.rdd.RDD.$anonfun$partitions$2(RDD.scala:291)\r\n\tat scala.Option.getOrElse(Option.scala:189)\r\n\tat org.apache.spark.rdd.RDD.partitions(RDD.scala:287)\r\n\tat org.apache.spark.rdd.MapPartitionsRDD.getPartitions(MapPartitionsRDD.scala:49)\r\n\tat org.apache.spark.rdd.RDD.$anonfun$partitions$2(RDD.scala:291)\r\n\tat scala.Option.getOrElse(Option.scala:189)\r\n\tat org.apache.spark.rdd.RDD.partitions(RDD.scala:287)\r\n\tat org.apache.spark.api.java.JavaRDDLike.partitions(JavaRDDLike.scala:61)\r\n\tat org.apache.spark.api.java.JavaRDDLike.partitions$(JavaRDDLike.scala:61)\r\n\tat org.apache.spark.api.java.AbstractJavaRDDLike.partitions(JavaRDDLike.scala:45)\r\n\tat java.base/jdk.internal.reflect.NativeMethodAccessorImpl.invoke0(Native Method)\r\n\tat java.base/jdk.internal.reflect.NativeMethodAccessorImpl.invoke(NativeMethodAccessorImpl.java:62)\r\n\tat java.base/jdk.internal.reflect.DelegatingMethodAccessorImpl.invoke(DelegatingMethodAccessorImpl.java:43)\r\n\tat java.base/java.lang.reflect.Method.invoke(Method.java:566)\r\n\tat py4j.reflection.MethodInvoker.invoke(MethodInvoker.java:244)\r\n\tat py4j.reflection.ReflectionEngine.invoke(ReflectionEngine.java:374)\r\n\tat py4j.Gateway.invoke(Gateway.java:282)\r\n\tat py4j.commands.AbstractCommand.invokeMethod(AbstractCommand.java:132)\r\n\tat py4j.commands.CallCommand.execute(CallCommand.java:79)\r\n\tat py4j.ClientServerConnection.waitForCommands(ClientServerConnection.java:182)\r\n\tat py4j.ClientServerConnection.run(ClientServerConnection.java:106)\r\n\tat java.base/java.lang.Thread.run(Thread.java:834)\r\nCaused by: java.io.IOException: Input path does not exist: file:/d:/CLASSSWORKKK/BD/BD_PROJECT/GBT_Model/metadata\r\n\tat org.apache.hadoop.mapred.FileInputFormat.singleThreadedListStatus(FileInputFormat.java:278)\r\n\t... 25 more\r\n",
     "output_type": "error",
     "traceback": [
      "\u001b[1;31m---------------------------------------------------------------------------\u001b[0m",
      "\u001b[1;31mPy4JJavaError\u001b[0m                             Traceback (most recent call last)",
      "Cell \u001b[1;32mIn[63], line 2\u001b[0m\n\u001b[0;32m      1\u001b[0m \u001b[39mfrom\u001b[39;00m \u001b[39mpyspark\u001b[39;00m\u001b[39m.\u001b[39;00m\u001b[39mml\u001b[39;00m\u001b[39m.\u001b[39;00m\u001b[39mpipeline\u001b[39;00m \u001b[39mimport\u001b[39;00m PipelineModel\n\u001b[1;32m----> 2\u001b[0m LoadedModel \u001b[39m=\u001b[39m PipelineModel\u001b[39m.\u001b[39;49mload(\u001b[39m\"\u001b[39;49m\u001b[39m./GBT_Model\u001b[39;49m\u001b[39m\"\u001b[39;49m)\n",
      "File \u001b[1;32m~\\AppData\\Local\\Programs\\Python\\Python311\\Lib\\site-packages\\pyspark\\ml\\util.py:353\u001b[0m, in \u001b[0;36mMLReadable.load\u001b[1;34m(cls, path)\u001b[0m\n\u001b[0;32m    350\u001b[0m \u001b[39m@classmethod\u001b[39m\n\u001b[0;32m    351\u001b[0m \u001b[39mdef\u001b[39;00m \u001b[39mload\u001b[39m(\u001b[39mcls\u001b[39m, path: \u001b[39mstr\u001b[39m) \u001b[39m-\u001b[39m\u001b[39m>\u001b[39m RL:\n\u001b[0;32m    352\u001b[0m \u001b[39m    \u001b[39m\u001b[39m\"\"\"Reads an ML instance from the input path, a shortcut of `read().load(path)`.\"\"\"\u001b[39;00m\n\u001b[1;32m--> 353\u001b[0m     \u001b[39mreturn\u001b[39;00m \u001b[39mcls\u001b[39;49m\u001b[39m.\u001b[39;49mread()\u001b[39m.\u001b[39;49mload(path)\n",
      "File \u001b[1;32m~\\AppData\\Local\\Programs\\Python\\Python311\\Lib\\site-packages\\pyspark\\ml\\pipeline.py:282\u001b[0m, in \u001b[0;36mPipelineModelReader.load\u001b[1;34m(self, path)\u001b[0m\n\u001b[0;32m    281\u001b[0m \u001b[39mdef\u001b[39;00m \u001b[39mload\u001b[39m(\u001b[39mself\u001b[39m, path: \u001b[39mstr\u001b[39m) \u001b[39m-\u001b[39m\u001b[39m>\u001b[39m \u001b[39m\"\u001b[39m\u001b[39mPipelineModel\u001b[39m\u001b[39m\"\u001b[39m:\n\u001b[1;32m--> 282\u001b[0m     metadata \u001b[39m=\u001b[39m DefaultParamsReader\u001b[39m.\u001b[39;49mloadMetadata(path, \u001b[39mself\u001b[39;49m\u001b[39m.\u001b[39;49msc)\n\u001b[0;32m    283\u001b[0m     \u001b[39mif\u001b[39;00m \u001b[39m\"\u001b[39m\u001b[39mlanguage\u001b[39m\u001b[39m\"\u001b[39m \u001b[39mnot\u001b[39;00m \u001b[39min\u001b[39;00m metadata[\u001b[39m\"\u001b[39m\u001b[39mparamMap\u001b[39m\u001b[39m\"\u001b[39m] \u001b[39mor\u001b[39;00m metadata[\u001b[39m\"\u001b[39m\u001b[39mparamMap\u001b[39m\u001b[39m\"\u001b[39m][\u001b[39m\"\u001b[39m\u001b[39mlanguage\u001b[39m\u001b[39m\"\u001b[39m] \u001b[39m!=\u001b[39m \u001b[39m\"\u001b[39m\u001b[39mPython\u001b[39m\u001b[39m\"\u001b[39m:\n\u001b[0;32m    284\u001b[0m         \u001b[39mreturn\u001b[39;00m JavaMLReader(cast(Type[\u001b[39m\"\u001b[39m\u001b[39mJavaMLReadable[PipelineModel]\u001b[39m\u001b[39m\"\u001b[39m], \u001b[39mself\u001b[39m\u001b[39m.\u001b[39mcls))\u001b[39m.\u001b[39mload(path)\n",
      "File \u001b[1;32m~\\AppData\\Local\\Programs\\Python\\Python311\\Lib\\site-packages\\pyspark\\ml\\util.py:563\u001b[0m, in \u001b[0;36mDefaultParamsReader.loadMetadata\u001b[1;34m(path, sc, expectedClassName)\u001b[0m\n\u001b[0;32m    552\u001b[0m \u001b[39m\u001b[39m\u001b[39m\"\"\"\u001b[39;00m\n\u001b[0;32m    553\u001b[0m \u001b[39mLoad metadata saved using :py:meth:`DefaultParamsWriter.saveMetadata`\u001b[39;00m\n\u001b[0;32m    554\u001b[0m \n\u001b[1;32m   (...)\u001b[0m\n\u001b[0;32m    560\u001b[0m \u001b[39m    If non empty, this is checked against the loaded metadata.\u001b[39;00m\n\u001b[0;32m    561\u001b[0m \u001b[39m\"\"\"\u001b[39;00m\n\u001b[0;32m    562\u001b[0m metadataPath \u001b[39m=\u001b[39m os\u001b[39m.\u001b[39mpath\u001b[39m.\u001b[39mjoin(path, \u001b[39m\"\u001b[39m\u001b[39mmetadata\u001b[39m\u001b[39m\"\u001b[39m)\n\u001b[1;32m--> 563\u001b[0m metadataStr \u001b[39m=\u001b[39m sc\u001b[39m.\u001b[39;49mtextFile(metadataPath, \u001b[39m1\u001b[39;49m)\u001b[39m.\u001b[39;49mfirst()\n\u001b[0;32m    564\u001b[0m loadedVals \u001b[39m=\u001b[39m DefaultParamsReader\u001b[39m.\u001b[39m_parseMetaData(metadataStr, expectedClassName)\n\u001b[0;32m    565\u001b[0m \u001b[39mreturn\u001b[39;00m loadedVals\n",
      "File \u001b[1;32m~\\AppData\\Local\\Programs\\Python\\Python311\\Lib\\site-packages\\pyspark\\rdd.py:2869\u001b[0m, in \u001b[0;36mRDD.first\u001b[1;34m(self)\u001b[0m\n\u001b[0;32m   2843\u001b[0m \u001b[39mdef\u001b[39;00m \u001b[39mfirst\u001b[39m(\u001b[39mself\u001b[39m: \u001b[39m\"\u001b[39m\u001b[39mRDD[T]\u001b[39m\u001b[39m\"\u001b[39m) \u001b[39m-\u001b[39m\u001b[39m>\u001b[39m T:\n\u001b[0;32m   2844\u001b[0m \u001b[39m    \u001b[39m\u001b[39m\"\"\"\u001b[39;00m\n\u001b[0;32m   2845\u001b[0m \u001b[39m    Return the first element in this RDD.\u001b[39;00m\n\u001b[0;32m   2846\u001b[0m \n\u001b[1;32m   (...)\u001b[0m\n\u001b[0;32m   2867\u001b[0m \u001b[39m    ValueError: RDD is empty\u001b[39;00m\n\u001b[0;32m   2868\u001b[0m \u001b[39m    \"\"\"\u001b[39;00m\n\u001b[1;32m-> 2869\u001b[0m     rs \u001b[39m=\u001b[39m \u001b[39mself\u001b[39;49m\u001b[39m.\u001b[39;49mtake(\u001b[39m1\u001b[39;49m)\n\u001b[0;32m   2870\u001b[0m     \u001b[39mif\u001b[39;00m rs:\n\u001b[0;32m   2871\u001b[0m         \u001b[39mreturn\u001b[39;00m rs[\u001b[39m0\u001b[39m]\n",
      "File \u001b[1;32m~\\AppData\\Local\\Programs\\Python\\Python311\\Lib\\site-packages\\pyspark\\rdd.py:2803\u001b[0m, in \u001b[0;36mRDD.take\u001b[1;34m(self, num)\u001b[0m\n\u001b[0;32m   2762\u001b[0m \u001b[39m\u001b[39m\u001b[39m\"\"\"\u001b[39;00m\n\u001b[0;32m   2763\u001b[0m \u001b[39mTake the first num elements of the RDD.\u001b[39;00m\n\u001b[0;32m   2764\u001b[0m \n\u001b[1;32m   (...)\u001b[0m\n\u001b[0;32m   2800\u001b[0m \u001b[39m[91, 92, 93]\u001b[39;00m\n\u001b[0;32m   2801\u001b[0m \u001b[39m\"\"\"\u001b[39;00m\n\u001b[0;32m   2802\u001b[0m items: List[T] \u001b[39m=\u001b[39m []\n\u001b[1;32m-> 2803\u001b[0m totalParts \u001b[39m=\u001b[39m \u001b[39mself\u001b[39;49m\u001b[39m.\u001b[39;49mgetNumPartitions()\n\u001b[0;32m   2804\u001b[0m partsScanned \u001b[39m=\u001b[39m \u001b[39m0\u001b[39m\n\u001b[0;32m   2806\u001b[0m \u001b[39mwhile\u001b[39;00m \u001b[39mlen\u001b[39m(items) \u001b[39m<\u001b[39m num \u001b[39mand\u001b[39;00m partsScanned \u001b[39m<\u001b[39m totalParts:\n\u001b[0;32m   2807\u001b[0m     \u001b[39m# The number of partitions to try in this iteration.\u001b[39;00m\n\u001b[0;32m   2808\u001b[0m     \u001b[39m# It is ok for this number to be greater than totalParts because\u001b[39;00m\n\u001b[0;32m   2809\u001b[0m     \u001b[39m# we actually cap it at totalParts in runJob.\u001b[39;00m\n",
      "File \u001b[1;32m~\\AppData\\Local\\Programs\\Python\\Python311\\Lib\\site-packages\\pyspark\\rdd.py:938\u001b[0m, in \u001b[0;36mRDD.getNumPartitions\u001b[1;34m(self)\u001b[0m\n\u001b[0;32m    921\u001b[0m \u001b[39mdef\u001b[39;00m \u001b[39mgetNumPartitions\u001b[39m(\u001b[39mself\u001b[39m) \u001b[39m-\u001b[39m\u001b[39m>\u001b[39m \u001b[39mint\u001b[39m:\n\u001b[0;32m    922\u001b[0m \u001b[39m    \u001b[39m\u001b[39m\"\"\"\u001b[39;00m\n\u001b[0;32m    923\u001b[0m \u001b[39m    Returns the number of partitions in RDD\u001b[39;00m\n\u001b[0;32m    924\u001b[0m \n\u001b[1;32m   (...)\u001b[0m\n\u001b[0;32m    936\u001b[0m \u001b[39m    2\u001b[39;00m\n\u001b[0;32m    937\u001b[0m \u001b[39m    \"\"\"\u001b[39;00m\n\u001b[1;32m--> 938\u001b[0m     \u001b[39mreturn\u001b[39;00m \u001b[39mself\u001b[39;49m\u001b[39m.\u001b[39;49m_jrdd\u001b[39m.\u001b[39;49mpartitions()\u001b[39m.\u001b[39msize()\n",
      "File \u001b[1;32m~\\AppData\\Local\\Programs\\Python\\Python311\\Lib\\site-packages\\py4j\\java_gateway.py:1322\u001b[0m, in \u001b[0;36mJavaMember.__call__\u001b[1;34m(self, *args)\u001b[0m\n\u001b[0;32m   1316\u001b[0m command \u001b[39m=\u001b[39m proto\u001b[39m.\u001b[39mCALL_COMMAND_NAME \u001b[39m+\u001b[39m\\\n\u001b[0;32m   1317\u001b[0m     \u001b[39mself\u001b[39m\u001b[39m.\u001b[39mcommand_header \u001b[39m+\u001b[39m\\\n\u001b[0;32m   1318\u001b[0m     args_command \u001b[39m+\u001b[39m\\\n\u001b[0;32m   1319\u001b[0m     proto\u001b[39m.\u001b[39mEND_COMMAND_PART\n\u001b[0;32m   1321\u001b[0m answer \u001b[39m=\u001b[39m \u001b[39mself\u001b[39m\u001b[39m.\u001b[39mgateway_client\u001b[39m.\u001b[39msend_command(command)\n\u001b[1;32m-> 1322\u001b[0m return_value \u001b[39m=\u001b[39m get_return_value(\n\u001b[0;32m   1323\u001b[0m     answer, \u001b[39mself\u001b[39;49m\u001b[39m.\u001b[39;49mgateway_client, \u001b[39mself\u001b[39;49m\u001b[39m.\u001b[39;49mtarget_id, \u001b[39mself\u001b[39;49m\u001b[39m.\u001b[39;49mname)\n\u001b[0;32m   1325\u001b[0m \u001b[39mfor\u001b[39;00m temp_arg \u001b[39min\u001b[39;00m temp_args:\n\u001b[0;32m   1326\u001b[0m     \u001b[39mif\u001b[39;00m \u001b[39mhasattr\u001b[39m(temp_arg, \u001b[39m\"\u001b[39m\u001b[39m_detach\u001b[39m\u001b[39m\"\u001b[39m):\n",
      "File \u001b[1;32m~\\AppData\\Local\\Programs\\Python\\Python311\\Lib\\site-packages\\pyspark\\errors\\exceptions\\captured.py:169\u001b[0m, in \u001b[0;36mcapture_sql_exception.<locals>.deco\u001b[1;34m(*a, **kw)\u001b[0m\n\u001b[0;32m    167\u001b[0m \u001b[39mdef\u001b[39;00m \u001b[39mdeco\u001b[39m(\u001b[39m*\u001b[39ma: Any, \u001b[39m*\u001b[39m\u001b[39m*\u001b[39mkw: Any) \u001b[39m-\u001b[39m\u001b[39m>\u001b[39m Any:\n\u001b[0;32m    168\u001b[0m     \u001b[39mtry\u001b[39;00m:\n\u001b[1;32m--> 169\u001b[0m         \u001b[39mreturn\u001b[39;00m f(\u001b[39m*\u001b[39;49ma, \u001b[39m*\u001b[39;49m\u001b[39m*\u001b[39;49mkw)\n\u001b[0;32m    170\u001b[0m     \u001b[39mexcept\u001b[39;00m Py4JJavaError \u001b[39mas\u001b[39;00m e:\n\u001b[0;32m    171\u001b[0m         converted \u001b[39m=\u001b[39m convert_exception(e\u001b[39m.\u001b[39mjava_exception)\n",
      "File \u001b[1;32m~\\AppData\\Local\\Programs\\Python\\Python311\\Lib\\site-packages\\py4j\\protocol.py:326\u001b[0m, in \u001b[0;36mget_return_value\u001b[1;34m(answer, gateway_client, target_id, name)\u001b[0m\n\u001b[0;32m    324\u001b[0m value \u001b[39m=\u001b[39m OUTPUT_CONVERTER[\u001b[39mtype\u001b[39m](answer[\u001b[39m2\u001b[39m:], gateway_client)\n\u001b[0;32m    325\u001b[0m \u001b[39mif\u001b[39;00m answer[\u001b[39m1\u001b[39m] \u001b[39m==\u001b[39m REFERENCE_TYPE:\n\u001b[1;32m--> 326\u001b[0m     \u001b[39mraise\u001b[39;00m Py4JJavaError(\n\u001b[0;32m    327\u001b[0m         \u001b[39m\"\u001b[39m\u001b[39mAn error occurred while calling \u001b[39m\u001b[39m{0}\u001b[39;00m\u001b[39m{1}\u001b[39;00m\u001b[39m{2}\u001b[39;00m\u001b[39m.\u001b[39m\u001b[39m\\n\u001b[39;00m\u001b[39m\"\u001b[39m\u001b[39m.\u001b[39m\n\u001b[0;32m    328\u001b[0m         \u001b[39mformat\u001b[39m(target_id, \u001b[39m\"\u001b[39m\u001b[39m.\u001b[39m\u001b[39m\"\u001b[39m, name), value)\n\u001b[0;32m    329\u001b[0m \u001b[39melse\u001b[39;00m:\n\u001b[0;32m    330\u001b[0m     \u001b[39mraise\u001b[39;00m Py4JError(\n\u001b[0;32m    331\u001b[0m         \u001b[39m\"\u001b[39m\u001b[39mAn error occurred while calling \u001b[39m\u001b[39m{0}\u001b[39;00m\u001b[39m{1}\u001b[39;00m\u001b[39m{2}\u001b[39;00m\u001b[39m. Trace:\u001b[39m\u001b[39m\\n\u001b[39;00m\u001b[39m{3}\u001b[39;00m\u001b[39m\\n\u001b[39;00m\u001b[39m\"\u001b[39m\u001b[39m.\u001b[39m\n\u001b[0;32m    332\u001b[0m         \u001b[39mformat\u001b[39m(target_id, \u001b[39m\"\u001b[39m\u001b[39m.\u001b[39m\u001b[39m\"\u001b[39m, name, value))\n",
      "\u001b[1;31mPy4JJavaError\u001b[0m: An error occurred while calling o1696.partitions.\n: org.apache.hadoop.mapred.InvalidInputException: Input path does not exist: file:/d:/CLASSSWORKKK/BD/BD_PROJECT/GBT_Model/metadata\r\n\tat org.apache.hadoop.mapred.FileInputFormat.singleThreadedListStatus(FileInputFormat.java:304)\r\n\tat org.apache.hadoop.mapred.FileInputFormat.listStatus(FileInputFormat.java:244)\r\n\tat org.apache.hadoop.mapred.FileInputFormat.getSplits(FileInputFormat.java:332)\r\n\tat org.apache.spark.rdd.HadoopRDD.getPartitions(HadoopRDD.scala:208)\r\n\tat org.apache.spark.rdd.RDD.$anonfun$partitions$2(RDD.scala:291)\r\n\tat scala.Option.getOrElse(Option.scala:189)\r\n\tat org.apache.spark.rdd.RDD.partitions(RDD.scala:287)\r\n\tat org.apache.spark.rdd.MapPartitionsRDD.getPartitions(MapPartitionsRDD.scala:49)\r\n\tat org.apache.spark.rdd.RDD.$anonfun$partitions$2(RDD.scala:291)\r\n\tat scala.Option.getOrElse(Option.scala:189)\r\n\tat org.apache.spark.rdd.RDD.partitions(RDD.scala:287)\r\n\tat org.apache.spark.api.java.JavaRDDLike.partitions(JavaRDDLike.scala:61)\r\n\tat org.apache.spark.api.java.JavaRDDLike.partitions$(JavaRDDLike.scala:61)\r\n\tat org.apache.spark.api.java.AbstractJavaRDDLike.partitions(JavaRDDLike.scala:45)\r\n\tat java.base/jdk.internal.reflect.NativeMethodAccessorImpl.invoke0(Native Method)\r\n\tat java.base/jdk.internal.reflect.NativeMethodAccessorImpl.invoke(NativeMethodAccessorImpl.java:62)\r\n\tat java.base/jdk.internal.reflect.DelegatingMethodAccessorImpl.invoke(DelegatingMethodAccessorImpl.java:43)\r\n\tat java.base/java.lang.reflect.Method.invoke(Method.java:566)\r\n\tat py4j.reflection.MethodInvoker.invoke(MethodInvoker.java:244)\r\n\tat py4j.reflection.ReflectionEngine.invoke(ReflectionEngine.java:374)\r\n\tat py4j.Gateway.invoke(Gateway.java:282)\r\n\tat py4j.commands.AbstractCommand.invokeMethod(AbstractCommand.java:132)\r\n\tat py4j.commands.CallCommand.execute(CallCommand.java:79)\r\n\tat py4j.ClientServerConnection.waitForCommands(ClientServerConnection.java:182)\r\n\tat py4j.ClientServerConnection.run(ClientServerConnection.java:106)\r\n\tat java.base/java.lang.Thread.run(Thread.java:834)\r\nCaused by: java.io.IOException: Input path does not exist: file:/d:/CLASSSWORKKK/BD/BD_PROJECT/GBT_Model/metadata\r\n\tat org.apache.hadoop.mapred.FileInputFormat.singleThreadedListStatus(FileInputFormat.java:278)\r\n\t... 25 more\r\n"
     ]
    }
   ],
   "source": [
    "from pyspark.ml.pipeline import PipelineModel\n",
    "LoadedModel = PipelineModel.load(\"./GBT_Model\")"
   ]
  },
  {
   "cell_type": "code",
   "execution_count": null,
   "id": "c02e7949",
   "metadata": {},
   "outputs": [],
   "source": []
  }
 ],
 "metadata": {
  "kernelspec": {
   "display_name": "Python 3",
   "language": "python",
   "name": "python3"
  },
  "language_info": {
   "codemirror_mode": {
    "name": "ipython",
    "version": 3
   },
   "file_extension": ".py",
   "mimetype": "text/x-python",
   "name": "python",
   "nbconvert_exporter": "python",
   "pygments_lexer": "ipython3",
   "version": "3.11.3"
  }
 },
 "nbformat": 4,
 "nbformat_minor": 5
}
